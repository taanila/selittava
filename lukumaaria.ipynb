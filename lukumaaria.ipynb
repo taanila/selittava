{
 "cells": [
  {
   "cell_type": "markdown",
   "metadata": {},
   "source": [
    "<h1>Lukumäärä- ja prosentti-yhteenvedot</h1>\n",
    "\n",
    "Tämä Jypyter-notebook sisältää likimain kaiken tarvittavan lukumäärien ja prosenttien laskemiseen ja esittämiseen Pythonilla."
   ]
  },
  {
   "cell_type": "code",
   "execution_count": 1,
   "metadata": {},
   "outputs": [],
   "source": [
    "# Tuon tarvittavat kirjastot\n",
    "import numpy as np\n",
    "import pandas as pd\n",
    "import matplotlib.pyplot as plt\n",
    "\n",
    "# Kaavioiden automaattitulostus notebookiin ja kaavioiden tyyli\n",
    "%matplotlib inline\n",
    "plt.style.use('seaborn-whitegrid')\n",
    "\n",
    "# Pylväskaavoiden prosenttiakselien tuunausta varten\n",
    "from matplotlib.ticker import PercentFormatter\n",
    "\n",
    "# ...jos prosentit desimaalilukuina\n",
    "myFmt1 = PercentFormatter(xmax=1, decimals=0, symbol=' %')\n",
    "\n",
    "# ...jos prosentit on jo valmiiksi kerrottu sadalla\n",
    "myFmt100 = PercentFormatter(xmax=100, decimals=0, symbol=' %')"
   ]
  },
  {
   "cell_type": "code",
   "execution_count": 2,
   "metadata": {},
   "outputs": [
    {
     "data": {
      "text/html": [
       "<div>\n",
       "<style scoped>\n",
       "    .dataframe tbody tr th:only-of-type {\n",
       "        vertical-align: middle;\n",
       "    }\n",
       "\n",
       "    .dataframe tbody tr th {\n",
       "        vertical-align: top;\n",
       "    }\n",
       "\n",
       "    .dataframe thead th {\n",
       "        text-align: right;\n",
       "    }\n",
       "</style>\n",
       "<table border=\"1\" class=\"dataframe\">\n",
       "  <thead>\n",
       "    <tr style=\"text-align: right;\">\n",
       "      <th></th>\n",
       "      <th>nro</th>\n",
       "      <th>sukup</th>\n",
       "      <th>ikä</th>\n",
       "      <th>perhe</th>\n",
       "      <th>koulutus</th>\n",
       "      <th>palveluv</th>\n",
       "      <th>palkka</th>\n",
       "      <th>johto</th>\n",
       "      <th>työtov</th>\n",
       "      <th>työymp</th>\n",
       "      <th>palkkat</th>\n",
       "      <th>työteht</th>\n",
       "      <th>työterv</th>\n",
       "      <th>lomaosa</th>\n",
       "      <th>kuntosa</th>\n",
       "      <th>hieroja</th>\n",
       "    </tr>\n",
       "  </thead>\n",
       "  <tbody>\n",
       "    <tr>\n",
       "      <th>0</th>\n",
       "      <td>1</td>\n",
       "      <td>1</td>\n",
       "      <td>38</td>\n",
       "      <td>1</td>\n",
       "      <td>1.0</td>\n",
       "      <td>22.0</td>\n",
       "      <td>3587</td>\n",
       "      <td>3</td>\n",
       "      <td>3.0</td>\n",
       "      <td>3</td>\n",
       "      <td>3</td>\n",
       "      <td>3</td>\n",
       "      <td>NaN</td>\n",
       "      <td>NaN</td>\n",
       "      <td>NaN</td>\n",
       "      <td>NaN</td>\n",
       "    </tr>\n",
       "    <tr>\n",
       "      <th>1</th>\n",
       "      <td>2</td>\n",
       "      <td>1</td>\n",
       "      <td>29</td>\n",
       "      <td>2</td>\n",
       "      <td>2.0</td>\n",
       "      <td>10.0</td>\n",
       "      <td>2963</td>\n",
       "      <td>1</td>\n",
       "      <td>5.0</td>\n",
       "      <td>2</td>\n",
       "      <td>1</td>\n",
       "      <td>3</td>\n",
       "      <td>NaN</td>\n",
       "      <td>NaN</td>\n",
       "      <td>NaN</td>\n",
       "      <td>NaN</td>\n",
       "    </tr>\n",
       "    <tr>\n",
       "      <th>2</th>\n",
       "      <td>3</td>\n",
       "      <td>1</td>\n",
       "      <td>30</td>\n",
       "      <td>1</td>\n",
       "      <td>1.0</td>\n",
       "      <td>7.0</td>\n",
       "      <td>1989</td>\n",
       "      <td>3</td>\n",
       "      <td>4.0</td>\n",
       "      <td>1</td>\n",
       "      <td>1</td>\n",
       "      <td>3</td>\n",
       "      <td>1.0</td>\n",
       "      <td>NaN</td>\n",
       "      <td>NaN</td>\n",
       "      <td>NaN</td>\n",
       "    </tr>\n",
       "    <tr>\n",
       "      <th>3</th>\n",
       "      <td>4</td>\n",
       "      <td>1</td>\n",
       "      <td>36</td>\n",
       "      <td>2</td>\n",
       "      <td>1.0</td>\n",
       "      <td>14.0</td>\n",
       "      <td>2144</td>\n",
       "      <td>3</td>\n",
       "      <td>3.0</td>\n",
       "      <td>3</td>\n",
       "      <td>3</td>\n",
       "      <td>3</td>\n",
       "      <td>1.0</td>\n",
       "      <td>NaN</td>\n",
       "      <td>NaN</td>\n",
       "      <td>NaN</td>\n",
       "    </tr>\n",
       "    <tr>\n",
       "      <th>4</th>\n",
       "      <td>5</td>\n",
       "      <td>1</td>\n",
       "      <td>24</td>\n",
       "      <td>1</td>\n",
       "      <td>2.0</td>\n",
       "      <td>4.0</td>\n",
       "      <td>2183</td>\n",
       "      <td>2</td>\n",
       "      <td>3.0</td>\n",
       "      <td>2</td>\n",
       "      <td>1</td>\n",
       "      <td>2</td>\n",
       "      <td>1.0</td>\n",
       "      <td>NaN</td>\n",
       "      <td>NaN</td>\n",
       "      <td>NaN</td>\n",
       "    </tr>\n",
       "  </tbody>\n",
       "</table>\n",
       "</div>"
      ],
      "text/plain": [
       "   nro  sukup  ikä  perhe  koulutus  palveluv  palkka  johto  työtov  työymp  \\\n",
       "0    1      1   38      1       1.0      22.0    3587      3     3.0       3   \n",
       "1    2      1   29      2       2.0      10.0    2963      1     5.0       2   \n",
       "2    3      1   30      1       1.0       7.0    1989      3     4.0       1   \n",
       "3    4      1   36      2       1.0      14.0    2144      3     3.0       3   \n",
       "4    5      1   24      1       2.0       4.0    2183      2     3.0       2   \n",
       "\n",
       "   palkkat  työteht  työterv  lomaosa  kuntosa  hieroja  \n",
       "0        3        3      NaN      NaN      NaN      NaN  \n",
       "1        1        3      NaN      NaN      NaN      NaN  \n",
       "2        1        3      1.0      NaN      NaN      NaN  \n",
       "3        3        3      1.0      NaN      NaN      NaN  \n",
       "4        1        2      1.0      NaN      NaN      NaN  "
      ]
     },
     "execution_count": 2,
     "metadata": {},
     "output_type": "execute_result"
    }
   ],
   "source": [
    "# Avaan datan\n",
    "df = pd.read_excel('http://taanila.fi/data1.xlsx')\n",
    "\n",
    "# Näytän 5 ensimmäistä riviä\n",
    "df.head()"
   ]
  },
  {
   "cell_type": "markdown",
   "metadata": {},
   "source": [
    "<h2>Muuttujien tekstimuotoiset arvot</h2>\n",
    "\n",
    "Muuttujien mahdolliset tektimuotoiset arvot kannattaa tallentaa lista-muuttujiin. Listoja on myöhemmin helppo lisätä tulostaulukoihin."
   ]
  },
  {
   "cell_type": "code",
   "execution_count": 3,
   "metadata": {},
   "outputs": [],
   "source": [
    "koulutus = ['Peruskoulu', '2. aste', 'Korkeakoulu', 'Ylempi korkeakoulu']\n",
    "\n",
    "perhe = ['Perheetön', 'Perheellinen']\n",
    "\n",
    "sukup = ['Mies', 'Nainen']\n",
    "\n",
    "tyytyväisyys = ['Erittäin tyytymätön', 'Jokseenkin tyytymätön', 'Ei tyytymätön eikä tyytyväinen', \n",
    "                'Jokseenkin tyytyväinen', 'Erittäin tyytyväinen']\n",
    "\n",
    "# Monivalintakysymyksen (mitä etuisuuksia olet käyttänyt?) vaihtoehtojen lista\n",
    "monivalinnat = ['työterv', 'lomaosa', 'kuntosa', 'hieroja']"
   ]
  },
  {
   "cell_type": "markdown",
   "metadata": {},
   "source": [
    "<h2>crosstab() laskee lukumäärät</h2>\n",
    "\n",
    "<b>crosstab()</b> palauttaa tuloksena dataframen. Voin helposti luoda dataframeen uuden sarakkeen, johon lasken prosentit. \n",
    "\n",
    "Kryptisen näköiseen <b>style.format()</b>-toimintoon kannattaa perehtyä huolella. Se ei vaikuta dataframen sisältöön, vaan ainoastaan tässä tulostetun version ulkoasuun.\n",
    "\n",
    "<b>plot</b> on nopein tapa numerotiedon esittämiseen kaaviona. Tässä käytän vaakapylväitä (<b>barh</b>). plot palauttaa <b>Axes</b>-tyyppisen olion, jota voin käyttää kaavion muotoiluun. Tässä tarvitsen Axes-oliota arvoakselin lukujen muotoiluun."
   ]
  },
  {
   "cell_type": "code",
   "execution_count": 4,
   "metadata": {},
   "outputs": [
    {
     "data": {
      "text/html": [
       "<div>\n",
       "<style scoped>\n",
       "    .dataframe tbody tr th:only-of-type {\n",
       "        vertical-align: middle;\n",
       "    }\n",
       "\n",
       "    .dataframe tbody tr th {\n",
       "        vertical-align: top;\n",
       "    }\n",
       "\n",
       "    .dataframe thead th {\n",
       "        text-align: right;\n",
       "    }\n",
       "</style>\n",
       "<table border=\"1\" class=\"dataframe\">\n",
       "  <thead>\n",
       "    <tr style=\"text-align: right;\">\n",
       "      <th></th>\n",
       "      <th>n</th>\n",
       "    </tr>\n",
       "  </thead>\n",
       "  <tbody>\n",
       "    <tr>\n",
       "      <th>Peruskoulu</th>\n",
       "      <td>27</td>\n",
       "    </tr>\n",
       "    <tr>\n",
       "      <th>2. aste</th>\n",
       "      <td>30</td>\n",
       "    </tr>\n",
       "    <tr>\n",
       "      <th>Korkeakoulu</th>\n",
       "      <td>22</td>\n",
       "    </tr>\n",
       "    <tr>\n",
       "      <th>Ylempi korkeakoulu</th>\n",
       "      <td>2</td>\n",
       "    </tr>\n",
       "  </tbody>\n",
       "</table>\n",
       "</div>"
      ],
      "text/plain": [
       "                     n\n",
       "Peruskoulu          27\n",
       "2. aste             30\n",
       "Korkeakoulu         22\n",
       "Ylempi korkeakoulu   2"
      ]
     },
     "execution_count": 4,
     "metadata": {},
     "output_type": "execute_result"
    }
   ],
   "source": [
    "df1 = pd.crosstab(df['koulutus'], 'n')\n",
    "\n",
    "# Korvaan riviotsikot aiemmin määritellyllä koulutus-listalla\n",
    "df1.index = koulutus\n",
    "\n",
    "# Poistan vasemmasta yläkulmasta häiritsevän otsikon\n",
    "df1.columns.name = ''\n",
    "\n",
    "df1"
   ]
  },
  {
   "cell_type": "code",
   "execution_count": 5,
   "metadata": {},
   "outputs": [
    {
     "data": {
      "text/html": [
       "<style  type=\"text/css\" >\n",
       "</style><table id=\"T_f5b112d8_5f31_11eb_b1e2_00e18c75b321\" ><thead>    <tr>        <th class=\"index_name level0\" ></th>        <th class=\"col_heading level0 col0\" >n</th>        <th class=\"col_heading level0 col1\" >%</th>    </tr></thead><tbody>\n",
       "                <tr>\n",
       "                        <th id=\"T_f5b112d8_5f31_11eb_b1e2_00e18c75b321level0_row0\" class=\"row_heading level0 row0\" >Peruskoulu</th>\n",
       "                        <td id=\"T_f5b112d8_5f31_11eb_b1e2_00e18c75b321row0_col0\" class=\"data row0 col0\" >27</td>\n",
       "                        <td id=\"T_f5b112d8_5f31_11eb_b1e2_00e18c75b321row0_col1\" class=\"data row0 col1\" >33.3 %</td>\n",
       "            </tr>\n",
       "            <tr>\n",
       "                        <th id=\"T_f5b112d8_5f31_11eb_b1e2_00e18c75b321level0_row1\" class=\"row_heading level0 row1\" >2. aste</th>\n",
       "                        <td id=\"T_f5b112d8_5f31_11eb_b1e2_00e18c75b321row1_col0\" class=\"data row1 col0\" >30</td>\n",
       "                        <td id=\"T_f5b112d8_5f31_11eb_b1e2_00e18c75b321row1_col1\" class=\"data row1 col1\" >37.0 %</td>\n",
       "            </tr>\n",
       "            <tr>\n",
       "                        <th id=\"T_f5b112d8_5f31_11eb_b1e2_00e18c75b321level0_row2\" class=\"row_heading level0 row2\" >Korkeakoulu</th>\n",
       "                        <td id=\"T_f5b112d8_5f31_11eb_b1e2_00e18c75b321row2_col0\" class=\"data row2 col0\" >22</td>\n",
       "                        <td id=\"T_f5b112d8_5f31_11eb_b1e2_00e18c75b321row2_col1\" class=\"data row2 col1\" >27.2 %</td>\n",
       "            </tr>\n",
       "            <tr>\n",
       "                        <th id=\"T_f5b112d8_5f31_11eb_b1e2_00e18c75b321level0_row3\" class=\"row_heading level0 row3\" >Ylempi korkeakoulu</th>\n",
       "                        <td id=\"T_f5b112d8_5f31_11eb_b1e2_00e18c75b321row3_col0\" class=\"data row3 col0\" >2</td>\n",
       "                        <td id=\"T_f5b112d8_5f31_11eb_b1e2_00e18c75b321row3_col1\" class=\"data row3 col1\" >2.5 %</td>\n",
       "            </tr>\n",
       "    </tbody></table>"
      ],
      "text/plain": [
       "<pandas.io.formats.style.Styler at 0x2b651a32580>"
      ]
     },
     "execution_count": 5,
     "metadata": {},
     "output_type": "execute_result"
    }
   ],
   "source": [
    "# Lisään prosentti-sarakkeen\n",
    "n = df1['n'].sum()\n",
    "df1['%'] = df1/n*100\n",
    "\n",
    "# Muotoilen prosentit yhden desimaalin tarkkuuteen\n",
    "df1.style.format({'%': '{:.1f} %'})"
   ]
  },
  {
   "cell_type": "code",
   "execution_count": 6,
   "metadata": {
    "scrolled": false
   },
   "outputs": [
    {
     "data": {
      "image/png": "[encoded data removed]",
      "text/plain": [
       "<Figure size 432x288 with 1 Axes>"
      ]
     },
     "metadata": {},
     "output_type": "display_data"
    }
   ],
   "source": [
    "# Vaakapylväskaavio prosenteista\n",
    "ax1 = df1['%'].plot.barh()\n",
    "\n",
    "# x-akselin otsikointi; n-arvo mukaan\n",
    "ax1.set_xlabel('Prosenttia, n=' + str(n))\n",
    "\n",
    "# x-akselin ticksien tuunaus\n",
    "ax1.xaxis.set_major_formatter(myFmt100)\n",
    "\n",
    "# Vaihtoehtoinen tapa x-akselin ticksien tuunaukseen\n",
    "#ax1.set_xticklabels(['{:.0f} %'.format(x) for x in ax1.get_xticks()])"
   ]
  },
  {
   "cell_type": "markdown",
   "metadata": {},
   "source": [
    "<h2>crosstab() laskee ristiintaulukoinnit</h2>\n",
    "\n"
   ]
  },
  {
   "cell_type": "code",
   "execution_count": 7,
   "metadata": {},
   "outputs": [
    {
     "data": {
      "text/html": [
       "<div>\n",
       "<style scoped>\n",
       "    .dataframe tbody tr th:only-of-type {\n",
       "        vertical-align: middle;\n",
       "    }\n",
       "\n",
       "    .dataframe tbody tr th {\n",
       "        vertical-align: top;\n",
       "    }\n",
       "\n",
       "    .dataframe thead th {\n",
       "        text-align: right;\n",
       "    }\n",
       "</style>\n",
       "<table border=\"1\" class=\"dataframe\">\n",
       "  <thead>\n",
       "    <tr style=\"text-align: right;\">\n",
       "      <th></th>\n",
       "      <th>Mies</th>\n",
       "      <th>Nainen</th>\n",
       "    </tr>\n",
       "  </thead>\n",
       "  <tbody>\n",
       "    <tr>\n",
       "      <th>Peruskoulu</th>\n",
       "      <td>22</td>\n",
       "      <td>5</td>\n",
       "    </tr>\n",
       "    <tr>\n",
       "      <th>2. aste</th>\n",
       "      <td>23</td>\n",
       "      <td>7</td>\n",
       "    </tr>\n",
       "    <tr>\n",
       "      <th>Korkeakoulu</th>\n",
       "      <td>15</td>\n",
       "      <td>7</td>\n",
       "    </tr>\n",
       "    <tr>\n",
       "      <th>Ylempi korkeakoulu</th>\n",
       "      <td>2</td>\n",
       "      <td>0</td>\n",
       "    </tr>\n",
       "  </tbody>\n",
       "</table>\n",
       "</div>"
      ],
      "text/plain": [
       "                    Mies  Nainen\n",
       "Peruskoulu            22       5\n",
       "2. aste               23       7\n",
       "Korkeakoulu           15       7\n",
       "Ylempi korkeakoulu     2       0"
      ]
     },
     "execution_count": 7,
     "metadata": {},
     "output_type": "execute_result"
    }
   ],
   "source": [
    "# Ristiintaulukointi\n",
    "df2 = pd.crosstab(df['koulutus'], df['sukup'])\n",
    "\n",
    "# Otsikot kuntoon:\n",
    "df2.index = koulutus\n",
    "df2.columns = sukup\n",
    "\n",
    "df2"
   ]
  },
  {
   "cell_type": "code",
   "execution_count": 8,
   "metadata": {},
   "outputs": [
    {
     "data": {
      "text/html": [
       "<style  type=\"text/css\" >\n",
       "</style><table id=\"T_f5d0a285_5f31_11eb_bd22_00e18c75b321\" ><thead>    <tr>        <th class=\"blank level0\" ></th>        <th class=\"col_heading level0 col0\" >Mies, n=62</th>        <th class=\"col_heading level0 col1\" >Nainen, n=19</th>    </tr></thead><tbody>\n",
       "                <tr>\n",
       "                        <th id=\"T_f5d0a285_5f31_11eb_bd22_00e18c75b321level0_row0\" class=\"row_heading level0 row0\" >Peruskoulu</th>\n",
       "                        <td id=\"T_f5d0a285_5f31_11eb_bd22_00e18c75b321row0_col0\" class=\"data row0 col0\" >35.5 %</td>\n",
       "                        <td id=\"T_f5d0a285_5f31_11eb_bd22_00e18c75b321row0_col1\" class=\"data row0 col1\" >26.3 %</td>\n",
       "            </tr>\n",
       "            <tr>\n",
       "                        <th id=\"T_f5d0a285_5f31_11eb_bd22_00e18c75b321level0_row1\" class=\"row_heading level0 row1\" >2. aste</th>\n",
       "                        <td id=\"T_f5d0a285_5f31_11eb_bd22_00e18c75b321row1_col0\" class=\"data row1 col0\" >37.1 %</td>\n",
       "                        <td id=\"T_f5d0a285_5f31_11eb_bd22_00e18c75b321row1_col1\" class=\"data row1 col1\" >36.8 %</td>\n",
       "            </tr>\n",
       "            <tr>\n",
       "                        <th id=\"T_f5d0a285_5f31_11eb_bd22_00e18c75b321level0_row2\" class=\"row_heading level0 row2\" >Korkeakoulu</th>\n",
       "                        <td id=\"T_f5d0a285_5f31_11eb_bd22_00e18c75b321row2_col0\" class=\"data row2 col0\" >24.2 %</td>\n",
       "                        <td id=\"T_f5d0a285_5f31_11eb_bd22_00e18c75b321row2_col1\" class=\"data row2 col1\" >36.8 %</td>\n",
       "            </tr>\n",
       "            <tr>\n",
       "                        <th id=\"T_f5d0a285_5f31_11eb_bd22_00e18c75b321level0_row3\" class=\"row_heading level0 row3\" >Ylempi korkeakoulu</th>\n",
       "                        <td id=\"T_f5d0a285_5f31_11eb_bd22_00e18c75b321row3_col0\" class=\"data row3 col0\" >3.2 %</td>\n",
       "                        <td id=\"T_f5d0a285_5f31_11eb_bd22_00e18c75b321row3_col1\" class=\"data row3 col1\" >0.0 %</td>\n",
       "            </tr>\n",
       "    </tbody></table>"
      ],
      "text/plain": [
       "<pandas.io.formats.style.Styler at 0x2b651dbcdf0>"
      ]
     },
     "execution_count": 8,
     "metadata": {},
     "output_type": "execute_result"
    }
   ],
   "source": [
    "# Ristiintaulukointi, prosentit (normalize) sarakkeiden summista\n",
    "df3 = pd.crosstab(df['koulutus'], df['sukup'], normalize = 'columns')\n",
    "\n",
    "# Rivi (index) -otsikot koulutus-listasta\n",
    "df3.index = koulutus\n",
    "\n",
    "# Kikkailen n-arvot mukaan\n",
    "miehet = df2['Mies'].sum()\n",
    "naiset = df2['Nainen'].sum()\n",
    "df3.columns = ['Mies, n=' + str(miehet),'Nainen, n=' + str(naiset)]\n",
    "\n",
    "# Loppusilaus\n",
    "(df3*100).style.format('{:.1f} %')"
   ]
  },
  {
   "cell_type": "code",
   "execution_count": 9,
   "metadata": {},
   "outputs": [
    {
     "data": {
      "image/png": "[encoded data removed]",
      "text/plain": [
       "<Figure size 432x288 with 1 Axes>"
      ]
     },
     "metadata": {},
     "output_type": "display_data"
    }
   ],
   "source": [
    "# Edellinen pylväinä; legend='reverse' kääntää selitteen järjestyksen\n",
    "ax2 = df3.plot.barh(legend='reverse')\n",
    "\n",
    "ax2.set_xlabel('Prosenttia sukupuolesta')\n",
    "\n",
    "# x-akselin ticksien tuunaus\n",
    "ax2.xaxis.set_major_formatter(myFmt1)"
   ]
  },
  {
   "cell_type": "code",
   "execution_count": 10,
   "metadata": {},
   "outputs": [
    {
     "data": {
      "image/png": "[encoded data removed]",
      "text/plain": [
       "<Figure size 432x288 with 1 Axes>"
      ]
     },
     "metadata": {},
     "output_type": "display_data"
    }
   ],
   "source": [
    "# Edellinen 100 % pinottuina vaakapylväinä, T vaihtaa arvosarjat ja kategoriat päittäin\n",
    "ax3 = df3.T.plot.barh(stacked = True)\n",
    "\n",
    "ax3.set_xlabel('Prosenttia sukupuolesta')\n",
    "\n",
    "# Selitteen sijoittelu suhteessa origoon, selitteitä 4 vierekkäin\n",
    "ax3.legend(loc=(-0.15, -0.25), ncol=4)\n",
    " \n",
    "# x-akselin ticksien tuunaus\n",
    "ax3.xaxis.set_major_formatter(myFmt1)"
   ]
  },
  {
   "cell_type": "markdown",
   "metadata": {},
   "source": [
    "<h2>Useiden muuttujien frekvenssit yhteen taulukkoon</h2>\n",
    "\n",
    "Tämän tekeminen esimerkiksi Excelillä on vaikeahkoa. Pythonissa tämä sujuu helposti <b>value_counts()</b>-funktion avustuksella."
   ]
  },
  {
   "cell_type": "code",
   "execution_count": 11,
   "metadata": {},
   "outputs": [
    {
     "data": {
      "text/html": [
       "<style  type=\"text/css\" >\n",
       "</style><table id=\"T_f5fa3e12_5f31_11eb_9933_00e18c75b321\" ><thead>    <tr>        <th class=\"blank level0\" ></th>        <th class=\"col_heading level0 col0\" >johto, n=82</th>        <th class=\"col_heading level0 col1\" >työtov, n=81</th>        <th class=\"col_heading level0 col2\" >työymp, n=82</th>        <th class=\"col_heading level0 col3\" >palkkat, n=82</th>        <th class=\"col_heading level0 col4\" >työteht, n=82</th>    </tr></thead><tbody>\n",
       "                <tr>\n",
       "                        <th id=\"T_f5fa3e12_5f31_11eb_9933_00e18c75b321level0_row0\" class=\"row_heading level0 row0\" >Erittäin tyytymätön</th>\n",
       "                        <td id=\"T_f5fa3e12_5f31_11eb_9933_00e18c75b321row0_col0\" class=\"data row0 col0\" >8.5 %</td>\n",
       "                        <td id=\"T_f5fa3e12_5f31_11eb_9933_00e18c75b321row0_col1\" class=\"data row0 col1\" >nan %</td>\n",
       "                        <td id=\"T_f5fa3e12_5f31_11eb_9933_00e18c75b321row0_col2\" class=\"data row0 col2\" >11.0 %</td>\n",
       "                        <td id=\"T_f5fa3e12_5f31_11eb_9933_00e18c75b321row0_col3\" class=\"data row0 col3\" >40.2 %</td>\n",
       "                        <td id=\"T_f5fa3e12_5f31_11eb_9933_00e18c75b321row0_col4\" class=\"data row0 col4\" >6.1 %</td>\n",
       "            </tr>\n",
       "            <tr>\n",
       "                        <th id=\"T_f5fa3e12_5f31_11eb_9933_00e18c75b321level0_row1\" class=\"row_heading level0 row1\" >Jokseenkin tyytymätön</th>\n",
       "                        <td id=\"T_f5fa3e12_5f31_11eb_9933_00e18c75b321row1_col0\" class=\"data row1 col0\" >19.5 %</td>\n",
       "                        <td id=\"T_f5fa3e12_5f31_11eb_9933_00e18c75b321row1_col1\" class=\"data row1 col1\" >3.7 %</td>\n",
       "                        <td id=\"T_f5fa3e12_5f31_11eb_9933_00e18c75b321row1_col2\" class=\"data row1 col2\" >11.0 %</td>\n",
       "                        <td id=\"T_f5fa3e12_5f31_11eb_9933_00e18c75b321row1_col3\" class=\"data row1 col3\" >23.2 %</td>\n",
       "                        <td id=\"T_f5fa3e12_5f31_11eb_9933_00e18c75b321row1_col4\" class=\"data row1 col4\" >18.3 %</td>\n",
       "            </tr>\n",
       "            <tr>\n",
       "                        <th id=\"T_f5fa3e12_5f31_11eb_9933_00e18c75b321level0_row2\" class=\"row_heading level0 row2\" >Ei tyytymätön eikä tyytyväinen</th>\n",
       "                        <td id=\"T_f5fa3e12_5f31_11eb_9933_00e18c75b321row2_col0\" class=\"data row2 col0\" >36.6 %</td>\n",
       "                        <td id=\"T_f5fa3e12_5f31_11eb_9933_00e18c75b321row2_col1\" class=\"data row2 col1\" >19.8 %</td>\n",
       "                        <td id=\"T_f5fa3e12_5f31_11eb_9933_00e18c75b321row2_col2\" class=\"data row2 col2\" >36.6 %</td>\n",
       "                        <td id=\"T_f5fa3e12_5f31_11eb_9933_00e18c75b321row2_col3\" class=\"data row2 col3\" >23.2 %</td>\n",
       "                        <td id=\"T_f5fa3e12_5f31_11eb_9933_00e18c75b321row2_col4\" class=\"data row2 col4\" >35.4 %</td>\n",
       "            </tr>\n",
       "            <tr>\n",
       "                        <th id=\"T_f5fa3e12_5f31_11eb_9933_00e18c75b321level0_row3\" class=\"row_heading level0 row3\" >Jokseenkin tyytyväinen</th>\n",
       "                        <td id=\"T_f5fa3e12_5f31_11eb_9933_00e18c75b321row3_col0\" class=\"data row3 col0\" >28.0 %</td>\n",
       "                        <td id=\"T_f5fa3e12_5f31_11eb_9933_00e18c75b321row3_col1\" class=\"data row3 col1\" >43.2 %</td>\n",
       "                        <td id=\"T_f5fa3e12_5f31_11eb_9933_00e18c75b321row3_col2\" class=\"data row3 col2\" >28.0 %</td>\n",
       "                        <td id=\"T_f5fa3e12_5f31_11eb_9933_00e18c75b321row3_col3\" class=\"data row3 col3\" >12.2 %</td>\n",
       "                        <td id=\"T_f5fa3e12_5f31_11eb_9933_00e18c75b321row3_col4\" class=\"data row3 col4\" >30.5 %</td>\n",
       "            </tr>\n",
       "            <tr>\n",
       "                        <th id=\"T_f5fa3e12_5f31_11eb_9933_00e18c75b321level0_row4\" class=\"row_heading level0 row4\" >Erittäin tyytyväinen</th>\n",
       "                        <td id=\"T_f5fa3e12_5f31_11eb_9933_00e18c75b321row4_col0\" class=\"data row4 col0\" >7.3 %</td>\n",
       "                        <td id=\"T_f5fa3e12_5f31_11eb_9933_00e18c75b321row4_col1\" class=\"data row4 col1\" >33.3 %</td>\n",
       "                        <td id=\"T_f5fa3e12_5f31_11eb_9933_00e18c75b321row4_col2\" class=\"data row4 col2\" >13.4 %</td>\n",
       "                        <td id=\"T_f5fa3e12_5f31_11eb_9933_00e18c75b321row4_col3\" class=\"data row4 col3\" >1.2 %</td>\n",
       "                        <td id=\"T_f5fa3e12_5f31_11eb_9933_00e18c75b321row4_col4\" class=\"data row4 col4\" >9.8 %</td>\n",
       "            </tr>\n",
       "            <tr>\n",
       "                        <th id=\"T_f5fa3e12_5f31_11eb_9933_00e18c75b321level0_row5\" class=\"row_heading level0 row5\" >Yhteensä</th>\n",
       "                        <td id=\"T_f5fa3e12_5f31_11eb_9933_00e18c75b321row5_col0\" class=\"data row5 col0\" >100.0 %</td>\n",
       "                        <td id=\"T_f5fa3e12_5f31_11eb_9933_00e18c75b321row5_col1\" class=\"data row5 col1\" >100.0 %</td>\n",
       "                        <td id=\"T_f5fa3e12_5f31_11eb_9933_00e18c75b321row5_col2\" class=\"data row5 col2\" >100.0 %</td>\n",
       "                        <td id=\"T_f5fa3e12_5f31_11eb_9933_00e18c75b321row5_col3\" class=\"data row5 col3\" >100.0 %</td>\n",
       "                        <td id=\"T_f5fa3e12_5f31_11eb_9933_00e18c75b321row5_col4\" class=\"data row5 col4\" >100.0 %</td>\n",
       "            </tr>\n",
       "    </tbody></table>"
      ],
      "text/plain": [
       "<pandas.io.formats.style.Styler at 0x2b65261fc10>"
      ]
     },
     "execution_count": 11,
     "metadata": {},
     "output_type": "execute_result"
    }
   ],
   "source": [
    "# Lasken lukumääriä value_counts()-funktiolla ja muutan tuloksen dataframeksi\n",
    "df4 = df['johto'].value_counts(sort = False, normalize = True).to_frame()\n",
    "\n",
    "# Lisään dataframeen uusia sarakkeita\n",
    "df4['työtov'] = df['työtov'].value_counts(sort = False, normalize = True)\n",
    "df4['työymp'] = df['työymp'].value_counts(sort = False, normalize = True)\n",
    "df4['palkkat'] = df['palkkat'].value_counts(sort = False, normalize = True)\n",
    "df4['työteht'] = df['työteht'].value_counts(sort = False, normalize = True)\n",
    "\n",
    "# Riviotsikot aiemmin määritellystä tyytyväisyys-listasta\n",
    "df4.index = tyytyväisyys\n",
    "\n",
    "df4.loc['Yhteensä'] = df4.sum()\n",
    "\n",
    "# Kikkailen n-arvot otsikoihin\n",
    "for var in df4.columns:\n",
    "    df4 = df4.rename(columns = {var : var + ', n=' + str(df[var].count())})\n",
    "\n",
    "# Loppusilaus\n",
    "(df4*100).style.format('{:.1f} %')"
   ]
  },
  {
   "cell_type": "markdown",
   "metadata": {},
   "source": [
    "Seuraavassa määriteltävistä väreistä lisätietoa https://htmlcolorcodes.com/\n",
    "\n",
    "Voit määrittää värit käyttäen värien nimiä tai hex-värikoodeja."
   ]
  },
  {
   "cell_type": "code",
   "execution_count": 12,
   "metadata": {},
   "outputs": [
    {
     "data": {
      "image/png": "[encoded data removed]",
      "text/plain": [
       "<Figure size 432x288 with 1 Axes>"
      ]
     },
     "metadata": {},
     "output_type": "display_data"
    }
   ],
   "source": [
    "# Edellinen 100 % pylväinä\n",
    "ax4 = df4.drop('Yhteensä').T.plot.barh(stacked = True, \n",
    "                    color=['#C44E52','#D65F5F','gray','#4878CF','#4C72B0'])\n",
    "\n",
    "ax4.set_xlabel('Prosenttia vastaajista')\n",
    "\n",
    "# Selitteen sijainti; 2 selitettä vierekkäin\n",
    "ax4.legend(loc=(-0.03, 1.1), ncol=2)\n",
    "\n",
    "# x-akselin ticksien tuunaus\n",
    "ax4.xaxis.set_major_formatter(myFmt1)"
   ]
  },
  {
   "cell_type": "markdown",
   "metadata": {},
   "source": [
    "Matplotlib mahdollistaa monenlaisia toteutuksia. Seuraavassa laadin viiden kaavion yhdistelmän\n",
    "\n",
    "- lisäparametrilla <b>subplots=True</b> määritän, että jokaisesta sarakkeesta oma kaavio\n",
    "- lisäparametrilla <b>layout=(1, 5)</b> määritän, että kaaviot sijoitetaan 1 riville, 5 rinnakkain\n",
    "- lisäparametreilla <b>sharex=True, sharey=True</b> määritän, että kaikilla kaavioilla on yhteiset akselit\n",
    "- lisäparametrilla <b>figsize=(12, 2)</b> määritän kuvion koon\n",
    "- lisäparametrilla <b>color='maroon'</b> määritän pylväiden väriksi maroon\n",
    "- lisäparametrilla <b>legend=False</b> jätän kaavioista selitteet pois"
   ]
  },
  {
   "cell_type": "code",
   "execution_count": 13,
   "metadata": {},
   "outputs": [
    {
     "data": {
      "text/plain": [
       "Text(0.08, 0.5, '%')"
      ]
     },
     "execution_count": 13,
     "metadata": {},
     "output_type": "execute_result"
    },
    {
     "data": {
      "image/png": "[encoded data removed]",
      "text/plain": [
       "<Figure size 864x144 with 5 Axes>"
      ]
     },
     "metadata": {},
     "output_type": "display_data"
    }
   ],
   "source": [
    "axes = (df4.drop('Yhteensä')*100).plot.bar(subplots=True, layout=(1, 5), sharex=True, sharey=True, \n",
    "              figsize=(12, 2), color='maroon', legend=False)\n",
    "\n",
    "# Kuvio, jonka sisällä kaaviot sijaitsevat (gcf = get current figure)\n",
    "fig = plt.gcf()\n",
    "# %-merkki kuvion sijaintiin (0.08, 0.5)\n",
    "fig.text(0.08, 0.5, \"%\")"
   ]
  },
  {
   "cell_type": "markdown",
   "metadata": {},
   "source": [
    "<h2>count() laskee monivalintojen yhteenvedot</h2>\n",
    "\n",
    "Monivalintojen yhteenveto sujuu esimerkiksi <b>count()</b>-funktiolla. count()-funktion tulos ei ole dataframe, mutta voin muuttaa sen dataframeksi. Samalla voin järjestää monivalinnan vaihtoehdot valintojen mukaiseen järjestykseen <b>sort_values</b>-funktiolla.\n",
    "\n",
    "Voin ryhmitellä tuloskset toisen muuttujan, esimerkiksi sukupuolen, mukaan <b>groupby()</b>-funktion avulla."
   ]
  },
  {
   "cell_type": "code",
   "execution_count": 14,
   "metadata": {},
   "outputs": [
    {
     "data": {
      "text/html": [
       "<div>\n",
       "<style scoped>\n",
       "    .dataframe tbody tr th:only-of-type {\n",
       "        vertical-align: middle;\n",
       "    }\n",
       "\n",
       "    .dataframe tbody tr th {\n",
       "        vertical-align: top;\n",
       "    }\n",
       "\n",
       "    .dataframe thead th {\n",
       "        text-align: right;\n",
       "    }\n",
       "</style>\n",
       "<table border=\"1\" class=\"dataframe\">\n",
       "  <thead>\n",
       "    <tr style=\"text-align: right;\">\n",
       "      <th></th>\n",
       "      <th>n</th>\n",
       "    </tr>\n",
       "  </thead>\n",
       "  <tbody>\n",
       "    <tr>\n",
       "      <th>työterv</th>\n",
       "      <td>47</td>\n",
       "    </tr>\n",
       "    <tr>\n",
       "      <th>hieroja</th>\n",
       "      <td>22</td>\n",
       "    </tr>\n",
       "    <tr>\n",
       "      <th>lomaosa</th>\n",
       "      <td>20</td>\n",
       "    </tr>\n",
       "    <tr>\n",
       "      <th>kuntosa</th>\n",
       "      <td>9</td>\n",
       "    </tr>\n",
       "  </tbody>\n",
       "</table>\n",
       "</div>"
      ],
      "text/plain": [
       "          n\n",
       "työterv  47\n",
       "hieroja  22\n",
       "lomaosa  20\n",
       "kuntosa   9"
      ]
     },
     "execution_count": 14,
     "metadata": {},
     "output_type": "execute_result"
    }
   ],
   "source": [
    "# Monivalintojen lukumäärät selviävät count()-funktiolla\n",
    "df5=df[monivalinnat].count()\n",
    "\n",
    "# Muutan series-tyyppisen listan dataframeksi ja järjestän lukumäärien mukaiseen järjestykseen\n",
    "df5 = df5.to_frame('n').sort_values(by = 'n', ascending = False)\n",
    "\n",
    "df5"
   ]
  },
  {
   "cell_type": "code",
   "execution_count": 15,
   "metadata": {},
   "outputs": [
    {
     "data": {
      "text/html": [
       "<style  type=\"text/css\" >\n",
       "</style><table id=\"T_f65678aa_5f31_11eb_85c8_00e18c75b321\" ><thead>    <tr>        <th class=\"blank level0\" ></th>        <th class=\"col_heading level0 col0\" >n</th>        <th class=\"col_heading level0 col1\" >% vastaajista</th>    </tr></thead><tbody>\n",
       "                <tr>\n",
       "                        <th id=\"T_f65678aa_5f31_11eb_85c8_00e18c75b321level0_row0\" class=\"row_heading level0 row0\" >työterv</th>\n",
       "                        <td id=\"T_f65678aa_5f31_11eb_85c8_00e18c75b321row0_col0\" class=\"data row0 col0\" >47</td>\n",
       "                        <td id=\"T_f65678aa_5f31_11eb_85c8_00e18c75b321row0_col1\" class=\"data row0 col1\" >57.3 %</td>\n",
       "            </tr>\n",
       "            <tr>\n",
       "                        <th id=\"T_f65678aa_5f31_11eb_85c8_00e18c75b321level0_row1\" class=\"row_heading level0 row1\" >hieroja</th>\n",
       "                        <td id=\"T_f65678aa_5f31_11eb_85c8_00e18c75b321row1_col0\" class=\"data row1 col0\" >22</td>\n",
       "                        <td id=\"T_f65678aa_5f31_11eb_85c8_00e18c75b321row1_col1\" class=\"data row1 col1\" >26.8 %</td>\n",
       "            </tr>\n",
       "            <tr>\n",
       "                        <th id=\"T_f65678aa_5f31_11eb_85c8_00e18c75b321level0_row2\" class=\"row_heading level0 row2\" >lomaosa</th>\n",
       "                        <td id=\"T_f65678aa_5f31_11eb_85c8_00e18c75b321row2_col0\" class=\"data row2 col0\" >20</td>\n",
       "                        <td id=\"T_f65678aa_5f31_11eb_85c8_00e18c75b321row2_col1\" class=\"data row2 col1\" >24.4 %</td>\n",
       "            </tr>\n",
       "            <tr>\n",
       "                        <th id=\"T_f65678aa_5f31_11eb_85c8_00e18c75b321level0_row3\" class=\"row_heading level0 row3\" >kuntosa</th>\n",
       "                        <td id=\"T_f65678aa_5f31_11eb_85c8_00e18c75b321row3_col0\" class=\"data row3 col0\" >9</td>\n",
       "                        <td id=\"T_f65678aa_5f31_11eb_85c8_00e18c75b321row3_col1\" class=\"data row3 col1\" >11.0 %</td>\n",
       "            </tr>\n",
       "    </tbody></table>"
      ],
      "text/plain": [
       "<pandas.io.formats.style.Styler at 0x2b6538d0100>"
      ]
     },
     "execution_count": 15,
     "metadata": {},
     "output_type": "execute_result"
    }
   ],
   "source": [
    "# Prosenttia vastaajien kokonaismäärästä (shape[0])\n",
    "df5['% vastaajista'] = df5['n'] / df.shape[0]*100\n",
    "\n",
    "# Loppusilaus\n",
    "df5.style.format({'% vastaajista':'{:.1f} %'})"
   ]
  },
  {
   "cell_type": "code",
   "execution_count": 16,
   "metadata": {},
   "outputs": [
    {
     "data": {
      "text/plain": [
       "Text(0.5, 0, 'Käyttäjien lukumäärä')"
      ]
     },
     "execution_count": 16,
     "metadata": {},
     "output_type": "execute_result"
    },
    {
     "data": {
      "image/png": "[encoded data removed]",
      "text/plain": [
       "<Figure size 432x288 with 1 Axes>"
      ]
     },
     "metadata": {},
     "output_type": "display_data"
    }
   ],
   "source": [
    "# Edellinen pylväinä\n",
    "ax5 = df5['n'].plot.barh(legend=False)\n",
    "\n",
    "ax5.set_xlabel('Käyttäjien lukumäärä')"
   ]
  },
  {
   "cell_type": "code",
   "execution_count": 17,
   "metadata": {},
   "outputs": [
    {
     "data": {
      "text/html": [
       "<div>\n",
       "<style scoped>\n",
       "    .dataframe tbody tr th:only-of-type {\n",
       "        vertical-align: middle;\n",
       "    }\n",
       "\n",
       "    .dataframe tbody tr th {\n",
       "        vertical-align: top;\n",
       "    }\n",
       "\n",
       "    .dataframe thead th {\n",
       "        text-align: right;\n",
       "    }\n",
       "</style>\n",
       "<table border=\"1\" class=\"dataframe\">\n",
       "  <thead>\n",
       "    <tr style=\"text-align: right;\">\n",
       "      <th></th>\n",
       "      <th>työterv</th>\n",
       "      <th>lomaosa</th>\n",
       "      <th>kuntosa</th>\n",
       "      <th>hieroja</th>\n",
       "    </tr>\n",
       "  </thead>\n",
       "  <tbody>\n",
       "    <tr>\n",
       "      <th>Mies</th>\n",
       "      <td>35</td>\n",
       "      <td>16</td>\n",
       "      <td>8</td>\n",
       "      <td>13</td>\n",
       "    </tr>\n",
       "    <tr>\n",
       "      <th>Nainen</th>\n",
       "      <td>12</td>\n",
       "      <td>4</td>\n",
       "      <td>1</td>\n",
       "      <td>9</td>\n",
       "    </tr>\n",
       "  </tbody>\n",
       "</table>\n",
       "</div>"
      ],
      "text/plain": [
       "        työterv  lomaosa  kuntosa  hieroja\n",
       "Mies         35       16        8       13\n",
       "Nainen       12        4        1        9"
      ]
     },
     "execution_count": 17,
     "metadata": {},
     "output_type": "execute_result"
    }
   ],
   "source": [
    "# Monivalinnat sukupuolen mukaan\n",
    "df6 = df.groupby('sukup')[monivalinnat].count()\n",
    "\n",
    "# Sukupuolet sukup-listasta, jonka määrittelin aiemmin\n",
    "df6.index = sukup\n",
    "\n",
    "df6"
   ]
  },
  {
   "cell_type": "code",
   "execution_count": 18,
   "metadata": {},
   "outputs": [
    {
     "data": {
      "text/html": [
       "<style  type=\"text/css\" >\n",
       "</style><table id=\"T_f66a91c6_5f31_11eb_9707_00e18c75b321\" ><thead>    <tr>        <th class=\"blank level0\" ></th>        <th class=\"col_heading level0 col0\" >työterv</th>        <th class=\"col_heading level0 col1\" >lomaosa</th>        <th class=\"col_heading level0 col2\" >kuntosa</th>        <th class=\"col_heading level0 col3\" >hieroja</th>    </tr></thead><tbody>\n",
       "                <tr>\n",
       "                        <th id=\"T_f66a91c6_5f31_11eb_9707_00e18c75b321level0_row0\" class=\"row_heading level0 row0\" >Mies, n=63</th>\n",
       "                        <td id=\"T_f66a91c6_5f31_11eb_9707_00e18c75b321row0_col0\" class=\"data row0 col0\" >55.6 %</td>\n",
       "                        <td id=\"T_f66a91c6_5f31_11eb_9707_00e18c75b321row0_col1\" class=\"data row0 col1\" >25.4 %</td>\n",
       "                        <td id=\"T_f66a91c6_5f31_11eb_9707_00e18c75b321row0_col2\" class=\"data row0 col2\" >12.7 %</td>\n",
       "                        <td id=\"T_f66a91c6_5f31_11eb_9707_00e18c75b321row0_col3\" class=\"data row0 col3\" >20.6 %</td>\n",
       "            </tr>\n",
       "            <tr>\n",
       "                        <th id=\"T_f66a91c6_5f31_11eb_9707_00e18c75b321level0_row1\" class=\"row_heading level0 row1\" >Nainen, n=19</th>\n",
       "                        <td id=\"T_f66a91c6_5f31_11eb_9707_00e18c75b321row1_col0\" class=\"data row1 col0\" >63.2 %</td>\n",
       "                        <td id=\"T_f66a91c6_5f31_11eb_9707_00e18c75b321row1_col1\" class=\"data row1 col1\" >21.1 %</td>\n",
       "                        <td id=\"T_f66a91c6_5f31_11eb_9707_00e18c75b321row1_col2\" class=\"data row1 col2\" >5.3 %</td>\n",
       "                        <td id=\"T_f66a91c6_5f31_11eb_9707_00e18c75b321row1_col3\" class=\"data row1 col3\" >47.4 %</td>\n",
       "            </tr>\n",
       "    </tbody></table>"
      ],
      "text/plain": [
       "<pandas.io.formats.style.Styler at 0x2b65390a850>"
      ]
     },
     "execution_count": 18,
     "metadata": {},
     "output_type": "execute_result"
    }
   ],
   "source": [
    "# Monivalinnat sukupuolen mukaan\n",
    "df7 = df.groupby('sukup')[monivalinnat].count()\n",
    "\n",
    "# Miesten ja naisten lukumäärät\n",
    "miehet = df['sukup'].value_counts()[1]\n",
    "naiset = df['sukup'].value_counts()[2]\n",
    "\n",
    "# Prosentit\n",
    "# iloc[0] viittaa indeksin mukaiselle 0-riville (miesten rivi)\n",
    "df7.iloc[0] = df7.iloc[0] / miehet\n",
    "df7.iloc[1] = df7.iloc[1] / naiset\n",
    "\n",
    "# Kikkailen n-arvot mukaan\n",
    "df7.index = ['Mies, n=' + str(miehet), 'Nainen, n=' + str(naiset)]\n",
    "\n",
    "# Loppusilaus\n",
    "(df7*100).style.format('{:.1f} %')"
   ]
  },
  {
   "cell_type": "code",
   "execution_count": 19,
   "metadata": {},
   "outputs": [
    {
     "data": {
      "image/png": "[encoded data removed]",
      "text/plain": [
       "<Figure size 432x288 with 1 Axes>"
      ]
     },
     "metadata": {},
     "output_type": "display_data"
    }
   ],
   "source": [
    "# Edellinen pylväinä\n",
    "ax7 = df7.plot.barh(legend='reverse')\n",
    "\n",
    "ax7.set_xlabel('% sukupuolesta')\n",
    "\n",
    "# x-akselin ticksien tuunaus\n",
    "ax7.xaxis.set_major_formatter(myFmt1)"
   ]
  },
  {
   "cell_type": "markdown",
   "metadata": {},
   "source": [
    "<h2>Luokiteltu jakauma</h2>\n",
    "\n",
    "Pandas-kirjaston <b>cut</b>-funktiolla voin luokitella muuttujan. Oletuksena luokan yläraja kuuluu luokkaan. Lisäparametrilla <b>right=False</b> voin vaihtaa luokan alarajan kuulumaan luokkaan."
   ]
  },
  {
   "cell_type": "code",
   "execution_count": 20,
   "metadata": {},
   "outputs": [
    {
     "data": {
      "text/html": [
       "<style  type=\"text/css\" >\n",
       "</style><table id=\"T_f6818011_5f31_11eb_a4da_00e18c75b321\" ><thead>    <tr>        <th class=\"index_name level0\" ></th>        <th class=\"col_heading level0 col0\" >n</th>        <th class=\"col_heading level0 col1\" >%</th>    </tr>    <tr>        <th class=\"index_name level0\" >palkkaluokka</th>        <th class=\"blank\" ></th>        <th class=\"blank\" ></th>    </tr></thead><tbody>\n",
       "                <tr>\n",
       "                        <th id=\"T_f6818011_5f31_11eb_a4da_00e18c75b321level0_row0\" class=\"row_heading level0 row0\" >(1000, 2000]</th>\n",
       "                        <td id=\"T_f6818011_5f31_11eb_a4da_00e18c75b321row0_col0\" class=\"data row0 col0\" >19</td>\n",
       "                        <td id=\"T_f6818011_5f31_11eb_a4da_00e18c75b321row0_col1\" class=\"data row0 col1\" >23.2 %</td>\n",
       "            </tr>\n",
       "            <tr>\n",
       "                        <th id=\"T_f6818011_5f31_11eb_a4da_00e18c75b321level0_row1\" class=\"row_heading level0 row1\" >(2000, 3000]</th>\n",
       "                        <td id=\"T_f6818011_5f31_11eb_a4da_00e18c75b321row1_col0\" class=\"data row1 col0\" >50</td>\n",
       "                        <td id=\"T_f6818011_5f31_11eb_a4da_00e18c75b321row1_col1\" class=\"data row1 col1\" >61.0 %</td>\n",
       "            </tr>\n",
       "            <tr>\n",
       "                        <th id=\"T_f6818011_5f31_11eb_a4da_00e18c75b321level0_row2\" class=\"row_heading level0 row2\" >(3000, 4000]</th>\n",
       "                        <td id=\"T_f6818011_5f31_11eb_a4da_00e18c75b321row2_col0\" class=\"data row2 col0\" >8</td>\n",
       "                        <td id=\"T_f6818011_5f31_11eb_a4da_00e18c75b321row2_col1\" class=\"data row2 col1\" >9.8 %</td>\n",
       "            </tr>\n",
       "            <tr>\n",
       "                        <th id=\"T_f6818011_5f31_11eb_a4da_00e18c75b321level0_row3\" class=\"row_heading level0 row3\" >(4000, 7000]</th>\n",
       "                        <td id=\"T_f6818011_5f31_11eb_a4da_00e18c75b321row3_col0\" class=\"data row3 col0\" >5</td>\n",
       "                        <td id=\"T_f6818011_5f31_11eb_a4da_00e18c75b321row3_col1\" class=\"data row3 col1\" >6.1 %</td>\n",
       "            </tr>\n",
       "            <tr>\n",
       "                        <th id=\"T_f6818011_5f31_11eb_a4da_00e18c75b321level0_row4\" class=\"row_heading level0 row4\" >Yhteensä</th>\n",
       "                        <td id=\"T_f6818011_5f31_11eb_a4da_00e18c75b321row4_col0\" class=\"data row4 col0\" >82</td>\n",
       "                        <td id=\"T_f6818011_5f31_11eb_a4da_00e18c75b321row4_col1\" class=\"data row4 col1\" >100.0 %</td>\n",
       "            </tr>\n",
       "    </tbody></table>"
      ],
      "text/plain": [
       "<pandas.io.formats.style.Styler at 0x2b65199de20>"
      ]
     },
     "execution_count": 20,
     "metadata": {},
     "output_type": "execute_result"
    }
   ],
   "source": [
    "# Määrittelen luokkarajat palkan luokittelemiseksi\n",
    "bins = [1000, 2000, 3000, 4000, 7000]\n",
    "\n",
    "# Lisään dataan palkkaluokka-sarakkeen\n",
    "df['palkkaluokka'] = pd.cut(df['palkka'], bins = bins)\n",
    "\n",
    "# Palkkaluokkiin kuuluvien lukumäärät\n",
    "df8 = pd.crosstab(df['palkkaluokka'], 'n')\n",
    "df8.columns.name = ''\n",
    "\n",
    "# Prosentit\n",
    "df8['%'] = df8/df8.sum()*100\n",
    "\n",
    "# Yhteensä-rivin lisäämiseksi indeksin luokkaväliarvot on ensin muuutettava merkkijonoiksi\n",
    "df8.index = df8.index.astype(str)\n",
    "df8.loc['Yhteensä'] = df8.sum()\n",
    "\n",
    "# Loppusilaus\n",
    "df8.style.format({'n': '{:.0f}', '%': '{:.1f} %'})"
   ]
  },
  {
   "cell_type": "code",
   "execution_count": 21,
   "metadata": {},
   "outputs": [
    {
     "data": {
      "text/plain": [
       "Text(0, 0.5, 'lukumäärä')"
      ]
     },
     "execution_count": 21,
     "metadata": {},
     "output_type": "execute_result"
    },
    {
     "data": {
      "image/png": "[encoded data removed]",
      "text/plain": [
       "<Figure size 432x288 with 1 Axes>"
      ]
     },
     "metadata": {},
     "output_type": "display_data"
    }
   ],
   "source": [
    "# Edellinen kaaviona; width=1 laittaa pylväät kiinni toisiinsa\n",
    "# rot=45 kääntää x-akselin ticksien nimiöitä 45 astetta\n",
    "ax8 = df8.drop('Yhteensä')['n'].plot.bar(width=1, rot=45, legend=False, edgecolor='black')\n",
    "\n",
    "ax8.set_ylabel('lukumäärä')"
   ]
  },
  {
   "cell_type": "code",
   "execution_count": 22,
   "metadata": {},
   "outputs": [
    {
     "data": {
      "text/plain": [
       "Text(0, 0.5, 'Lukumäärä')"
      ]
     },
     "execution_count": 22,
     "metadata": {},
     "output_type": "execute_result"
    },
    {
     "data": {
      "image/png": "[encoded data removed]",
      "text/plain": [
       "<Figure size 432x288 with 1 Axes>"
      ]
     },
     "metadata": {},
     "output_type": "display_data"
    }
   ],
   "source": [
    "# Nopein tapa luokitellun jakauman tarkasteluun on hist-kaavio\n",
    "ax9 = df['palkka'].hist(bins=bins)\n",
    "ax9.set_xlabel('Palkka')\n",
    "ax9.set_ylabel('Lukumäärä')"
   ]
  },
  {
   "cell_type": "code",
   "execution_count": 23,
   "metadata": {},
   "outputs": [
    {
     "data": {
      "image/png": "[encoded data removed]",
      "text/plain": [
       "<Figure size 432x288 with 1 Axes>"
      ]
     },
     "metadata": {},
     "output_type": "display_data"
    }
   ],
   "source": [
    "# np.ones kikalla prosentit hist-kaavioon\n",
    "# np.ones tuottaa n kpl ykkösiä, jolloin jokaiselle luokalle tulee painoksi 1/n\n",
    "\n",
    "# Histogrammi, jossa y-akselilla prosentit\n",
    "n = df['palkka'].count()\n",
    "ax10 = df['palkka'].hist(bins=bins, weights=np.ones(n)/n)\n",
    "ax10.set_xlabel('Palkka')\n",
    "ax10.set_ylabel('Prosenttia, n='+str(n))\n",
    "\n",
    "# x-akselin ticksien tuunaus\n",
    "ax10.yaxis.set_major_formatter(myFmt1)"
   ]
  },
  {
   "cell_type": "markdown",
   "metadata": {},
   "source": [
    "Katso myös https://nbviewer.jupyter.org/github/taanila/kuvaileva/blob/main/value_counts.ipynb, jossa lasken lukumäärä- ja prosenttiyhteevetoja <b>value_counts()</b>-funktiolla."
   ]
  }
 ],
 "metadata": {
  "kernelspec": {
   "display_name": "Python 3",
   "language": "python",
   "name": "python3"
  },
  "language_info": {
   "codemirror_mode": {
    "name": "ipython",
    "version": 3
   },
   "file_extension": ".py",
   "mimetype": "text/x-python",
   "name": "python",
   "nbconvert_exporter": "python",
   "pygments_lexer": "ipython3",
   "version": "3.8.3"
  }
 },
 "nbformat": 4,
 "nbformat_minor": 2
}
