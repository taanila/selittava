{
 "cells": [
  {
   "cell_type": "code",
   "execution_count": 1,
   "metadata": {},
   "outputs": [
    {
     "name": "stdout",
     "output_type": "stream",
     "text": [
      "Päivitetty 2021-10-22 17:53:37.485430\n"
     ]
    }
   ],
   "source": [
    "from datetime import datetime\n",
    "print(f'Päivitetty {datetime.now()}')"
   ]
  },
  {
   "cell_type": "markdown",
   "metadata": {},
   "source": [
    "<h1>Lukumäärä- ja prosenttiyhteenvedot</h1>\n",
    "\n",
    "Tämä muistio sisältää likimain kaiken mitä sinun tarvitsee tietää lukumäärien ja prosenttien laskemisesta Pythonin pandas-kirjastoa käyttäen."
   ]
  },
  {
   "cell_type": "code",
   "execution_count": 2,
   "metadata": {},
   "outputs": [],
   "source": [
    "# Tuon tarvittavat kirjastot\n",
    "import numpy as np\n",
    "import pandas as pd\n",
    "import matplotlib.pyplot as plt\n",
    "from matplotlib.ticker import PercentFormatter\n",
    "\n",
    "# Jos prosentit desimaalilukuina, niin käytän tätä akselin muotoiluun \n",
    "myFmt1 = PercentFormatter(xmax = 1, decimals = 0, symbol = ' %')\n",
    "\n",
    "# Jos prosentit on jo valmiiksi kerrottu sadalla, niin käytän tätä akselin muotoiluun\n",
    "myFmt100 = PercentFormatter(xmax = 100, decimals = 0, symbol = ' %')\n",
    "\n",
    "# Grafiikan tulostaminen Jupyter notebookiin\n",
    "# Nykyisissä kirjastoversioissa ei enää tarpeellinen\n",
    "%matplotlib inline"
   ]
  },
  {
   "cell_type": "code",
   "execution_count": 3,
   "metadata": {},
   "outputs": [
    {
     "data": {
      "text/html": [
       "<div>\n",
       "<style scoped>\n",
       "    .dataframe tbody tr th:only-of-type {\n",
       "        vertical-align: middle;\n",
       "    }\n",
       "\n",
       "    .dataframe tbody tr th {\n",
       "        vertical-align: top;\n",
       "    }\n",
       "\n",
       "    .dataframe thead th {\n",
       "        text-align: right;\n",
       "    }\n",
       "</style>\n",
       "<table border=\"1\" class=\"dataframe\">\n",
       "  <thead>\n",
       "    <tr style=\"text-align: right;\">\n",
       "      <th></th>\n",
       "      <th>nro</th>\n",
       "      <th>sukup</th>\n",
       "      <th>ikä</th>\n",
       "      <th>perhe</th>\n",
       "      <th>koulutus</th>\n",
       "      <th>palveluv</th>\n",
       "      <th>palkka</th>\n",
       "      <th>johto</th>\n",
       "      <th>työtov</th>\n",
       "      <th>työymp</th>\n",
       "      <th>palkkat</th>\n",
       "      <th>työteht</th>\n",
       "      <th>työterv</th>\n",
       "      <th>lomaosa</th>\n",
       "      <th>kuntosa</th>\n",
       "      <th>hieroja</th>\n",
       "    </tr>\n",
       "  </thead>\n",
       "  <tbody>\n",
       "    <tr>\n",
       "      <th>0</th>\n",
       "      <td>1</td>\n",
       "      <td>1</td>\n",
       "      <td>38</td>\n",
       "      <td>1</td>\n",
       "      <td>1.0</td>\n",
       "      <td>22.0</td>\n",
       "      <td>3587</td>\n",
       "      <td>3</td>\n",
       "      <td>3.0</td>\n",
       "      <td>3</td>\n",
       "      <td>3</td>\n",
       "      <td>3</td>\n",
       "      <td>NaN</td>\n",
       "      <td>NaN</td>\n",
       "      <td>NaN</td>\n",
       "      <td>NaN</td>\n",
       "    </tr>\n",
       "    <tr>\n",
       "      <th>1</th>\n",
       "      <td>2</td>\n",
       "      <td>1</td>\n",
       "      <td>29</td>\n",
       "      <td>2</td>\n",
       "      <td>2.0</td>\n",
       "      <td>10.0</td>\n",
       "      <td>2963</td>\n",
       "      <td>1</td>\n",
       "      <td>5.0</td>\n",
       "      <td>2</td>\n",
       "      <td>1</td>\n",
       "      <td>3</td>\n",
       "      <td>NaN</td>\n",
       "      <td>NaN</td>\n",
       "      <td>NaN</td>\n",
       "      <td>NaN</td>\n",
       "    </tr>\n",
       "    <tr>\n",
       "      <th>2</th>\n",
       "      <td>3</td>\n",
       "      <td>1</td>\n",
       "      <td>30</td>\n",
       "      <td>1</td>\n",
       "      <td>1.0</td>\n",
       "      <td>7.0</td>\n",
       "      <td>1989</td>\n",
       "      <td>3</td>\n",
       "      <td>4.0</td>\n",
       "      <td>1</td>\n",
       "      <td>1</td>\n",
       "      <td>3</td>\n",
       "      <td>1.0</td>\n",
       "      <td>NaN</td>\n",
       "      <td>NaN</td>\n",
       "      <td>NaN</td>\n",
       "    </tr>\n",
       "    <tr>\n",
       "      <th>3</th>\n",
       "      <td>4</td>\n",
       "      <td>1</td>\n",
       "      <td>36</td>\n",
       "      <td>2</td>\n",
       "      <td>1.0</td>\n",
       "      <td>14.0</td>\n",
       "      <td>2144</td>\n",
       "      <td>3</td>\n",
       "      <td>3.0</td>\n",
       "      <td>3</td>\n",
       "      <td>3</td>\n",
       "      <td>3</td>\n",
       "      <td>1.0</td>\n",
       "      <td>NaN</td>\n",
       "      <td>NaN</td>\n",
       "      <td>NaN</td>\n",
       "    </tr>\n",
       "    <tr>\n",
       "      <th>4</th>\n",
       "      <td>5</td>\n",
       "      <td>1</td>\n",
       "      <td>24</td>\n",
       "      <td>1</td>\n",
       "      <td>2.0</td>\n",
       "      <td>4.0</td>\n",
       "      <td>2183</td>\n",
       "      <td>2</td>\n",
       "      <td>3.0</td>\n",
       "      <td>2</td>\n",
       "      <td>1</td>\n",
       "      <td>2</td>\n",
       "      <td>1.0</td>\n",
       "      <td>NaN</td>\n",
       "      <td>NaN</td>\n",
       "      <td>NaN</td>\n",
       "    </tr>\n",
       "  </tbody>\n",
       "</table>\n",
       "</div>"
      ],
      "text/plain": [
       "   nro  sukup  ikä  perhe  koulutus  palveluv  palkka  johto  työtov  työymp  \\\n",
       "0    1      1   38      1       1.0      22.0    3587      3     3.0       3   \n",
       "1    2      1   29      2       2.0      10.0    2963      1     5.0       2   \n",
       "2    3      1   30      1       1.0       7.0    1989      3     4.0       1   \n",
       "3    4      1   36      2       1.0      14.0    2144      3     3.0       3   \n",
       "4    5      1   24      1       2.0       4.0    2183      2     3.0       2   \n",
       "\n",
       "   palkkat  työteht  työterv  lomaosa  kuntosa  hieroja  \n",
       "0        3        3      NaN      NaN      NaN      NaN  \n",
       "1        1        3      NaN      NaN      NaN      NaN  \n",
       "2        1        3      1.0      NaN      NaN      NaN  \n",
       "3        3        3      1.0      NaN      NaN      NaN  \n",
       "4        1        2      1.0      NaN      NaN      NaN  "
      ]
     },
     "execution_count": 3,
     "metadata": {},
     "output_type": "execute_result"
    }
   ],
   "source": [
    "df = pd.read_excel('https://taanila.fi/data1.xlsx')\n",
    "df.head()"
   ]
  },
  {
   "cell_type": "markdown",
   "metadata": {},
   "source": [
    "<h2>Muuttujien tekstimuotoiset arvot</h2>\n",
    "\n",
    "Muuttujien mahdolliset tektimuotoiset arvot kannattaa tallentaa lista-muuttujiin. Listoja on myöhemmin helppo lisätä tulostaulukoihin."
   ]
  },
  {
   "cell_type": "code",
   "execution_count": 4,
   "metadata": {},
   "outputs": [],
   "source": [
    "koulutus = ['Peruskoulu', '2. aste', 'Korkeakoulu', 'Ylempi korkeakoulu']\n",
    "perhe = ['Perheetön', 'Perheellinen']\n",
    "sukup = ['Mies', 'Nainen']\n",
    "tyytyväisyys = ['Erittäin tyytymätön', 'Jokseenkin tyytymätön', 'Ei tyytymätön eikä tyytyväinen', \n",
    "                'Jokseenkin tyytyväinen', 'Erittäin tyytyväinen']\n",
    "\n",
    "# Monivalintakysymyksen (mitä etuisuuksia olet käyttänyt?) vaihtoehtojen lista\n",
    "monivalinnat = ['työterv', 'lomaosa', 'kuntosa', 'hieroja']"
   ]
  },
  {
   "cell_type": "markdown",
   "metadata": {},
   "source": [
    "<h2>crosstab() laskee lukumäärät</h2>\n",
    "\n",
    "<b>crosstab()</b> palauttaa tuloksena tietokehikon (dataframe). Voin helposti luoda tietokehikkoon uuden sarakkeen, johon lasken prosentit. "
   ]
  },
  {
   "cell_type": "code",
   "execution_count": 5,
   "metadata": {},
   "outputs": [
    {
     "data": {
      "text/html": [
       "<style type=\"text/css\">\n",
       "</style>\n",
       "<table id=\"T_95e38_\">\n",
       "  <thead>\n",
       "    <tr>\n",
       "      <th class=\"index_name level0\" ></th>\n",
       "      <th class=\"col_heading level0 col0\" >f</th>\n",
       "      <th class=\"col_heading level0 col1\" >f (%)</th>\n",
       "    </tr>\n",
       "  </thead>\n",
       "  <tbody>\n",
       "    <tr>\n",
       "      <th id=\"T_95e38_level0_row0\" class=\"row_heading level0 row0\" >Peruskoulu</th>\n",
       "      <td id=\"T_95e38_row0_col0\" class=\"data row0 col0\" >27</td>\n",
       "      <td id=\"T_95e38_row0_col1\" class=\"data row0 col1\" >33,3</td>\n",
       "    </tr>\n",
       "    <tr>\n",
       "      <th id=\"T_95e38_level0_row1\" class=\"row_heading level0 row1\" >2. aste</th>\n",
       "      <td id=\"T_95e38_row1_col0\" class=\"data row1 col0\" >30</td>\n",
       "      <td id=\"T_95e38_row1_col1\" class=\"data row1 col1\" >37,0</td>\n",
       "    </tr>\n",
       "    <tr>\n",
       "      <th id=\"T_95e38_level0_row2\" class=\"row_heading level0 row2\" >Korkeakoulu</th>\n",
       "      <td id=\"T_95e38_row2_col0\" class=\"data row2 col0\" >22</td>\n",
       "      <td id=\"T_95e38_row2_col1\" class=\"data row2 col1\" >27,2</td>\n",
       "    </tr>\n",
       "    <tr>\n",
       "      <th id=\"T_95e38_level0_row3\" class=\"row_heading level0 row3\" >Ylempi korkeakoulu</th>\n",
       "      <td id=\"T_95e38_row3_col0\" class=\"data row3 col0\" >2</td>\n",
       "      <td id=\"T_95e38_row3_col1\" class=\"data row3 col1\" >2,5</td>\n",
       "    </tr>\n",
       "  </tbody>\n",
       "</table>\n"
      ],
      "text/plain": [
       "<pandas.io.formats.style.Styler at 0x15bdae1a0d0>"
      ]
     },
     "execution_count": 5,
     "metadata": {},
     "output_type": "execute_result"
    }
   ],
   "source": [
    "df1 = pd.crosstab(df['koulutus'], 'f')\n",
    "\n",
    "# Korvaan riviotsikot aiemmin määritellyllä koulutus-listalla\n",
    "df1.index = koulutus\n",
    "\n",
    "# Poistan vasemmasta yläkulmasta häiritsevän otsikon\n",
    "df1.columns.name = ''\n",
    "\n",
    "# Lisään prosentti-sarakkeen\n",
    "n = df1['f'].sum()\n",
    "df1['f (%)'] = df1 / n * 100\n",
    "\n",
    "# Säädän desimaalien määrät ja korvaan desimaalipisteen pilkulla\n",
    "# decimal-parametri toimii pandas-versiosta 1.3.0 lähtien\n",
    "# Tämä ei vaikuta tietokehikon sisältöön, vaan ainoastaan tässä tulostetun taulukon ulkoasuun\n",
    "df1.style.format({'f' : '{:.0f}', 'f (%)' : '{:.1f}'}, decimal = ',')"
   ]
  },
  {
   "cell_type": "code",
   "execution_count": 6,
   "metadata": {
    "scrolled": false
   },
   "outputs": [
    {
     "data": {
      "image/png": "[encoded data removed]",
      "text/plain": [
       "<Figure size 432x288 with 1 Axes>"
      ]
     },
     "metadata": {
      "needs_background": "light"
     },
     "output_type": "display_data"
    }
   ],
   "source": [
    "# Vaakapylväskaavio prosenteista\n",
    "df1['f (%)'].plot.barh()\n",
    "\n",
    "# x-akselin otsikointi; n-arvo mukaan\n",
    "plt.xlabel('Prosenttia, n = ' + str(n))\n",
    "\n",
    "# x-akselin jakoviivojen otsikoiden muotoilu\n",
    "plt.gca().xaxis.set_major_formatter(myFmt100)\n",
    "\n",
    "# Pystysuuntainen taustaviivoitus\n",
    "plt.grid(axis = 'x')\n",
    "\n",
    "# Taustaviivoitus pylväiden taakse\n",
    "# gca() tarkoittaa aktiivista kaaviota (get current axes)\n",
    "plt.gca().set_axisbelow(True)"
   ]
  },
  {
   "cell_type": "markdown",
   "metadata": {},
   "source": [
    "<h2>crosstab() laskee ristiintaulukoinnit</h2>\n",
    "\n"
   ]
  },
  {
   "cell_type": "code",
   "execution_count": 7,
   "metadata": {},
   "outputs": [
    {
     "data": {
      "text/html": [
       "<div>\n",
       "<style scoped>\n",
       "    .dataframe tbody tr th:only-of-type {\n",
       "        vertical-align: middle;\n",
       "    }\n",
       "\n",
       "    .dataframe tbody tr th {\n",
       "        vertical-align: top;\n",
       "    }\n",
       "\n",
       "    .dataframe thead th {\n",
       "        text-align: right;\n",
       "    }\n",
       "</style>\n",
       "<table border=\"1\" class=\"dataframe\">\n",
       "  <thead>\n",
       "    <tr style=\"text-align: right;\">\n",
       "      <th></th>\n",
       "      <th>Mies</th>\n",
       "      <th>Nainen</th>\n",
       "    </tr>\n",
       "  </thead>\n",
       "  <tbody>\n",
       "    <tr>\n",
       "      <th>Peruskoulu</th>\n",
       "      <td>22</td>\n",
       "      <td>5</td>\n",
       "    </tr>\n",
       "    <tr>\n",
       "      <th>2. aste</th>\n",
       "      <td>23</td>\n",
       "      <td>7</td>\n",
       "    </tr>\n",
       "    <tr>\n",
       "      <th>Korkeakoulu</th>\n",
       "      <td>15</td>\n",
       "      <td>7</td>\n",
       "    </tr>\n",
       "    <tr>\n",
       "      <th>Ylempi korkeakoulu</th>\n",
       "      <td>2</td>\n",
       "      <td>0</td>\n",
       "    </tr>\n",
       "  </tbody>\n",
       "</table>\n",
       "</div>"
      ],
      "text/plain": [
       "                    Mies  Nainen\n",
       "Peruskoulu            22       5\n",
       "2. aste               23       7\n",
       "Korkeakoulu           15       7\n",
       "Ylempi korkeakoulu     2       0"
      ]
     },
     "execution_count": 7,
     "metadata": {},
     "output_type": "execute_result"
    }
   ],
   "source": [
    "# Ristiintaulukointi\n",
    "df2 = pd.crosstab(df['koulutus'], df['sukup'])\n",
    "\n",
    "# Otsikot kuntoon:\n",
    "df2.index = koulutus\n",
    "df2.columns = sukup\n",
    "\n",
    "df2"
   ]
  },
  {
   "cell_type": "code",
   "execution_count": 8,
   "metadata": {},
   "outputs": [
    {
     "data": {
      "text/html": [
       "<style type=\"text/css\">\n",
       "</style>\n",
       "<table id=\"T_4146e_\">\n",
       "  <thead>\n",
       "    <tr>\n",
       "      <th class=\"blank level0\" >&nbsp;</th>\n",
       "      <th class=\"col_heading level0 col0\" >Mies, n = 62</th>\n",
       "      <th class=\"col_heading level0 col1\" >Nainen, n = 19</th>\n",
       "    </tr>\n",
       "  </thead>\n",
       "  <tbody>\n",
       "    <tr>\n",
       "      <th id=\"T_4146e_level0_row0\" class=\"row_heading level0 row0\" >Peruskoulu</th>\n",
       "      <td id=\"T_4146e_row0_col0\" class=\"data row0 col0\" >35,5 %</td>\n",
       "      <td id=\"T_4146e_row0_col1\" class=\"data row0 col1\" >26,3 %</td>\n",
       "    </tr>\n",
       "    <tr>\n",
       "      <th id=\"T_4146e_level0_row1\" class=\"row_heading level0 row1\" >2. aste</th>\n",
       "      <td id=\"T_4146e_row1_col0\" class=\"data row1 col0\" >37,1 %</td>\n",
       "      <td id=\"T_4146e_row1_col1\" class=\"data row1 col1\" >36,8 %</td>\n",
       "    </tr>\n",
       "    <tr>\n",
       "      <th id=\"T_4146e_level0_row2\" class=\"row_heading level0 row2\" >Korkeakoulu</th>\n",
       "      <td id=\"T_4146e_row2_col0\" class=\"data row2 col0\" >24,2 %</td>\n",
       "      <td id=\"T_4146e_row2_col1\" class=\"data row2 col1\" >36,8 %</td>\n",
       "    </tr>\n",
       "    <tr>\n",
       "      <th id=\"T_4146e_level0_row3\" class=\"row_heading level0 row3\" >Ylempi korkeakoulu</th>\n",
       "      <td id=\"T_4146e_row3_col0\" class=\"data row3 col0\" >3,2 %</td>\n",
       "      <td id=\"T_4146e_row3_col1\" class=\"data row3 col1\" >0,0 %</td>\n",
       "    </tr>\n",
       "  </tbody>\n",
       "</table>\n"
      ],
      "text/plain": [
       "<pandas.io.formats.style.Styler at 0x15bdee02c40>"
      ]
     },
     "execution_count": 8,
     "metadata": {},
     "output_type": "execute_result"
    }
   ],
   "source": [
    "# Ristiintaulukointi, prosentit (normalize) sarakkeiden mukaan\n",
    "df3 = pd.crosstab(df['koulutus'], df['sukup'], normalize = 'columns')\n",
    "\n",
    "# Otsikot kuntoon\n",
    "df3.index = koulutus\n",
    "df3.columns = sukup\n",
    "\n",
    "# Kikkailen n-arvot mukaan\n",
    "for muuttuja in df3.columns:\n",
    "    df3 = df3.rename(columns = {muuttuja : muuttuja + ', n = ' + str(df2[muuttuja].sum())})\n",
    "\n",
    "# Loppusilaus\n",
    "(df3 * 100).style.format('{:.1f} %', decimal = ',')"
   ]
  },
  {
   "cell_type": "code",
   "execution_count": 9,
   "metadata": {},
   "outputs": [
    {
     "data": {
      "image/png": "[encoded data removed]",
      "text/plain": [
       "<Figure size 432x288 with 1 Axes>"
      ]
     },
     "metadata": {
      "needs_background": "light"
     },
     "output_type": "display_data"
    }
   ],
   "source": [
    "# Edellinen pylväinä; legend = 'reverse' kääntää selitteen järjestyksen\n",
    "df3.plot.barh(legend = 'reverse')\n",
    "\n",
    "plt.xlabel('Prosenttia sukupuolesta')\n",
    "\n",
    "# x-akselin jakoviivojen otsikoiden muotoilu\n",
    "plt.gca().xaxis.set_major_formatter(myFmt1)\n",
    "\n",
    "# Pystysuuntainen taustaviivoitus\n",
    "plt.grid(axis = 'x')\n",
    "\n",
    "# Taustaviivoitus pylväiden taakse\n",
    "plt.gca().set_axisbelow(True)"
   ]
  },
  {
   "cell_type": "code",
   "execution_count": 10,
   "metadata": {},
   "outputs": [
    {
     "data": {
      "image/png": "[encoded data removed]",
      "text/plain": [
       "<Figure size 432x288 with 1 Axes>"
      ]
     },
     "metadata": {
      "needs_background": "light"
     },
     "output_type": "display_data"
    }
   ],
   "source": [
    "# Edellinen 100 % pinottuina vaakapylväinä, T vaihtaa arvosarjat ja kategoriat päittäin\n",
    "df3.T.plot.barh(stacked = True)\n",
    "\n",
    "plt.xlabel('Prosenttia sukupuolesta')\n",
    "\n",
    "# Selitteen sijoittelu suhteessa origoon, selitteitä 4 vierekkäin\n",
    "plt.legend(loc = (-0.15, -0.25), ncol = 4)\n",
    " \n",
    "# x-akselin jakoviivojen otsikoiden muotoilu\n",
    "plt.gca().xaxis.set_major_formatter(myFmt1)\n",
    "\n",
    "# Pystysuuntainen taustaviivoitus\n",
    "plt.grid(axis = 'x')\n",
    "\n",
    "# Taustaviivoitus pylväiden taakse\n",
    "plt.gca().set_axisbelow(True)"
   ]
  },
  {
   "cell_type": "markdown",
   "metadata": {},
   "source": [
    "<h2>Useiden muuttujien frekvenssit yhteen taulukkoon</h2>\n",
    "\n",
    "Tässä kannattaa käyttää <b>value_counts()</b>-toimintoa."
   ]
  },
  {
   "cell_type": "code",
   "execution_count": 11,
   "metadata": {},
   "outputs": [
    {
     "data": {
      "text/html": [
       "<style type=\"text/css\">\n",
       "</style>\n",
       "<table id=\"T_1d3ef_\">\n",
       "  <thead>\n",
       "    <tr>\n",
       "      <th class=\"blank level0\" >&nbsp;</th>\n",
       "      <th class=\"col_heading level0 col0\" >johto</th>\n",
       "      <th class=\"col_heading level0 col1\" >työtov</th>\n",
       "      <th class=\"col_heading level0 col2\" >työymp</th>\n",
       "      <th class=\"col_heading level0 col3\" >palkkat</th>\n",
       "      <th class=\"col_heading level0 col4\" >työteht</th>\n",
       "    </tr>\n",
       "  </thead>\n",
       "  <tbody>\n",
       "    <tr>\n",
       "      <th id=\"T_1d3ef_level0_row0\" class=\"row_heading level0 row0\" >Erittäin tyytymätön</th>\n",
       "      <td id=\"T_1d3ef_row0_col0\" class=\"data row0 col0\" >36,6 %</td>\n",
       "      <td id=\"T_1d3ef_row0_col1\" class=\"data row0 col1\" >19,8 %</td>\n",
       "      <td id=\"T_1d3ef_row0_col2\" class=\"data row0 col2\" >36,6 %</td>\n",
       "      <td id=\"T_1d3ef_row0_col3\" class=\"data row0 col3\" >23,2 %</td>\n",
       "      <td id=\"T_1d3ef_row0_col4\" class=\"data row0 col4\" >35,4 %</td>\n",
       "    </tr>\n",
       "    <tr>\n",
       "      <th id=\"T_1d3ef_level0_row1\" class=\"row_heading level0 row1\" >Jokseenkin tyytymätön</th>\n",
       "      <td id=\"T_1d3ef_row1_col0\" class=\"data row1 col0\" >8,5 %</td>\n",
       "      <td id=\"T_1d3ef_row1_col1\" class=\"data row1 col1\" >-</td>\n",
       "      <td id=\"T_1d3ef_row1_col2\" class=\"data row1 col2\" >11,0 %</td>\n",
       "      <td id=\"T_1d3ef_row1_col3\" class=\"data row1 col3\" >40,2 %</td>\n",
       "      <td id=\"T_1d3ef_row1_col4\" class=\"data row1 col4\" >6,1 %</td>\n",
       "    </tr>\n",
       "    <tr>\n",
       "      <th id=\"T_1d3ef_level0_row2\" class=\"row_heading level0 row2\" >Ei tyytymätön eikä tyytyväinen</th>\n",
       "      <td id=\"T_1d3ef_row2_col0\" class=\"data row2 col0\" >19,5 %</td>\n",
       "      <td id=\"T_1d3ef_row2_col1\" class=\"data row2 col1\" >3,7 %</td>\n",
       "      <td id=\"T_1d3ef_row2_col2\" class=\"data row2 col2\" >11,0 %</td>\n",
       "      <td id=\"T_1d3ef_row2_col3\" class=\"data row2 col3\" >23,2 %</td>\n",
       "      <td id=\"T_1d3ef_row2_col4\" class=\"data row2 col4\" >18,3 %</td>\n",
       "    </tr>\n",
       "    <tr>\n",
       "      <th id=\"T_1d3ef_level0_row3\" class=\"row_heading level0 row3\" >Jokseenkin tyytyväinen</th>\n",
       "      <td id=\"T_1d3ef_row3_col0\" class=\"data row3 col0\" >28,0 %</td>\n",
       "      <td id=\"T_1d3ef_row3_col1\" class=\"data row3 col1\" >43,2 %</td>\n",
       "      <td id=\"T_1d3ef_row3_col2\" class=\"data row3 col2\" >28,0 %</td>\n",
       "      <td id=\"T_1d3ef_row3_col3\" class=\"data row3 col3\" >12,2 %</td>\n",
       "      <td id=\"T_1d3ef_row3_col4\" class=\"data row3 col4\" >30,5 %</td>\n",
       "    </tr>\n",
       "    <tr>\n",
       "      <th id=\"T_1d3ef_level0_row4\" class=\"row_heading level0 row4\" >Erittäin tyytyväinen</th>\n",
       "      <td id=\"T_1d3ef_row4_col0\" class=\"data row4 col0\" >7,3 %</td>\n",
       "      <td id=\"T_1d3ef_row4_col1\" class=\"data row4 col1\" >33,3 %</td>\n",
       "      <td id=\"T_1d3ef_row4_col2\" class=\"data row4 col2\" >13,4 %</td>\n",
       "      <td id=\"T_1d3ef_row4_col3\" class=\"data row4 col3\" >1,2 %</td>\n",
       "      <td id=\"T_1d3ef_row4_col4\" class=\"data row4 col4\" >9,8 %</td>\n",
       "    </tr>\n",
       "    <tr>\n",
       "      <th id=\"T_1d3ef_level0_row5\" class=\"row_heading level0 row5\" >Yhteensä</th>\n",
       "      <td id=\"T_1d3ef_row5_col0\" class=\"data row5 col0\" >100,0 %</td>\n",
       "      <td id=\"T_1d3ef_row5_col1\" class=\"data row5 col1\" >100,0 %</td>\n",
       "      <td id=\"T_1d3ef_row5_col2\" class=\"data row5 col2\" >100,0 %</td>\n",
       "      <td id=\"T_1d3ef_row5_col3\" class=\"data row5 col3\" >100,0 %</td>\n",
       "      <td id=\"T_1d3ef_row5_col4\" class=\"data row5 col4\" >100,0 %</td>\n",
       "    </tr>\n",
       "  </tbody>\n",
       "</table>\n"
      ],
      "text/plain": [
       "<pandas.io.formats.style.Styler at 0x15bdff002e0>"
      ]
     },
     "execution_count": 11,
     "metadata": {},
     "output_type": "execute_result"
    }
   ],
   "source": [
    "# Lasken prosentit value_counts()-toiminnolla ja muutan tuloksen tietokehikoksi\n",
    "df4 = df['johto'].value_counts(sort = False, normalize = True).to_frame()\n",
    "\n",
    "# Lisään tietokehikkoon uusia sarakkeita\n",
    "df4['työtov'] = df['työtov'].value_counts(sort = False, normalize = True)\n",
    "df4['työymp'] = df['työymp'].value_counts(sort = False, normalize = True)\n",
    "df4['palkkat'] = df['palkkat'].value_counts(sort = False, normalize = True)\n",
    "df4['työteht'] = df['työteht'].value_counts(sort = False, normalize = True)\n",
    "\n",
    "# Riviotsikot aiemmin määritellystä tyytyväisyys-listasta\n",
    "df4.index = tyytyväisyys\n",
    "\n",
    "# Yhteensä-rivi\n",
    "df4.loc['Yhteensä'] = df4.sum()\n",
    "\n",
    "# Loppusilaus\n",
    "# na_rep-parametrin ansiosta puuttuva arvo näytetään viivana\n",
    "(df4 * 100).style.format('{:.1f} %', na_rep = '-', decimal = ',')"
   ]
  },
  {
   "cell_type": "markdown",
   "metadata": {},
   "source": [
    "Seuraavassa lisätietoa väreistä: https://htmlcolorcodes.com/\n",
    "\n",
    "Voit määrittää värit käyttäen värien nimiä tai värikoodeja."
   ]
  },
  {
   "cell_type": "code",
   "execution_count": 12,
   "metadata": {},
   "outputs": [
    {
     "data": {
      "image/png": "[encoded data removed]",
      "text/plain": [
       "<Figure size 432x288 with 1 Axes>"
      ]
     },
     "metadata": {
      "needs_background": "light"
     },
     "output_type": "display_data"
    }
   ],
   "source": [
    "# Edellinen 100 % pylväinä\n",
    "df4.drop('Yhteensä').T.plot.barh(stacked = True, \n",
    "                    color = ['#C44E52', '#D65F5F', 'gray', '#4878CF', '#4C72B0'])\n",
    "\n",
    "plt.xlabel('Prosenttia vastaajista')\n",
    "\n",
    "# Selitteen sijainti; 2 selitettä vierekkäin\n",
    "plt.legend(loc = (-0.03, 1.1), ncol = 2)\n",
    "\n",
    "# x-akselin jakoviivojen otsikoiden muotoilu\n",
    "plt.gca().xaxis.set_major_formatter(myFmt1)\n",
    "\n",
    "# Pystysuuntainen taustaviivoitus\n",
    "plt.grid(axis = 'x')\n",
    "\n",
    "# Taustaviivoitus pylväiden taakse\n",
    "plt.gca().set_axisbelow(True)"
   ]
  },
  {
   "cell_type": "markdown",
   "metadata": {},
   "source": [
    "Matplotlib mahdollistaa monenlaisia toteutuksia. Seuraavassa laadin viiden kaavion yhdistelmän\n",
    "\n",
    "- parametrilla <b>subplots = True</b> määritän, että jokaisesta sarakkeesta oma kaavio\n",
    "- parametrilla <b>layout = (1, 5)</b> määritän, että kaaviot sijoitetaan 1 riville, 5 rinnakkain\n",
    "- parametreilla <b>sharex = True, sharey = True</b> määritän, että kaikilla kaavioilla on yhteiset akselit\n",
    "- parametrilla <b>figsize = (12, 2)</b> määritän kuvion koon\n",
    "- parametrilla <b>legend = False</b> jätän kaavioista selitteet pois"
   ]
  },
  {
   "cell_type": "code",
   "execution_count": 24,
   "metadata": {},
   "outputs": [
    {
     "data": {
      "text/plain": [
       "Text(0.08, 0.5, '%')"
      ]
     },
     "execution_count": 24,
     "metadata": {},
     "output_type": "execute_result"
    },
    {
     "data": {
      "image/png": "[encoded data removed]",
      "text/plain": [
       "<Figure size 864x144 with 5 Axes>"
      ]
     },
     "metadata": {
      "needs_background": "light"
     },
     "output_type": "display_data"
    }
   ],
   "source": [
    "(df4.drop('Yhteensä') * 100).plot.bar(subplots = True, layout = (1, 5), sharex = True, sharey = True, \n",
    "              figsize = (12, 2), legend = False)\n",
    "\n",
    "# Kuvio, jonka sisällä kaaviot sijaitsevat (gcf = get current figure)\n",
    "fig = plt.gcf()\n",
    "\n",
    "# %-merkki kuvion sijaintiin (0.08, 0.5)\n",
    "fig.text(0.08, 0.5, \"%\")"
   ]
  },
  {
   "cell_type": "markdown",
   "metadata": {},
   "source": [
    "<h2>count() laskee monivalintojen yhteenvedot</h2>\n",
    "\n",
    "Monivalintojen yhteenveto sujuu esimerkiksi <b>count()</b>-toiminnolla. count()-toiminnon tulos ei ole tietokehikko, mutta voin muuttaa sen tietokehikoksi. Samalla voin järjestää monivalinnan vaihtoehdot valintojen mukaiseen järjestykseen <b>sort_values</b>-funktiolla.\n",
    "\n",
    "Voin ryhmitellä tulokset toisen muuttujan, esimerkiksi sukupuolen, mukaan <b>groupby()</b>-toiminnolla."
   ]
  },
  {
   "cell_type": "code",
   "execution_count": 14,
   "metadata": {},
   "outputs": [
    {
     "data": {
      "text/html": [
       "<div>\n",
       "<style scoped>\n",
       "    .dataframe tbody tr th:only-of-type {\n",
       "        vertical-align: middle;\n",
       "    }\n",
       "\n",
       "    .dataframe tbody tr th {\n",
       "        vertical-align: top;\n",
       "    }\n",
       "\n",
       "    .dataframe thead th {\n",
       "        text-align: right;\n",
       "    }\n",
       "</style>\n",
       "<table border=\"1\" class=\"dataframe\">\n",
       "  <thead>\n",
       "    <tr style=\"text-align: right;\">\n",
       "      <th></th>\n",
       "      <th>f</th>\n",
       "    </tr>\n",
       "  </thead>\n",
       "  <tbody>\n",
       "    <tr>\n",
       "      <th>työterv</th>\n",
       "      <td>47</td>\n",
       "    </tr>\n",
       "    <tr>\n",
       "      <th>hieroja</th>\n",
       "      <td>22</td>\n",
       "    </tr>\n",
       "    <tr>\n",
       "      <th>lomaosa</th>\n",
       "      <td>20</td>\n",
       "    </tr>\n",
       "    <tr>\n",
       "      <th>kuntosa</th>\n",
       "      <td>9</td>\n",
       "    </tr>\n",
       "  </tbody>\n",
       "</table>\n",
       "</div>"
      ],
      "text/plain": [
       "          f\n",
       "työterv  47\n",
       "hieroja  22\n",
       "lomaosa  20\n",
       "kuntosa   9"
      ]
     },
     "execution_count": 14,
     "metadata": {},
     "output_type": "execute_result"
    }
   ],
   "source": [
    "# Monivalintojen lukumäärät\n",
    "df5 = df[monivalinnat].count()\n",
    "\n",
    "# Muutan series-tyyppisen listan tietokehikoksi ja järjestän lukumäärien mukaiseen järjestykseen\n",
    "df5 = df5.to_frame('f').sort_values(by = 'f', ascending = False)\n",
    "\n",
    "df5"
   ]
  },
  {
   "cell_type": "code",
   "execution_count": 15,
   "metadata": {},
   "outputs": [
    {
     "data": {
      "text/html": [
       "<style type=\"text/css\">\n",
       "</style>\n",
       "<table id=\"T_f4ed9_\">\n",
       "  <thead>\n",
       "    <tr>\n",
       "      <th class=\"blank level0\" >&nbsp;</th>\n",
       "      <th class=\"col_heading level0 col0\" >f</th>\n",
       "      <th class=\"col_heading level0 col1\" >% vastaajista</th>\n",
       "    </tr>\n",
       "  </thead>\n",
       "  <tbody>\n",
       "    <tr>\n",
       "      <th id=\"T_f4ed9_level0_row0\" class=\"row_heading level0 row0\" >työterv</th>\n",
       "      <td id=\"T_f4ed9_row0_col0\" class=\"data row0 col0\" >47</td>\n",
       "      <td id=\"T_f4ed9_row0_col1\" class=\"data row0 col1\" >57,3 %</td>\n",
       "    </tr>\n",
       "    <tr>\n",
       "      <th id=\"T_f4ed9_level0_row1\" class=\"row_heading level0 row1\" >hieroja</th>\n",
       "      <td id=\"T_f4ed9_row1_col0\" class=\"data row1 col0\" >22</td>\n",
       "      <td id=\"T_f4ed9_row1_col1\" class=\"data row1 col1\" >26,8 %</td>\n",
       "    </tr>\n",
       "    <tr>\n",
       "      <th id=\"T_f4ed9_level0_row2\" class=\"row_heading level0 row2\" >lomaosa</th>\n",
       "      <td id=\"T_f4ed9_row2_col0\" class=\"data row2 col0\" >20</td>\n",
       "      <td id=\"T_f4ed9_row2_col1\" class=\"data row2 col1\" >24,4 %</td>\n",
       "    </tr>\n",
       "    <tr>\n",
       "      <th id=\"T_f4ed9_level0_row3\" class=\"row_heading level0 row3\" >kuntosa</th>\n",
       "      <td id=\"T_f4ed9_row3_col0\" class=\"data row3 col0\" >9</td>\n",
       "      <td id=\"T_f4ed9_row3_col1\" class=\"data row3 col1\" >11,0 %</td>\n",
       "    </tr>\n",
       "  </tbody>\n",
       "</table>\n"
      ],
      "text/plain": [
       "<pandas.io.formats.style.Styler at 0x15be01fa4c0>"
      ]
     },
     "execution_count": 15,
     "metadata": {},
     "output_type": "execute_result"
    }
   ],
   "source": [
    "# Prosenttia vastaajien kokonaismäärästä (shape[0])\n",
    "df5['% vastaajista'] = df5['f'] / df.shape[0] * 100\n",
    "\n",
    "# Loppusilaus\n",
    "df5.style.format({'f':'{:.0f}', '% vastaajista':'{:.1f} %'}, decimal = ',')"
   ]
  },
  {
   "cell_type": "code",
   "execution_count": 16,
   "metadata": {},
   "outputs": [
    {
     "data": {
      "image/png": "[encoded data removed]",
      "text/plain": [
       "<Figure size 432x288 with 1 Axes>"
      ]
     },
     "metadata": {
      "needs_background": "light"
     },
     "output_type": "display_data"
    }
   ],
   "source": [
    "# Edellinen pylväinä\n",
    "df5['f'].plot.barh(legend = False)\n",
    "\n",
    "plt.xlabel('Käyttäjien lukumäärä')\n",
    "\n",
    "# Pystysuuntainen taustaviivoitus\n",
    "plt.grid(axis = 'x')\n",
    "\n",
    "# Taustaviivoitus pylväiden taakse\n",
    "plt.gca().set_axisbelow(True)"
   ]
  },
  {
   "cell_type": "code",
   "execution_count": 17,
   "metadata": {},
   "outputs": [
    {
     "data": {
      "text/html": [
       "<div>\n",
       "<style scoped>\n",
       "    .dataframe tbody tr th:only-of-type {\n",
       "        vertical-align: middle;\n",
       "    }\n",
       "\n",
       "    .dataframe tbody tr th {\n",
       "        vertical-align: top;\n",
       "    }\n",
       "\n",
       "    .dataframe thead th {\n",
       "        text-align: right;\n",
       "    }\n",
       "</style>\n",
       "<table border=\"1\" class=\"dataframe\">\n",
       "  <thead>\n",
       "    <tr style=\"text-align: right;\">\n",
       "      <th></th>\n",
       "      <th>työterv</th>\n",
       "      <th>lomaosa</th>\n",
       "      <th>kuntosa</th>\n",
       "      <th>hieroja</th>\n",
       "    </tr>\n",
       "  </thead>\n",
       "  <tbody>\n",
       "    <tr>\n",
       "      <th>Mies</th>\n",
       "      <td>35</td>\n",
       "      <td>16</td>\n",
       "      <td>8</td>\n",
       "      <td>13</td>\n",
       "    </tr>\n",
       "    <tr>\n",
       "      <th>Nainen</th>\n",
       "      <td>12</td>\n",
       "      <td>4</td>\n",
       "      <td>1</td>\n",
       "      <td>9</td>\n",
       "    </tr>\n",
       "  </tbody>\n",
       "</table>\n",
       "</div>"
      ],
      "text/plain": [
       "        työterv  lomaosa  kuntosa  hieroja\n",
       "Mies         35       16        8       13\n",
       "Nainen       12        4        1        9"
      ]
     },
     "execution_count": 17,
     "metadata": {},
     "output_type": "execute_result"
    }
   ],
   "source": [
    "# Monivalinnat sukupuolen mukaan\n",
    "df6 = df.groupby('sukup')[monivalinnat].count()\n",
    "\n",
    "# Sukupuolet sukup-listasta, jonka määrittelin aiemmin\n",
    "df6.index = sukup\n",
    "\n",
    "df6"
   ]
  },
  {
   "cell_type": "code",
   "execution_count": 18,
   "metadata": {},
   "outputs": [
    {
     "data": {
      "text/html": [
       "<style type=\"text/css\">\n",
       "</style>\n",
       "<table id=\"T_da0cc_\">\n",
       "  <thead>\n",
       "    <tr>\n",
       "      <th class=\"blank level0\" >&nbsp;</th>\n",
       "      <th class=\"col_heading level0 col0\" >työterv</th>\n",
       "      <th class=\"col_heading level0 col1\" >lomaosa</th>\n",
       "      <th class=\"col_heading level0 col2\" >kuntosa</th>\n",
       "      <th class=\"col_heading level0 col3\" >hieroja</th>\n",
       "    </tr>\n",
       "  </thead>\n",
       "  <tbody>\n",
       "    <tr>\n",
       "      <th id=\"T_da0cc_level0_row0\" class=\"row_heading level0 row0\" >Mies, n = 63</th>\n",
       "      <td id=\"T_da0cc_row0_col0\" class=\"data row0 col0\" >55,6 %</td>\n",
       "      <td id=\"T_da0cc_row0_col1\" class=\"data row0 col1\" >25,4 %</td>\n",
       "      <td id=\"T_da0cc_row0_col2\" class=\"data row0 col2\" >12,7 %</td>\n",
       "      <td id=\"T_da0cc_row0_col3\" class=\"data row0 col3\" >20,6 %</td>\n",
       "    </tr>\n",
       "    <tr>\n",
       "      <th id=\"T_da0cc_level0_row1\" class=\"row_heading level0 row1\" >Nainen, n = 19</th>\n",
       "      <td id=\"T_da0cc_row1_col0\" class=\"data row1 col0\" >63,2 %</td>\n",
       "      <td id=\"T_da0cc_row1_col1\" class=\"data row1 col1\" >21,1 %</td>\n",
       "      <td id=\"T_da0cc_row1_col2\" class=\"data row1 col2\" >5,3 %</td>\n",
       "      <td id=\"T_da0cc_row1_col3\" class=\"data row1 col3\" >47,4 %</td>\n",
       "    </tr>\n",
       "  </tbody>\n",
       "</table>\n"
      ],
      "text/plain": [
       "<pandas.io.formats.style.Styler at 0x15bdfe57af0>"
      ]
     },
     "execution_count": 18,
     "metadata": {},
     "output_type": "execute_result"
    }
   ],
   "source": [
    "# Monivalinnat sukupuolen mukaan\n",
    "df7 = df.groupby('sukup')[monivalinnat].count()\n",
    "\n",
    "# Miesten ja naisten lukumäärät\n",
    "miehet = df['sukup'].value_counts()[1]\n",
    "naiset = df['sukup'].value_counts()[2]\n",
    "\n",
    "# Prosentit\n",
    "# iloc[0] viittaa indeksin mukaiselle 0-riville (miesten rivi)\n",
    "df7.iloc[0] = df7.iloc[0] / miehet\n",
    "df7.iloc[1] = df7.iloc[1] / naiset\n",
    "\n",
    "# Kikkailen n-arvot mukaan\n",
    "df7.index = ['Mies, n = ' + str(miehet), 'Nainen, n = ' + str(naiset)]\n",
    "\n",
    "# Loppusilaus\n",
    "(df7*100).style.format('{:.1f} %', decimal = ',')"
   ]
  },
  {
   "cell_type": "code",
   "execution_count": 19,
   "metadata": {},
   "outputs": [
    {
     "data": {
      "image/png": "[encoded data removed]",
      "text/plain": [
       "<Figure size 432x288 with 1 Axes>"
      ]
     },
     "metadata": {
      "needs_background": "light"
     },
     "output_type": "display_data"
    }
   ],
   "source": [
    "# Edellinen pylväinä\n",
    "df7.plot.barh(legend = 'reverse')\n",
    "\n",
    "plt.xlabel('% sukupuolesta')\n",
    "\n",
    "# x-akselin jakoviivojen otsikoiden muotoilu\n",
    "plt.gca().xaxis.set_major_formatter(myFmt1)\n",
    "\n",
    "# Pystysuuntainen taustaviivoitus\n",
    "plt.grid(axis = 'x')\n",
    "\n",
    "# Taustaviivoitus pylväiden taakse\n",
    "plt.gca().set_axisbelow(True)"
   ]
  },
  {
   "cell_type": "markdown",
   "metadata": {},
   "source": [
    "<h2>Luokiteltu jakauma</h2>\n",
    "\n",
    "Pandas-kirjaston <b>cut</b>-toiminnolla voin luokitella muuttujan. Oletuksena luokan yläraja kuuluu luokkaan. Parametrilla <b>right = False</b> voin vaihtaa luokan alarajan kuulumaan luokkaan."
   ]
  },
  {
   "cell_type": "code",
   "execution_count": 20,
   "metadata": {},
   "outputs": [
    {
     "data": {
      "text/html": [
       "<style type=\"text/css\">\n",
       "</style>\n",
       "<table id=\"T_cb5dd_\">\n",
       "  <thead>\n",
       "    <tr>\n",
       "      <th class=\"index_name level0\" ></th>\n",
       "      <th class=\"col_heading level0 col0\" >f</th>\n",
       "      <th class=\"col_heading level0 col1\" >f (%)</th>\n",
       "    </tr>\n",
       "    <tr>\n",
       "      <th class=\"index_name level0\" >palkkaluokka</th>\n",
       "      <th class=\"blank col0\" >&nbsp;</th>\n",
       "      <th class=\"blank col1\" >&nbsp;</th>\n",
       "    </tr>\n",
       "  </thead>\n",
       "  <tbody>\n",
       "    <tr>\n",
       "      <th id=\"T_cb5dd_level0_row0\" class=\"row_heading level0 row0\" >(1000, 2000]</th>\n",
       "      <td id=\"T_cb5dd_row0_col0\" class=\"data row0 col0\" >19</td>\n",
       "      <td id=\"T_cb5dd_row0_col1\" class=\"data row0 col1\" >23,2 %</td>\n",
       "    </tr>\n",
       "    <tr>\n",
       "      <th id=\"T_cb5dd_level0_row1\" class=\"row_heading level0 row1\" >(2000, 3000]</th>\n",
       "      <td id=\"T_cb5dd_row1_col0\" class=\"data row1 col0\" >50</td>\n",
       "      <td id=\"T_cb5dd_row1_col1\" class=\"data row1 col1\" >61,0 %</td>\n",
       "    </tr>\n",
       "    <tr>\n",
       "      <th id=\"T_cb5dd_level0_row2\" class=\"row_heading level0 row2\" >(3000, 4000]</th>\n",
       "      <td id=\"T_cb5dd_row2_col0\" class=\"data row2 col0\" >8</td>\n",
       "      <td id=\"T_cb5dd_row2_col1\" class=\"data row2 col1\" >9,8 %</td>\n",
       "    </tr>\n",
       "    <tr>\n",
       "      <th id=\"T_cb5dd_level0_row3\" class=\"row_heading level0 row3\" >(4000, 7000]</th>\n",
       "      <td id=\"T_cb5dd_row3_col0\" class=\"data row3 col0\" >5</td>\n",
       "      <td id=\"T_cb5dd_row3_col1\" class=\"data row3 col1\" >6,1 %</td>\n",
       "    </tr>\n",
       "    <tr>\n",
       "      <th id=\"T_cb5dd_level0_row4\" class=\"row_heading level0 row4\" >Yhteensä</th>\n",
       "      <td id=\"T_cb5dd_row4_col0\" class=\"data row4 col0\" >82</td>\n",
       "      <td id=\"T_cb5dd_row4_col1\" class=\"data row4 col1\" >100,0 %</td>\n",
       "    </tr>\n",
       "  </tbody>\n",
       "</table>\n"
      ],
      "text/plain": [
       "<pandas.io.formats.style.Styler at 0x15bde481730>"
      ]
     },
     "execution_count": 20,
     "metadata": {},
     "output_type": "execute_result"
    }
   ],
   "source": [
    "# Määrittelen luokkarajat palkan luokittelemiseksi\n",
    "rajat = [1000, 2000, 3000, 4000, 7000]\n",
    "\n",
    "# Lisään dataan palkkaluokka-sarakkeen\n",
    "df['palkkaluokka'] = pd.cut(df['palkka'], bins = rajat)\n",
    "\n",
    "# Palkkaluokkiin kuuluvien lukumäärät\n",
    "df8 = pd.crosstab(df['palkkaluokka'], 'f')\n",
    "df8.columns.name = ''\n",
    "\n",
    "# Prosentit\n",
    "df8['f (%)'] = df8 / df8.sum() * 100\n",
    "\n",
    "# Yhteensä-rivin lisäämiseksi indeksin luokkaväliarvot on ensin muuutettava merkkijonoiksi,\n",
    "# koska tietokehikon sarake saa sisältää vain yhden tyyppistä tietoa!\n",
    "# Nykyisissä kirjastoversioissa ei enää tarpeellinen\n",
    "df8.index = df8.index.astype(str)\n",
    "\n",
    "df8.loc['Yhteensä'] = df8.sum()\n",
    "\n",
    "# Loppusilaus\n",
    "df8.style.format({'f' : '{:.0f}', 'f (%)' : '{:.1f} %'}, decimal = ',')"
   ]
  },
  {
   "cell_type": "code",
   "execution_count": 21,
   "metadata": {},
   "outputs": [
    {
     "data": {
      "image/png": "[encoded data removed]",
      "text/plain": [
       "<Figure size 432x288 with 1 Axes>"
      ]
     },
     "metadata": {
      "needs_background": "light"
     },
     "output_type": "display_data"
    }
   ],
   "source": [
    "# Edellinen kaaviona; width = 1 laittaa pylväät kiinni toisiinsa\n",
    "# rot = 45 kääntää x-akselin jakoviivojen otsikoita 45 astetta\n",
    "df8.drop('Yhteensä')['f'].plot.bar(width = 1, rot = 45, legend = False, edgecolor = 'black')\n",
    "\n",
    "plt.ylabel('lukumäärä')\n",
    "\n",
    "# Vaakasuuntainen taustaviivoitus\n",
    "plt.grid(axis = 'y')\n",
    "\n",
    "# Taustaviivoitus pylväiden taakse\n",
    "plt.gca().set_axisbelow(True)"
   ]
  },
  {
   "cell_type": "code",
   "execution_count": 22,
   "metadata": {},
   "outputs": [
    {
     "data": {
      "text/plain": [
       "Text(0, 0.5, 'Lukumäärä')"
      ]
     },
     "execution_count": 22,
     "metadata": {},
     "output_type": "execute_result"
    },
    {
     "data": {
      "image/png": "[encoded data removed]",
      "text/plain": [
       "<Figure size 432x288 with 1 Axes>"
      ]
     },
     "metadata": {
      "needs_background": "light"
     },
     "output_type": "display_data"
    }
   ],
   "source": [
    "# Nopein tapa luokitellun jakauman tarkasteluun on hist-kaavio\n",
    "df['palkka'].hist(bins = rajat)\n",
    "\n",
    "plt.xlabel('Palkka')\n",
    "plt.ylabel('Lukumäärä')"
   ]
  },
  {
   "cell_type": "markdown",
   "metadata": {},
   "source": [
    "hist-toiminnolla tehdyssä histogrammissa pylvään leveys riippuu oikeaoppisesti luokkavälin pituudesta (tässä luokkaan (4000, 7000] liittyvä pylväs on muita leveämpi."
   ]
  },
  {
   "cell_type": "code",
   "execution_count": 23,
   "metadata": {},
   "outputs": [
    {
     "data": {
      "image/png": "[encoded data removed]",
      "text/plain": [
       "<Figure size 432x288 with 1 Axes>"
      ]
     },
     "metadata": {
      "needs_background": "light"
     },
     "output_type": "display_data"
    }
   ],
   "source": [
    "# np.ones kikalla prosentit hist-kaavioon\n",
    "# np.ones tuottaa n kpl ykkösiä, jolloin jokaiselle luokalle tulee painoksi 1 / n\n",
    "\n",
    "# Histogrammi, jossa y-akselilla prosentit\n",
    "n = df['palkka'].count()\n",
    "\n",
    "df['palkka'].hist(bins = rajat, weights = np.ones(n) / n)\n",
    "\n",
    "plt.xlabel('Palkka')\n",
    "plt.ylabel('Prosenttia, n = '+str(n))\n",
    "\n",
    "# x-akselin jakoviivojen otsikoiden muotoilu\n",
    "plt.gca().yaxis.set_major_formatter(myFmt1)"
   ]
  },
  {
   "cell_type": "markdown",
   "metadata": {},
   "source": [
    "<h2>Lisätietoa</h2>\n",
    "\n",
    "- https://nbviewer.jupyter.org/github/taanila/kuvaileva/blob/main/value_counts.ipynb\n",
    "\n",
    "Data-analytiikka Pythonilla: https://tilastoapu.wordpress.com/python/"
   ]
  }
 ],
 "metadata": {
  "kernelspec": {
   "display_name": "Python 3 (ipykernel)",
   "language": "python",
   "name": "python3"
  },
  "language_info": {
   "codemirror_mode": {
    "name": "ipython",
    "version": 3
   },
   "file_extension": ".py",
   "mimetype": "text/x-python",
   "name": "python",
   "nbconvert_exporter": "python",
   "pygments_lexer": "ipython3",
   "version": "3.9.7"
  }
 },
 "nbformat": 4,
 "nbformat_minor": 2
}
