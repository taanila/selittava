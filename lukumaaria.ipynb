{
 "cells": [
  {
   "cell_type": "code",
   "execution_count": 1,
   "metadata": {},
   "outputs": [
    {
     "name": "stdout",
     "output_type": "stream",
     "text": [
      "Päivitetty 2023-05-02 / Aki Taanila\n"
     ]
    }
   ],
   "source": [
    "from datetime import datetime\n",
    "print(f'Päivitetty {datetime.now().date()} / Aki Taanila')"
   ]
  },
  {
   "cell_type": "markdown",
   "metadata": {},
   "source": [
    "# Lukumäärä- ja prosenttiyhteenvedot\n",
    "\n",
    "Tämä muistio sisältää likimain kaiken mitä sinun tarvitsee tietää lukumäärien ja prosenttien laskemisesta Pythonin pandas-kirjastoa käyttäen."
   ]
  },
  {
   "cell_type": "code",
   "execution_count": 2,
   "metadata": {},
   "outputs": [],
   "source": [
    "# Tuon tarvittavat kirjastot\n",
    "import pandas as pd\n",
    "import matplotlib.pyplot as plt\n",
    "import seaborn as sns\n",
    "from matplotlib.ticker import PercentFormatter\n",
    "\n",
    "# Jos prosentit desimaalilukuina, niin käytän tätä akselin muotoiluun \n",
    "myFmt1 = PercentFormatter(xmax=1, decimals=0, symbol=' %')\n",
    "\n",
    "# Jos prosentit on jo valmiiksi kerrottu sadalla, niin käytän tätä akselin muotoiluun\n",
    "myFmt100 = PercentFormatter(xmax=100, decimals=0, symbol=' %')\n",
    "\n",
    "# Grafiikan tyylimääritys\n",
    "sns.set_style('whitegrid')"
   ]
  },
  {
   "cell_type": "code",
   "execution_count": 3,
   "metadata": {},
   "outputs": [
    {
     "data": {
      "text/html": [
       "<div>\n",
       "<style scoped>\n",
       "    .dataframe tbody tr th:only-of-type {\n",
       "        vertical-align: middle;\n",
       "    }\n",
       "\n",
       "    .dataframe tbody tr th {\n",
       "        vertical-align: top;\n",
       "    }\n",
       "\n",
       "    .dataframe thead th {\n",
       "        text-align: right;\n",
       "    }\n",
       "</style>\n",
       "<table border=\"1\" class=\"dataframe\">\n",
       "  <thead>\n",
       "    <tr style=\"text-align: right;\">\n",
       "      <th></th>\n",
       "      <th>nro</th>\n",
       "      <th>sukup</th>\n",
       "      <th>ikä</th>\n",
       "      <th>perhe</th>\n",
       "      <th>koulutus</th>\n",
       "      <th>palveluv</th>\n",
       "      <th>palkka</th>\n",
       "      <th>johto</th>\n",
       "      <th>työtov</th>\n",
       "      <th>työymp</th>\n",
       "      <th>palkkat</th>\n",
       "      <th>työteht</th>\n",
       "      <th>työterv</th>\n",
       "      <th>lomaosa</th>\n",
       "      <th>kuntosa</th>\n",
       "      <th>hieroja</th>\n",
       "    </tr>\n",
       "  </thead>\n",
       "  <tbody>\n",
       "    <tr>\n",
       "      <th>0</th>\n",
       "      <td>1</td>\n",
       "      <td>1</td>\n",
       "      <td>38</td>\n",
       "      <td>1</td>\n",
       "      <td>1.0</td>\n",
       "      <td>22.0</td>\n",
       "      <td>3587</td>\n",
       "      <td>3</td>\n",
       "      <td>3.0</td>\n",
       "      <td>3</td>\n",
       "      <td>3</td>\n",
       "      <td>3</td>\n",
       "      <td>NaN</td>\n",
       "      <td>NaN</td>\n",
       "      <td>NaN</td>\n",
       "      <td>NaN</td>\n",
       "    </tr>\n",
       "    <tr>\n",
       "      <th>1</th>\n",
       "      <td>2</td>\n",
       "      <td>1</td>\n",
       "      <td>29</td>\n",
       "      <td>2</td>\n",
       "      <td>2.0</td>\n",
       "      <td>10.0</td>\n",
       "      <td>2963</td>\n",
       "      <td>1</td>\n",
       "      <td>5.0</td>\n",
       "      <td>2</td>\n",
       "      <td>1</td>\n",
       "      <td>3</td>\n",
       "      <td>NaN</td>\n",
       "      <td>NaN</td>\n",
       "      <td>NaN</td>\n",
       "      <td>NaN</td>\n",
       "    </tr>\n",
       "    <tr>\n",
       "      <th>2</th>\n",
       "      <td>3</td>\n",
       "      <td>1</td>\n",
       "      <td>30</td>\n",
       "      <td>1</td>\n",
       "      <td>1.0</td>\n",
       "      <td>7.0</td>\n",
       "      <td>1989</td>\n",
       "      <td>3</td>\n",
       "      <td>4.0</td>\n",
       "      <td>1</td>\n",
       "      <td>1</td>\n",
       "      <td>3</td>\n",
       "      <td>1.0</td>\n",
       "      <td>NaN</td>\n",
       "      <td>NaN</td>\n",
       "      <td>NaN</td>\n",
       "    </tr>\n",
       "    <tr>\n",
       "      <th>3</th>\n",
       "      <td>4</td>\n",
       "      <td>1</td>\n",
       "      <td>36</td>\n",
       "      <td>2</td>\n",
       "      <td>1.0</td>\n",
       "      <td>14.0</td>\n",
       "      <td>2144</td>\n",
       "      <td>3</td>\n",
       "      <td>3.0</td>\n",
       "      <td>3</td>\n",
       "      <td>3</td>\n",
       "      <td>3</td>\n",
       "      <td>1.0</td>\n",
       "      <td>NaN</td>\n",
       "      <td>NaN</td>\n",
       "      <td>NaN</td>\n",
       "    </tr>\n",
       "    <tr>\n",
       "      <th>4</th>\n",
       "      <td>5</td>\n",
       "      <td>1</td>\n",
       "      <td>24</td>\n",
       "      <td>1</td>\n",
       "      <td>2.0</td>\n",
       "      <td>4.0</td>\n",
       "      <td>2183</td>\n",
       "      <td>2</td>\n",
       "      <td>3.0</td>\n",
       "      <td>2</td>\n",
       "      <td>1</td>\n",
       "      <td>2</td>\n",
       "      <td>1.0</td>\n",
       "      <td>NaN</td>\n",
       "      <td>NaN</td>\n",
       "      <td>NaN</td>\n",
       "    </tr>\n",
       "    <tr>\n",
       "      <th>...</th>\n",
       "      <td>...</td>\n",
       "      <td>...</td>\n",
       "      <td>...</td>\n",
       "      <td>...</td>\n",
       "      <td>...</td>\n",
       "      <td>...</td>\n",
       "      <td>...</td>\n",
       "      <td>...</td>\n",
       "      <td>...</td>\n",
       "      <td>...</td>\n",
       "      <td>...</td>\n",
       "      <td>...</td>\n",
       "      <td>...</td>\n",
       "      <td>...</td>\n",
       "      <td>...</td>\n",
       "      <td>...</td>\n",
       "    </tr>\n",
       "    <tr>\n",
       "      <th>77</th>\n",
       "      <td>78</td>\n",
       "      <td>1</td>\n",
       "      <td>22</td>\n",
       "      <td>1</td>\n",
       "      <td>3.0</td>\n",
       "      <td>0.0</td>\n",
       "      <td>1598</td>\n",
       "      <td>4</td>\n",
       "      <td>4.0</td>\n",
       "      <td>4</td>\n",
       "      <td>3</td>\n",
       "      <td>4</td>\n",
       "      <td>NaN</td>\n",
       "      <td>1.0</td>\n",
       "      <td>1.0</td>\n",
       "      <td>NaN</td>\n",
       "    </tr>\n",
       "    <tr>\n",
       "      <th>78</th>\n",
       "      <td>79</td>\n",
       "      <td>1</td>\n",
       "      <td>33</td>\n",
       "      <td>1</td>\n",
       "      <td>1.0</td>\n",
       "      <td>2.0</td>\n",
       "      <td>1638</td>\n",
       "      <td>1</td>\n",
       "      <td>3.0</td>\n",
       "      <td>2</td>\n",
       "      <td>1</td>\n",
       "      <td>2</td>\n",
       "      <td>1.0</td>\n",
       "      <td>NaN</td>\n",
       "      <td>NaN</td>\n",
       "      <td>NaN</td>\n",
       "    </tr>\n",
       "    <tr>\n",
       "      <th>79</th>\n",
       "      <td>80</td>\n",
       "      <td>1</td>\n",
       "      <td>27</td>\n",
       "      <td>1</td>\n",
       "      <td>2.0</td>\n",
       "      <td>7.0</td>\n",
       "      <td>2612</td>\n",
       "      <td>3</td>\n",
       "      <td>4.0</td>\n",
       "      <td>3</td>\n",
       "      <td>3</td>\n",
       "      <td>3</td>\n",
       "      <td>1.0</td>\n",
       "      <td>NaN</td>\n",
       "      <td>1.0</td>\n",
       "      <td>NaN</td>\n",
       "    </tr>\n",
       "    <tr>\n",
       "      <th>80</th>\n",
       "      <td>81</td>\n",
       "      <td>1</td>\n",
       "      <td>35</td>\n",
       "      <td>2</td>\n",
       "      <td>2.0</td>\n",
       "      <td>16.0</td>\n",
       "      <td>2808</td>\n",
       "      <td>3</td>\n",
       "      <td>4.0</td>\n",
       "      <td>3</td>\n",
       "      <td>3</td>\n",
       "      <td>3</td>\n",
       "      <td>NaN</td>\n",
       "      <td>NaN</td>\n",
       "      <td>NaN</td>\n",
       "      <td>NaN</td>\n",
       "    </tr>\n",
       "    <tr>\n",
       "      <th>81</th>\n",
       "      <td>82</td>\n",
       "      <td>2</td>\n",
       "      <td>35</td>\n",
       "      <td>2</td>\n",
       "      <td>3.0</td>\n",
       "      <td>15.0</td>\n",
       "      <td>2183</td>\n",
       "      <td>3</td>\n",
       "      <td>4.0</td>\n",
       "      <td>4</td>\n",
       "      <td>3</td>\n",
       "      <td>4</td>\n",
       "      <td>1.0</td>\n",
       "      <td>NaN</td>\n",
       "      <td>NaN</td>\n",
       "      <td>NaN</td>\n",
       "    </tr>\n",
       "  </tbody>\n",
       "</table>\n",
       "<p>82 rows × 16 columns</p>\n",
       "</div>"
      ],
      "text/plain": [
       "    nro  sukup  ikä  perhe  koulutus  palveluv  palkka  johto  työtov  työymp  \\\n",
       "0     1      1   38      1       1.0      22.0    3587      3     3.0       3   \n",
       "1     2      1   29      2       2.0      10.0    2963      1     5.0       2   \n",
       "2     3      1   30      1       1.0       7.0    1989      3     4.0       1   \n",
       "3     4      1   36      2       1.0      14.0    2144      3     3.0       3   \n",
       "4     5      1   24      1       2.0       4.0    2183      2     3.0       2   \n",
       "..  ...    ...  ...    ...       ...       ...     ...    ...     ...     ...   \n",
       "77   78      1   22      1       3.0       0.0    1598      4     4.0       4   \n",
       "78   79      1   33      1       1.0       2.0    1638      1     3.0       2   \n",
       "79   80      1   27      1       2.0       7.0    2612      3     4.0       3   \n",
       "80   81      1   35      2       2.0      16.0    2808      3     4.0       3   \n",
       "81   82      2   35      2       3.0      15.0    2183      3     4.0       4   \n",
       "\n",
       "    palkkat  työteht  työterv  lomaosa  kuntosa  hieroja  \n",
       "0         3        3      NaN      NaN      NaN      NaN  \n",
       "1         1        3      NaN      NaN      NaN      NaN  \n",
       "2         1        3      1.0      NaN      NaN      NaN  \n",
       "3         3        3      1.0      NaN      NaN      NaN  \n",
       "4         1        2      1.0      NaN      NaN      NaN  \n",
       "..      ...      ...      ...      ...      ...      ...  \n",
       "77        3        4      NaN      1.0      1.0      NaN  \n",
       "78        1        2      1.0      NaN      NaN      NaN  \n",
       "79        3        3      1.0      NaN      1.0      NaN  \n",
       "80        3        3      NaN      NaN      NaN      NaN  \n",
       "81        3        4      1.0      NaN      NaN      NaN  \n",
       "\n",
       "[82 rows x 16 columns]"
      ]
     },
     "execution_count": 3,
     "metadata": {},
     "output_type": "execute_result"
    }
   ],
   "source": [
    "df = pd.read_excel('https://taanila.fi/data1.xlsx')\n",
    "df"
   ]
  },
  {
   "cell_type": "markdown",
   "metadata": {},
   "source": [
    "## Muuttujien tekstimuotoiset arvot\n",
    "\n",
    "Muuttujien mahdolliset tektimuotoiset arvot kannattaa tallentaa lista-muuttujiin. Listoja on myöhemmin helppo lisätä tulostaulukoihin."
   ]
  },
  {
   "cell_type": "code",
   "execution_count": 4,
   "metadata": {},
   "outputs": [],
   "source": [
    "koulutus = ['Peruskoulu', '2. aste', 'Korkeakoulu', 'Ylempi korkeakoulu']\n",
    "perhe = ['Perheetön', 'Perheellinen']\n",
    "sukup = ['Mies', 'Nainen']\n",
    "tyytyväisyys = ['Erittäin tyytymätön', 'Jokseenkin tyytymätön', 'Ei tyytymätön eikä tyytyväinen', \n",
    "                'Jokseenkin tyytyväinen', 'Erittäin tyytyväinen']\n",
    "\n",
    "# Monivalintakysymyksen (mitä etuisuuksia olet käyttänyt?) vaihtoehtojen lista\n",
    "monivalinnat = ['työterv', 'lomaosa', 'kuntosa', 'hieroja']"
   ]
  },
  {
   "cell_type": "markdown",
   "metadata": {},
   "source": [
    "## crosstab-funktio laskee lukumäärät\n",
    "\n",
    "**crosstab-funktio** palauttaa dataframen. Voin helposti luoda dataframeen uuden sarakkeen, johon lasken prosentit. "
   ]
  },
  {
   "cell_type": "code",
   "execution_count": 5,
   "metadata": {},
   "outputs": [
    {
     "data": {
      "text/html": [
       "<style type=\"text/css\">\n",
       "</style>\n",
       "<table id=\"T_ebede\">\n",
       "  <thead>\n",
       "    <tr>\n",
       "      <th class=\"index_name level0\" ></th>\n",
       "      <th id=\"T_ebede_level0_col0\" class=\"col_heading level0 col0\" >f</th>\n",
       "      <th id=\"T_ebede_level0_col1\" class=\"col_heading level0 col1\" >%</th>\n",
       "    </tr>\n",
       "  </thead>\n",
       "  <tbody>\n",
       "    <tr>\n",
       "      <th id=\"T_ebede_level0_row0\" class=\"row_heading level0 row0\" >Peruskoulu</th>\n",
       "      <td id=\"T_ebede_row0_col0\" class=\"data row0 col0\" >27</td>\n",
       "      <td id=\"T_ebede_row0_col1\" class=\"data row0 col1\" >33.3</td>\n",
       "    </tr>\n",
       "    <tr>\n",
       "      <th id=\"T_ebede_level0_row1\" class=\"row_heading level0 row1\" >2. aste</th>\n",
       "      <td id=\"T_ebede_row1_col0\" class=\"data row1 col0\" >30</td>\n",
       "      <td id=\"T_ebede_row1_col1\" class=\"data row1 col1\" >37.0</td>\n",
       "    </tr>\n",
       "    <tr>\n",
       "      <th id=\"T_ebede_level0_row2\" class=\"row_heading level0 row2\" >Korkeakoulu</th>\n",
       "      <td id=\"T_ebede_row2_col0\" class=\"data row2 col0\" >22</td>\n",
       "      <td id=\"T_ebede_row2_col1\" class=\"data row2 col1\" >27.2</td>\n",
       "    </tr>\n",
       "    <tr>\n",
       "      <th id=\"T_ebede_level0_row3\" class=\"row_heading level0 row3\" >Ylempi korkeakoulu</th>\n",
       "      <td id=\"T_ebede_row3_col0\" class=\"data row3 col0\" >2</td>\n",
       "      <td id=\"T_ebede_row3_col1\" class=\"data row3 col1\" >2.5</td>\n",
       "    </tr>\n",
       "  </tbody>\n",
       "</table>\n"
      ],
      "text/plain": [
       "<pandas.io.formats.style.Styler at 0x282d57e7370>"
      ]
     },
     "execution_count": 5,
     "metadata": {},
     "output_type": "execute_result"
    }
   ],
   "source": [
    "df1 = pd.crosstab(df['koulutus'], 'f')\n",
    "\n",
    "# Korvaan riviotsikot aiemmin määritellyllä koulutus-listalla\n",
    "df1.index = koulutus\n",
    "\n",
    "# Poistan vasemmasta yläkulmasta häiritsevän otsikon\n",
    "df1.columns.name = ''\n",
    "\n",
    "# Lisään prosentti-sarakkeen\n",
    "n = df1['f'].sum()\n",
    "df1['%'] = df1['f']/n*100\n",
    "\n",
    "# Säädän desimaalien määrät ja korvaan desimaalipisteen pilkulla\n",
    "# Tämä ei vaikuta dataframen sisältöön, vaan ainoastaan tässä tulostetun taulukon ulkoasuun\n",
    "df1.style.format({'f':'{:.0f}', '%':'{:.1f}'})"
   ]
  },
  {
   "cell_type": "code",
   "execution_count": 6,
   "metadata": {
    "scrolled": false
   },
   "outputs": [
    {
     "data": {
      "image/png": "[encoded data removed]",
      "text/plain": [
       "<Figure size 640x480 with 1 Axes>"
      ]
     },
     "metadata": {},
     "output_type": "display_data"
    }
   ],
   "source": [
    "# Vaakapylväskaavio prosenteista\n",
    "df1['%'].plot.barh()\n",
    "\n",
    "# x-akselin otsikointi; n-arvo mukaan\n",
    "plt.xlabel(f'Prosenttia, n = {n}')\n",
    "\n",
    "# x-akselin jakoviivojen otsikoiden muotoilu\n",
    "plt.gca().xaxis.set_major_formatter(myFmt100)\n",
    "\n",
    "# Vaakasuuntaisen taustaviivoituksen poisto\n",
    "plt.grid(axis='y')"
   ]
  },
  {
   "cell_type": "markdown",
   "metadata": {},
   "source": [
    "## crosstab-funktio laskee ristiintaulukoinnit"
   ]
  },
  {
   "cell_type": "code",
   "execution_count": 7,
   "metadata": {},
   "outputs": [
    {
     "data": {
      "text/html": [
       "<div>\n",
       "<style scoped>\n",
       "    .dataframe tbody tr th:only-of-type {\n",
       "        vertical-align: middle;\n",
       "    }\n",
       "\n",
       "    .dataframe tbody tr th {\n",
       "        vertical-align: top;\n",
       "    }\n",
       "\n",
       "    .dataframe thead th {\n",
       "        text-align: right;\n",
       "    }\n",
       "</style>\n",
       "<table border=\"1\" class=\"dataframe\">\n",
       "  <thead>\n",
       "    <tr style=\"text-align: right;\">\n",
       "      <th></th>\n",
       "      <th>Mies</th>\n",
       "      <th>Nainen</th>\n",
       "    </tr>\n",
       "  </thead>\n",
       "  <tbody>\n",
       "    <tr>\n",
       "      <th>Peruskoulu</th>\n",
       "      <td>22</td>\n",
       "      <td>5</td>\n",
       "    </tr>\n",
       "    <tr>\n",
       "      <th>2. aste</th>\n",
       "      <td>23</td>\n",
       "      <td>7</td>\n",
       "    </tr>\n",
       "    <tr>\n",
       "      <th>Korkeakoulu</th>\n",
       "      <td>15</td>\n",
       "      <td>7</td>\n",
       "    </tr>\n",
       "    <tr>\n",
       "      <th>Ylempi korkeakoulu</th>\n",
       "      <td>2</td>\n",
       "      <td>0</td>\n",
       "    </tr>\n",
       "  </tbody>\n",
       "</table>\n",
       "</div>"
      ],
      "text/plain": [
       "                    Mies  Nainen\n",
       "Peruskoulu            22       5\n",
       "2. aste               23       7\n",
       "Korkeakoulu           15       7\n",
       "Ylempi korkeakoulu     2       0"
      ]
     },
     "execution_count": 7,
     "metadata": {},
     "output_type": "execute_result"
    }
   ],
   "source": [
    "# Ristiintaulukointi\n",
    "df2 = pd.crosstab(df['koulutus'], df['sukup'])\n",
    "\n",
    "# Otsikot kuntoon:\n",
    "df2.index = koulutus\n",
    "df2.columns = sukup\n",
    "\n",
    "df2"
   ]
  },
  {
   "cell_type": "code",
   "execution_count": 8,
   "metadata": {},
   "outputs": [
    {
     "data": {
      "image/png": "[encoded data removed]",
      "text/plain": [
       "<Figure size 640x480 with 1 Axes>"
      ]
     },
     "metadata": {},
     "output_type": "display_data"
    }
   ],
   "source": [
    "# Lukumäärät pylväinä\n",
    "df2.plot.bar(width=0.8, rot=45)\n",
    "\n",
    "plt.ylabel('lukumäärä')\n",
    "\n",
    "# Pystysuuntaisen taustaviivoituksen poisto\n",
    "plt.grid(axis='x')"
   ]
  },
  {
   "cell_type": "code",
   "execution_count": 9,
   "metadata": {},
   "outputs": [
    {
     "data": {
      "text/html": [
       "<style type=\"text/css\">\n",
       "</style>\n",
       "<table id=\"T_055cd\">\n",
       "  <thead>\n",
       "    <tr>\n",
       "      <th class=\"blank level0\" >&nbsp;</th>\n",
       "      <th id=\"T_055cd_level0_col0\" class=\"col_heading level0 col0\" >Mies,  n = 62</th>\n",
       "      <th id=\"T_055cd_level0_col1\" class=\"col_heading level0 col1\" >Nainen,  n = 19</th>\n",
       "    </tr>\n",
       "  </thead>\n",
       "  <tbody>\n",
       "    <tr>\n",
       "      <th id=\"T_055cd_level0_row0\" class=\"row_heading level0 row0\" >Peruskoulu</th>\n",
       "      <td id=\"T_055cd_row0_col0\" class=\"data row0 col0\" >35.5 %</td>\n",
       "      <td id=\"T_055cd_row0_col1\" class=\"data row0 col1\" >26.3 %</td>\n",
       "    </tr>\n",
       "    <tr>\n",
       "      <th id=\"T_055cd_level0_row1\" class=\"row_heading level0 row1\" >2. aste</th>\n",
       "      <td id=\"T_055cd_row1_col0\" class=\"data row1 col0\" >37.1 %</td>\n",
       "      <td id=\"T_055cd_row1_col1\" class=\"data row1 col1\" >36.8 %</td>\n",
       "    </tr>\n",
       "    <tr>\n",
       "      <th id=\"T_055cd_level0_row2\" class=\"row_heading level0 row2\" >Korkeakoulu</th>\n",
       "      <td id=\"T_055cd_row2_col0\" class=\"data row2 col0\" >24.2 %</td>\n",
       "      <td id=\"T_055cd_row2_col1\" class=\"data row2 col1\" >36.8 %</td>\n",
       "    </tr>\n",
       "    <tr>\n",
       "      <th id=\"T_055cd_level0_row3\" class=\"row_heading level0 row3\" >Ylempi korkeakoulu</th>\n",
       "      <td id=\"T_055cd_row3_col0\" class=\"data row3 col0\" >3.2 %</td>\n",
       "      <td id=\"T_055cd_row3_col1\" class=\"data row3 col1\" >0.0 %</td>\n",
       "    </tr>\n",
       "  </tbody>\n",
       "</table>\n"
      ],
      "text/plain": [
       "<pandas.io.formats.style.Styler at 0x282d6245480>"
      ]
     },
     "execution_count": 9,
     "metadata": {},
     "output_type": "execute_result"
    }
   ],
   "source": [
    "# Ristiintaulukointi, prosentit (normalize) sarakkeiden mukaan\n",
    "df3 = pd.crosstab(df['koulutus'], df['sukup'], normalize='columns')\n",
    "\n",
    "# Otsikot kuntoon\n",
    "df3.index = koulutus\n",
    "df3.columns = sukup\n",
    "\n",
    "# Kikkailen n-arvot mukaan\n",
    "for muuttuja in df3.columns:\n",
    "    df3 = df3.rename(columns={muuttuja:f'{muuttuja},  n = {df2[muuttuja].sum()}'})\n",
    "\n",
    "# Loppusilaus\n",
    "(df3*100).style.format('{:.1f} %')"
   ]
  },
  {
   "cell_type": "code",
   "execution_count": 10,
   "metadata": {},
   "outputs": [
    {
     "data": {
      "image/png": "[encoded data removed]",
      "text/plain": [
       "<Figure size 640x480 with 1 Axes>"
      ]
     },
     "metadata": {},
     "output_type": "display_data"
    }
   ],
   "source": [
    "# Edellinen 100 % pinottuina vaakapylväinä, T vaihtaa arvosarjat ja kategoriat päittäin\n",
    "df3.T.plot.barh(stacked=True)\n",
    "\n",
    "plt.xlabel('Prosenttia sukupuolesta')\n",
    "\n",
    "# Selitteen sijoittelu suhteessa origoon, selitteitä 4 vierekkäin\n",
    "plt.legend(loc = (-0.15, -0.25), ncol=4)\n",
    " \n",
    "# x-akselin jakoviivojen otsikoiden muotoilu\n",
    "plt.gca().xaxis.set_major_formatter(myFmt1)\n",
    "\n",
    "# Vaakasuuntaisen taustaviivoituksen poisto\n",
    "plt.grid(axis='y')"
   ]
  },
  {
   "cell_type": "markdown",
   "metadata": {},
   "source": [
    "## Useiden muuttujien frekvenssit yhteen taulukkoon\n",
    "\n",
    "Tässä kannattaa käyttää **value_counts**-funktiota."
   ]
  },
  {
   "cell_type": "code",
   "execution_count": 11,
   "metadata": {},
   "outputs": [
    {
     "data": {
      "text/html": [
       "<style type=\"text/css\">\n",
       "</style>\n",
       "<table id=\"T_bf6b5\">\n",
       "  <thead>\n",
       "    <tr>\n",
       "      <th class=\"blank level0\" >&nbsp;</th>\n",
       "      <th id=\"T_bf6b5_level0_col0\" class=\"col_heading level0 col0\" >johto</th>\n",
       "      <th id=\"T_bf6b5_level0_col1\" class=\"col_heading level0 col1\" >työtov</th>\n",
       "      <th id=\"T_bf6b5_level0_col2\" class=\"col_heading level0 col2\" >työymp</th>\n",
       "      <th id=\"T_bf6b5_level0_col3\" class=\"col_heading level0 col3\" >palkkat</th>\n",
       "      <th id=\"T_bf6b5_level0_col4\" class=\"col_heading level0 col4\" >työteht</th>\n",
       "    </tr>\n",
       "  </thead>\n",
       "  <tbody>\n",
       "    <tr>\n",
       "      <th id=\"T_bf6b5_level0_row0\" class=\"row_heading level0 row0\" >Erittäin tyytymätön</th>\n",
       "      <td id=\"T_bf6b5_row0_col0\" class=\"data row0 col0\" >8.5 %</td>\n",
       "      <td id=\"T_bf6b5_row0_col1\" class=\"data row0 col1\" >-</td>\n",
       "      <td id=\"T_bf6b5_row0_col2\" class=\"data row0 col2\" >11.0 %</td>\n",
       "      <td id=\"T_bf6b5_row0_col3\" class=\"data row0 col3\" >40.2 %</td>\n",
       "      <td id=\"T_bf6b5_row0_col4\" class=\"data row0 col4\" >6.1 %</td>\n",
       "    </tr>\n",
       "    <tr>\n",
       "      <th id=\"T_bf6b5_level0_row1\" class=\"row_heading level0 row1\" >Jokseenkin tyytymätön</th>\n",
       "      <td id=\"T_bf6b5_row1_col0\" class=\"data row1 col0\" >19.5 %</td>\n",
       "      <td id=\"T_bf6b5_row1_col1\" class=\"data row1 col1\" >3.7 %</td>\n",
       "      <td id=\"T_bf6b5_row1_col2\" class=\"data row1 col2\" >11.0 %</td>\n",
       "      <td id=\"T_bf6b5_row1_col3\" class=\"data row1 col3\" >23.2 %</td>\n",
       "      <td id=\"T_bf6b5_row1_col4\" class=\"data row1 col4\" >18.3 %</td>\n",
       "    </tr>\n",
       "    <tr>\n",
       "      <th id=\"T_bf6b5_level0_row2\" class=\"row_heading level0 row2\" >Ei tyytymätön eikä tyytyväinen</th>\n",
       "      <td id=\"T_bf6b5_row2_col0\" class=\"data row2 col0\" >36.6 %</td>\n",
       "      <td id=\"T_bf6b5_row2_col1\" class=\"data row2 col1\" >19.8 %</td>\n",
       "      <td id=\"T_bf6b5_row2_col2\" class=\"data row2 col2\" >36.6 %</td>\n",
       "      <td id=\"T_bf6b5_row2_col3\" class=\"data row2 col3\" >23.2 %</td>\n",
       "      <td id=\"T_bf6b5_row2_col4\" class=\"data row2 col4\" >35.4 %</td>\n",
       "    </tr>\n",
       "    <tr>\n",
       "      <th id=\"T_bf6b5_level0_row3\" class=\"row_heading level0 row3\" >Jokseenkin tyytyväinen</th>\n",
       "      <td id=\"T_bf6b5_row3_col0\" class=\"data row3 col0\" >28.0 %</td>\n",
       "      <td id=\"T_bf6b5_row3_col1\" class=\"data row3 col1\" >43.2 %</td>\n",
       "      <td id=\"T_bf6b5_row3_col2\" class=\"data row3 col2\" >28.0 %</td>\n",
       "      <td id=\"T_bf6b5_row3_col3\" class=\"data row3 col3\" >12.2 %</td>\n",
       "      <td id=\"T_bf6b5_row3_col4\" class=\"data row3 col4\" >30.5 %</td>\n",
       "    </tr>\n",
       "    <tr>\n",
       "      <th id=\"T_bf6b5_level0_row4\" class=\"row_heading level0 row4\" >Erittäin tyytyväinen</th>\n",
       "      <td id=\"T_bf6b5_row4_col0\" class=\"data row4 col0\" >7.3 %</td>\n",
       "      <td id=\"T_bf6b5_row4_col1\" class=\"data row4 col1\" >33.3 %</td>\n",
       "      <td id=\"T_bf6b5_row4_col2\" class=\"data row4 col2\" >13.4 %</td>\n",
       "      <td id=\"T_bf6b5_row4_col3\" class=\"data row4 col3\" >1.2 %</td>\n",
       "      <td id=\"T_bf6b5_row4_col4\" class=\"data row4 col4\" >9.8 %</td>\n",
       "    </tr>\n",
       "    <tr>\n",
       "      <th id=\"T_bf6b5_level0_row5\" class=\"row_heading level0 row5\" >Yhteensä</th>\n",
       "      <td id=\"T_bf6b5_row5_col0\" class=\"data row5 col0\" >100.0 %</td>\n",
       "      <td id=\"T_bf6b5_row5_col1\" class=\"data row5 col1\" >100.0 %</td>\n",
       "      <td id=\"T_bf6b5_row5_col2\" class=\"data row5 col2\" >100.0 %</td>\n",
       "      <td id=\"T_bf6b5_row5_col3\" class=\"data row5 col3\" >100.0 %</td>\n",
       "      <td id=\"T_bf6b5_row5_col4\" class=\"data row5 col4\" >100.0 %</td>\n",
       "    </tr>\n",
       "  </tbody>\n",
       "</table>\n"
      ],
      "text/plain": [
       "<pandas.io.formats.style.Styler at 0x282d142e260>"
      ]
     },
     "execution_count": 11,
     "metadata": {},
     "output_type": "execute_result"
    }
   ],
   "source": [
    "# Lasken prosentit value_counts()-toiminnolla ja muutan tuloksen dataframeksi\n",
    "df4 = df['johto'].value_counts(normalize=True).sort_index().to_frame()\n",
    "\n",
    "# Lisään tietokehikkoon uusia sarakkeita\n",
    "df4['työtov'] = df['työtov'].value_counts(sort=False, normalize=True)\n",
    "df4['työymp'] = df['työymp'].value_counts(sort=False, normalize=True)\n",
    "df4['palkkat'] = df['palkkat'].value_counts(sort=False, normalize=True)\n",
    "df4['työteht'] = df['työteht'].value_counts(sort=False, normalize=True)\n",
    "\n",
    "# Riviotsikot aiemmin määritellystä tyytyväisyys-listasta\n",
    "df4.index = tyytyväisyys\n",
    "\n",
    "# Yhteensä-rivi\n",
    "df4.loc['Yhteensä'] = df4.sum()\n",
    "\n",
    "# Loppusilaus\n",
    "# na_rep-parametrin ansiosta puuttuva arvo näytetään viivana\n",
    "(df4 * 100).style.format('{:.1f} %', na_rep='-')"
   ]
  },
  {
   "cell_type": "code",
   "execution_count": 12,
   "metadata": {},
   "outputs": [
    {
     "data": {
      "image/png": "[encoded data removed]",
      "text/plain": [
       "<Figure size 640x480 with 1 Axes>"
      ]
     },
     "metadata": {},
     "output_type": "display_data"
    }
   ],
   "source": [
    "# Edellinen 100 % pylväinä\n",
    "# cmap-parametrilla voin määrittää käytettävän värikartan\n",
    "df4.drop('Yhteensä').T.plot.barh(stacked=True, cmap='coolwarm')\n",
    "\n",
    "plt.xlabel('Prosenttia vastaajista')\n",
    "\n",
    "# Selitteen sijainti; 2 selitettä vierekkäin\n",
    "plt.legend(loc=(-0.03, 1.1), ncol=2)\n",
    "\n",
    "# x-akselin jakoviivojen otsikoiden muotoilu\n",
    "plt.gca().xaxis.set_major_formatter(myFmt1)\n",
    "\n",
    "# Vaakasuuntaisen taustaviivoituksen poisto\n",
    "plt.grid(axis='y')"
   ]
  },
  {
   "cell_type": "markdown",
   "metadata": {},
   "source": [
    "Värikarttoja https://matplotlib.org/stable/tutorials/colors/colormaps.html"
   ]
  },
  {
   "cell_type": "markdown",
   "metadata": {},
   "source": [
    "Matplotlib mahdollistaa monenlaisia toteutuksia. Seuraavassa laadin viiden kaavion yhdistelmän\n",
    "\n",
    "- parametrilla **subplots=True** määritän, että jokaisesta sarakkeesta oma kaavio\n",
    "- parametrilla **layout=(1, 5)** määritän, että kaaviot sijoitetaan 1 riville, 5 rinnakkain\n",
    "- parametreilla **sharex=True, sharey=True** määritän, että kaikilla kaavioilla on yhteiset akselit\n",
    "- parametrilla **figsize=(12, 2)** määritän kuvion koon\n",
    "- parametrilla **legend=False** jätän kaavioista selitteet pois"
   ]
  },
  {
   "cell_type": "code",
   "execution_count": 13,
   "metadata": {},
   "outputs": [
    {
     "data": {
      "text/plain": [
       "Text(0.08, 0.5, '%')"
      ]
     },
     "execution_count": 13,
     "metadata": {},
     "output_type": "execute_result"
    },
    {
     "data": {
      "image/png": "[encoded data removed]",
      "text/plain": [
       "<Figure size 1200x200 with 5 Axes>"
      ]
     },
     "metadata": {},
     "output_type": "display_data"
    }
   ],
   "source": [
    "(df4.drop('Yhteensä')*100).plot.bar(subplots=True, layout=(1, 5), sharex=True, sharey=True, \n",
    "              figsize=(12, 2), legend=False)\n",
    "\n",
    "# Kuvio, jonka sisällä kaaviot sijaitsevat (gcf = get current figure)\n",
    "fig = plt.gcf()\n",
    "\n",
    "# %-merkki kuvion sijaintiin (0.08, 0.5)\n",
    "fig.text(0.08, 0.5, '%')"
   ]
  },
  {
   "cell_type": "markdown",
   "metadata": {},
   "source": [
    "## sum-funktio laskee monivalintojen yhteenvedot\n",
    "\n",
    "Jos monivalinta-muuttujissa valinnan puuttuminen näkyy puuttuvana arvona ja valinta merkitään numerolla 1, niin valintojen lukumäärän voi laskea count-funktiolla tai sum-funktiolla. Jos valinnan puuttuminen merkitään numerolla 0, niin valintojen lukumäärä täytyy laskea sum-funktiolla."
   ]
  },
  {
   "cell_type": "code",
   "execution_count": 14,
   "metadata": {},
   "outputs": [
    {
     "data": {
      "text/html": [
       "<style type=\"text/css\">\n",
       "</style>\n",
       "<table id=\"T_9a1ad\">\n",
       "  <thead>\n",
       "    <tr>\n",
       "      <th class=\"blank level0\" >&nbsp;</th>\n",
       "      <th id=\"T_9a1ad_level0_col0\" class=\"col_heading level0 col0\" >f</th>\n",
       "    </tr>\n",
       "  </thead>\n",
       "  <tbody>\n",
       "    <tr>\n",
       "      <th id=\"T_9a1ad_level0_row0\" class=\"row_heading level0 row0\" >työterv</th>\n",
       "      <td id=\"T_9a1ad_row0_col0\" class=\"data row0 col0\" >47</td>\n",
       "    </tr>\n",
       "    <tr>\n",
       "      <th id=\"T_9a1ad_level0_row1\" class=\"row_heading level0 row1\" >hieroja</th>\n",
       "      <td id=\"T_9a1ad_row1_col0\" class=\"data row1 col0\" >22</td>\n",
       "    </tr>\n",
       "    <tr>\n",
       "      <th id=\"T_9a1ad_level0_row2\" class=\"row_heading level0 row2\" >lomaosa</th>\n",
       "      <td id=\"T_9a1ad_row2_col0\" class=\"data row2 col0\" >20</td>\n",
       "    </tr>\n",
       "    <tr>\n",
       "      <th id=\"T_9a1ad_level0_row3\" class=\"row_heading level0 row3\" >kuntosa</th>\n",
       "      <td id=\"T_9a1ad_row3_col0\" class=\"data row3 col0\" >9</td>\n",
       "    </tr>\n",
       "  </tbody>\n",
       "</table>\n"
      ],
      "text/plain": [
       "<pandas.io.formats.style.Styler at 0x282d14e35b0>"
      ]
     },
     "execution_count": 14,
     "metadata": {},
     "output_type": "execute_result"
    }
   ],
   "source": [
    "# Monivalintojen lukumäärät\n",
    "df5 = df[monivalinnat].sum()\n",
    "\n",
    "# Muutan series-tyyppisen tietorakenteen dataframeksi (to_frame) ja järjestän lukumäärien mukaiseen järjestykseen (sort_values)\n",
    "df5 = df5.to_frame('f').sort_values(by='f', ascending=False)\n",
    "\n",
    "df5.style.format('{:.0f}')"
   ]
  },
  {
   "cell_type": "code",
   "execution_count": 15,
   "metadata": {},
   "outputs": [
    {
     "data": {
      "text/html": [
       "<style type=\"text/css\">\n",
       "</style>\n",
       "<table id=\"T_ff99d\">\n",
       "  <thead>\n",
       "    <tr>\n",
       "      <th class=\"blank level0\" >&nbsp;</th>\n",
       "      <th id=\"T_ff99d_level0_col0\" class=\"col_heading level0 col0\" >f</th>\n",
       "      <th id=\"T_ff99d_level0_col1\" class=\"col_heading level0 col1\" >% vastaajista</th>\n",
       "    </tr>\n",
       "  </thead>\n",
       "  <tbody>\n",
       "    <tr>\n",
       "      <th id=\"T_ff99d_level0_row0\" class=\"row_heading level0 row0\" >työterv</th>\n",
       "      <td id=\"T_ff99d_row0_col0\" class=\"data row0 col0\" >47</td>\n",
       "      <td id=\"T_ff99d_row0_col1\" class=\"data row0 col1\" >57.3 %</td>\n",
       "    </tr>\n",
       "    <tr>\n",
       "      <th id=\"T_ff99d_level0_row1\" class=\"row_heading level0 row1\" >hieroja</th>\n",
       "      <td id=\"T_ff99d_row1_col0\" class=\"data row1 col0\" >22</td>\n",
       "      <td id=\"T_ff99d_row1_col1\" class=\"data row1 col1\" >26.8 %</td>\n",
       "    </tr>\n",
       "    <tr>\n",
       "      <th id=\"T_ff99d_level0_row2\" class=\"row_heading level0 row2\" >lomaosa</th>\n",
       "      <td id=\"T_ff99d_row2_col0\" class=\"data row2 col0\" >20</td>\n",
       "      <td id=\"T_ff99d_row2_col1\" class=\"data row2 col1\" >24.4 %</td>\n",
       "    </tr>\n",
       "    <tr>\n",
       "      <th id=\"T_ff99d_level0_row3\" class=\"row_heading level0 row3\" >kuntosa</th>\n",
       "      <td id=\"T_ff99d_row3_col0\" class=\"data row3 col0\" >9</td>\n",
       "      <td id=\"T_ff99d_row3_col1\" class=\"data row3 col1\" >11.0 %</td>\n",
       "    </tr>\n",
       "  </tbody>\n",
       "</table>\n"
      ],
      "text/plain": [
       "<pandas.io.formats.style.Styler at 0x282d6eddf30>"
      ]
     },
     "execution_count": 15,
     "metadata": {},
     "output_type": "execute_result"
    }
   ],
   "source": [
    "# Prosenttia vastaajien kokonaismäärästä (shape[0])\n",
    "df5['% vastaajista'] = df5['f']/df.shape[0]*100\n",
    "\n",
    "# Ulkoasun viimeistely\n",
    "df5.style.format({'f':'{:.0f}', '% vastaajista':'{:.1f} %'})"
   ]
  },
  {
   "cell_type": "code",
   "execution_count": 16,
   "metadata": {},
   "outputs": [
    {
     "data": {
      "image/png": "[encoded data removed]",
      "text/plain": [
       "<Figure size 640x480 with 1 Axes>"
      ]
     },
     "metadata": {},
     "output_type": "display_data"
    }
   ],
   "source": [
    "# Lukumäärät pylväinä\n",
    "df5['f'].plot.barh(legend=False)\n",
    "\n",
    "plt.xlabel('Käyttäjien lukumäärä')\n",
    "\n",
    "# Vaakasuuntaisen taustaviivoituksen poisto\n",
    "plt.grid(axis='y')"
   ]
  },
  {
   "cell_type": "code",
   "execution_count": 17,
   "metadata": {},
   "outputs": [
    {
     "data": {
      "text/html": [
       "<style type=\"text/css\">\n",
       "</style>\n",
       "<table id=\"T_d273d\">\n",
       "  <thead>\n",
       "    <tr>\n",
       "      <th class=\"blank level0\" >&nbsp;</th>\n",
       "      <th id=\"T_d273d_level0_col0\" class=\"col_heading level0 col0\" >työterv</th>\n",
       "      <th id=\"T_d273d_level0_col1\" class=\"col_heading level0 col1\" >lomaosa</th>\n",
       "      <th id=\"T_d273d_level0_col2\" class=\"col_heading level0 col2\" >kuntosa</th>\n",
       "      <th id=\"T_d273d_level0_col3\" class=\"col_heading level0 col3\" >hieroja</th>\n",
       "    </tr>\n",
       "  </thead>\n",
       "  <tbody>\n",
       "    <tr>\n",
       "      <th id=\"T_d273d_level0_row0\" class=\"row_heading level0 row0\" >Miehet, n = 63</th>\n",
       "      <td id=\"T_d273d_row0_col0\" class=\"data row0 col0\" >35</td>\n",
       "      <td id=\"T_d273d_row0_col1\" class=\"data row0 col1\" >16</td>\n",
       "      <td id=\"T_d273d_row0_col2\" class=\"data row0 col2\" >8</td>\n",
       "      <td id=\"T_d273d_row0_col3\" class=\"data row0 col3\" >13</td>\n",
       "    </tr>\n",
       "    <tr>\n",
       "      <th id=\"T_d273d_level0_row1\" class=\"row_heading level0 row1\" >Naiset, n = 19</th>\n",
       "      <td id=\"T_d273d_row1_col0\" class=\"data row1 col0\" >12</td>\n",
       "      <td id=\"T_d273d_row1_col1\" class=\"data row1 col1\" >4</td>\n",
       "      <td id=\"T_d273d_row1_col2\" class=\"data row1 col2\" >1</td>\n",
       "      <td id=\"T_d273d_row1_col3\" class=\"data row1 col3\" >9</td>\n",
       "    </tr>\n",
       "  </tbody>\n",
       "</table>\n"
      ],
      "text/plain": [
       "<pandas.io.formats.style.Styler at 0x282d80bf790>"
      ]
     },
     "execution_count": 17,
     "metadata": {},
     "output_type": "execute_result"
    }
   ],
   "source": [
    "# Miesten ja naisten lukumäärät\n",
    "miehet_n = len(df[df['sukup']==1])\n",
    "naiset_n = len(df[df['sukup']==2])\n",
    "\n",
    "# Miesten ja naisten otsikoinnit\n",
    "miehet = f'Miehet, n = {miehet_n}'\n",
    "naiset = f'Naiset, n = {naiset_n}'\n",
    "\n",
    "# Monivalinnat sukupuolen mukaan\n",
    "df6 = df.groupby('sukup')[monivalinnat].sum()\n",
    "\n",
    "# Sukupuolet sukup-listasta, jonka määrittelin aiemmin\n",
    "df6.index = [miehet, naiset]\n",
    "\n",
    "df6.style.format('{:.0f}')"
   ]
  },
  {
   "cell_type": "code",
   "execution_count": 18,
   "metadata": {},
   "outputs": [
    {
     "data": {
      "text/plain": [
       "Text(0, 0.5, 'Lukumäärä')"
      ]
     },
     "execution_count": 18,
     "metadata": {},
     "output_type": "execute_result"
    },
    {
     "data": {
      "image/png": "[encoded data removed]",
      "text/plain": [
       "<Figure size 600x300 with 2 Axes>"
      ]
     },
     "metadata": {},
     "output_type": "display_data"
    }
   ],
   "source": [
    "# Luodaan kahden kaavion kuvio\n",
    "fig, axs = plt.subplots(nrows=1, ncols=2, sharey=True, figsize=(6, 3))\n",
    "\n",
    "# fillna(0) korvaa puuttuvat arvot nollilla\n",
    "sns.barplot(data=df[monivalinnat].fillna(0)[df['sukup']==1], ax=axs[0], estimator=sum)\n",
    "sns.barplot(data=df[monivalinnat].fillna(0)[df['sukup']==2], ax=axs[1], estimator=sum)\n",
    "\n",
    "axs[0].set_title(miehet)\n",
    "axs[1].set_title(naiset)\n",
    "axs[0].set_ylabel('Lukumäärä')"
   ]
  },
  {
   "cell_type": "code",
   "execution_count": 19,
   "metadata": {},
   "outputs": [
    {
     "data": {
      "text/html": [
       "<style type=\"text/css\">\n",
       "</style>\n",
       "<table id=\"T_8c979\">\n",
       "  <thead>\n",
       "    <tr>\n",
       "      <th class=\"blank level0\" >&nbsp;</th>\n",
       "      <th id=\"T_8c979_level0_col0\" class=\"col_heading level0 col0\" >työterv</th>\n",
       "      <th id=\"T_8c979_level0_col1\" class=\"col_heading level0 col1\" >lomaosa</th>\n",
       "      <th id=\"T_8c979_level0_col2\" class=\"col_heading level0 col2\" >kuntosa</th>\n",
       "      <th id=\"T_8c979_level0_col3\" class=\"col_heading level0 col3\" >hieroja</th>\n",
       "    </tr>\n",
       "  </thead>\n",
       "  <tbody>\n",
       "    <tr>\n",
       "      <th id=\"T_8c979_level0_row0\" class=\"row_heading level0 row0\" >Miehet, n = 63</th>\n",
       "      <td id=\"T_8c979_row0_col0\" class=\"data row0 col0\" >55.6 %</td>\n",
       "      <td id=\"T_8c979_row0_col1\" class=\"data row0 col1\" >25.4 %</td>\n",
       "      <td id=\"T_8c979_row0_col2\" class=\"data row0 col2\" >12.7 %</td>\n",
       "      <td id=\"T_8c979_row0_col3\" class=\"data row0 col3\" >20.6 %</td>\n",
       "    </tr>\n",
       "    <tr>\n",
       "      <th id=\"T_8c979_level0_row1\" class=\"row_heading level0 row1\" >Naiset, n = 19</th>\n",
       "      <td id=\"T_8c979_row1_col0\" class=\"data row1 col0\" >63.2 %</td>\n",
       "      <td id=\"T_8c979_row1_col1\" class=\"data row1 col1\" >21.1 %</td>\n",
       "      <td id=\"T_8c979_row1_col2\" class=\"data row1 col2\" >5.3 %</td>\n",
       "      <td id=\"T_8c979_row1_col3\" class=\"data row1 col3\" >47.4 %</td>\n",
       "    </tr>\n",
       "  </tbody>\n",
       "</table>\n"
      ],
      "text/plain": [
       "<pandas.io.formats.style.Styler at 0x282d8127c10>"
      ]
     },
     "execution_count": 19,
     "metadata": {},
     "output_type": "execute_result"
    }
   ],
   "source": [
    "# Monivalinnat sukupuolen mukaan\n",
    "df7 = df.groupby('sukup')[monivalinnat].sum()\n",
    "\n",
    "# Prosentit\n",
    "# iloc[0] viittaa indeksin mukaiselle 0-riville (miesten rivi)\n",
    "df7.iloc[0] = df7.iloc[0] / miehet_n * 100\n",
    "df7.iloc[1] = df7.iloc[1] / naiset_n * 100\n",
    "\n",
    "# Kikkailen n-arvot mukaan\n",
    "df7.index = [miehet, naiset]\n",
    "\n",
    "# Loppusilaus\n",
    "(df7).style.format('{:.1f} %')"
   ]
  },
  {
   "cell_type": "markdown",
   "metadata": {},
   "source": [
    "## Luokiteltu jakauma\n",
    "\n",
    "Pandas-kirjaston **cut**-toiminnolla voin luokitella muuttujan. Oletuksena luokan yläraja kuuluu luokkaan. Parametrilla **right = False** voin vaihtaa luokan alarajan kuulumaan luokkaan (histogrammi-kaaviossa käytetään tätä tapaa)."
   ]
  },
  {
   "cell_type": "code",
   "execution_count": 20,
   "metadata": {},
   "outputs": [
    {
     "data": {
      "text/html": [
       "<style type=\"text/css\">\n",
       "</style>\n",
       "<table id=\"T_3efea\">\n",
       "  <thead>\n",
       "    <tr>\n",
       "      <th class=\"index_name level0\" ></th>\n",
       "      <th id=\"T_3efea_level0_col0\" class=\"col_heading level0 col0\" >f</th>\n",
       "      <th id=\"T_3efea_level0_col1\" class=\"col_heading level0 col1\" >%</th>\n",
       "    </tr>\n",
       "    <tr>\n",
       "      <th class=\"index_name level0\" >palkkaluokka</th>\n",
       "      <th class=\"blank col0\" >&nbsp;</th>\n",
       "      <th class=\"blank col1\" >&nbsp;</th>\n",
       "    </tr>\n",
       "  </thead>\n",
       "  <tbody>\n",
       "    <tr>\n",
       "      <th id=\"T_3efea_level0_row0\" class=\"row_heading level0 row0\" >[1000, 2000)</th>\n",
       "      <td id=\"T_3efea_row0_col0\" class=\"data row0 col0\" >19</td>\n",
       "      <td id=\"T_3efea_row0_col1\" class=\"data row0 col1\" >23.2 %</td>\n",
       "    </tr>\n",
       "    <tr>\n",
       "      <th id=\"T_3efea_level0_row1\" class=\"row_heading level0 row1\" >[2000, 3000)</th>\n",
       "      <td id=\"T_3efea_row1_col0\" class=\"data row1 col0\" >50</td>\n",
       "      <td id=\"T_3efea_row1_col1\" class=\"data row1 col1\" >61.0 %</td>\n",
       "    </tr>\n",
       "    <tr>\n",
       "      <th id=\"T_3efea_level0_row2\" class=\"row_heading level0 row2\" >[3000, 4000)</th>\n",
       "      <td id=\"T_3efea_row2_col0\" class=\"data row2 col0\" >8</td>\n",
       "      <td id=\"T_3efea_row2_col1\" class=\"data row2 col1\" >9.8 %</td>\n",
       "    </tr>\n",
       "    <tr>\n",
       "      <th id=\"T_3efea_level0_row3\" class=\"row_heading level0 row3\" >[4000, 7000)</th>\n",
       "      <td id=\"T_3efea_row3_col0\" class=\"data row3 col0\" >5</td>\n",
       "      <td id=\"T_3efea_row3_col1\" class=\"data row3 col1\" >6.1 %</td>\n",
       "    </tr>\n",
       "    <tr>\n",
       "      <th id=\"T_3efea_level0_row4\" class=\"row_heading level0 row4\" >Yhteensä</th>\n",
       "      <td id=\"T_3efea_row4_col0\" class=\"data row4 col0\" >82</td>\n",
       "      <td id=\"T_3efea_row4_col1\" class=\"data row4 col1\" >100.0 %</td>\n",
       "    </tr>\n",
       "  </tbody>\n",
       "</table>\n"
      ],
      "text/plain": [
       "<pandas.io.formats.style.Styler at 0x282d6e59c90>"
      ]
     },
     "execution_count": 20,
     "metadata": {},
     "output_type": "execute_result"
    }
   ],
   "source": [
    "# Määrittelen luokkarajat palkan luokittelemiseksi\n",
    "rajat = [1000, 2000, 3000, 4000, 7000]\n",
    "\n",
    "# Lisään dataan palkkaluokka-sarakkeen\n",
    "df['palkkaluokka'] = pd.cut(df['palkka'], bins=rajat, right=False)\n",
    "\n",
    "# Palkkaluokkiin kuuluvien lukumäärät\n",
    "df8 = pd.crosstab(df['palkkaluokka'], 'f')\n",
    "df8.columns.name = ''\n",
    "\n",
    "# Prosentit\n",
    "df8['%'] = df8['f']/df8['f'].sum()*100\n",
    "\n",
    "df8.loc['Yhteensä'] = df8.sum()\n",
    "\n",
    "# Loppusilaus\n",
    "df8.style.format({'f':'{:.0f}', '%':'{:.1f} %'})"
   ]
  },
  {
   "cell_type": "code",
   "execution_count": 21,
   "metadata": {},
   "outputs": [
    {
     "data": {
      "text/plain": [
       "Text(0, 0.5, 'lukumäärä')"
      ]
     },
     "execution_count": 21,
     "metadata": {},
     "output_type": "execute_result"
    },
    {
     "data": {
      "image/png": "[encoded data removed]",
      "text/plain": [
       "<Figure size 640x480 with 1 Axes>"
      ]
     },
     "metadata": {},
     "output_type": "display_data"
    }
   ],
   "source": [
    "# Luokiteltu jakauma histogrammina\n",
    "sns.histplot(data=df['palkka'], bins=rajat)\n",
    "\n",
    "plt.ylabel('lukumäärä')"
   ]
  },
  {
   "cell_type": "code",
   "execution_count": 22,
   "metadata": {},
   "outputs": [
    {
     "data": {
      "image/png": "[encoded data removed]",
      "text/plain": [
       "<Figure size 640x480 with 1 Axes>"
      ]
     },
     "metadata": {},
     "output_type": "display_data"
    }
   ],
   "source": [
    "# Luokiteltu jakauma histogrammina, jossa pystyakselilla prosentit\n",
    "sns.histplot(data=df['palkka'], bins=rajat, stat='percent')\n",
    "\n",
    "# y-akselin jakoviivojen otsikoiden muotoilu\n",
    "plt.gca().yaxis.set_major_formatter(myFmt100)"
   ]
  },
  {
   "cell_type": "markdown",
   "metadata": {},
   "source": [
    "**histplot**-toiminnolla tehdyssä histogrammissa pylvään leveys riippuu oikeaoppisesti luokkavälin pituudesta (tässä luokkaan (4000, 7000] liittyvä pylväs on muita leveämpi."
   ]
  },
  {
   "cell_type": "markdown",
   "metadata": {},
   "source": [
    "## Lisätietoa\n",
    "\n",
    "Data-analytiikka Pythonilla https://tilastoapu.wordpress.com/python/"
   ]
  }
 ],
 "metadata": {
  "kernelspec": {
   "display_name": "Python 3 (ipykernel)",
   "language": "python",
   "name": "python3"
  },
  "language_info": {
   "codemirror_mode": {
    "name": "ipython",
    "version": 3
   },
   "file_extension": ".py",
   "mimetype": "text/x-python",
   "name": "python",
   "nbconvert_exporter": "python",
   "pygments_lexer": "ipython3",
   "version": "3.10.9"
  }
 },
 "nbformat": 4,
 "nbformat_minor": 2
}
