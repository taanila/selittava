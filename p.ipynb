{
 "cells": [
  {
   "cell_type": "code",
   "execution_count": 1,
   "metadata": {},
   "outputs": [
    {
     "name": "stdout",
     "output_type": "stream",
     "text": [
      "Päivitetty 2023-03-04 / Aki Taanila\n"
     ]
    }
   ],
   "source": [
    "from datetime import datetime\n",
    "print(f'Päivitetty {datetime.now().date()} / Aki Taanila')"
   ]
  },
  {
   "cell_type": "markdown",
   "metadata": {},
   "source": [
    "# Tilastollinen merkitsevyys\n",
    "\n",
    "Otoksessa havaitut erot ja riippuvuudet koskevat otosta.\n",
    "\n",
    "Tärkeä kysymys: Onko otoksessa havaittu ero tai riippuvuus niin suuri, että se ei voi olla pelkkää sattumaa (otantavirhettä)? Jos ero tai riippuvuus on niin suuri, että se ei voi olla pelkkää sattumaa, niin silloin se on tilastollisesti merkitsevä ja voidaan yleistää siihen isompaan joukkoon, josta otos on poimittu.\n",
    "\n",
    "Tilastollinen merkitsevyys selviää **p-arvo**n avulla: p-arvo on todennäköisyys sille, että ero tai riippuvuus on pelkkää sattumaa (otantavirhettä).\n",
    "\n",
    "**Mitä pienempi p-arvo sitä merkitsevämpi ero tai riippuvuus**. Vakiintuneen tavan mukaan alle 0,05 (5 %) suuruisia p-arvoja pidetään merkitsevinä.\n",
    "\n",
    "Lue lisää https://tilastoapu.wordpress.com/2012/02/14/p-arvo/"
   ]
  },
  {
   "cell_type": "code",
   "execution_count": 2,
   "metadata": {},
   "outputs": [
    {
     "data": {
      "text/html": [
       "<div>\n",
       "<style scoped>\n",
       "    .dataframe tbody tr th:only-of-type {\n",
       "        vertical-align: middle;\n",
       "    }\n",
       "\n",
       "    .dataframe tbody tr th {\n",
       "        vertical-align: top;\n",
       "    }\n",
       "\n",
       "    .dataframe thead th {\n",
       "        text-align: right;\n",
       "    }\n",
       "</style>\n",
       "<table border=\"1\" class=\"dataframe\">\n",
       "  <thead>\n",
       "    <tr style=\"text-align: right;\">\n",
       "      <th></th>\n",
       "      <th>nro</th>\n",
       "      <th>sukup</th>\n",
       "      <th>ikä</th>\n",
       "      <th>perhe</th>\n",
       "      <th>koulutus</th>\n",
       "      <th>palveluv</th>\n",
       "      <th>palkka</th>\n",
       "      <th>johto</th>\n",
       "      <th>työtov</th>\n",
       "      <th>työymp</th>\n",
       "      <th>palkkat</th>\n",
       "      <th>työteht</th>\n",
       "      <th>työterv</th>\n",
       "      <th>lomaosa</th>\n",
       "      <th>kuntosa</th>\n",
       "      <th>hieroja</th>\n",
       "    </tr>\n",
       "  </thead>\n",
       "  <tbody>\n",
       "    <tr>\n",
       "      <th>0</th>\n",
       "      <td>1</td>\n",
       "      <td>1</td>\n",
       "      <td>38</td>\n",
       "      <td>1</td>\n",
       "      <td>1.0</td>\n",
       "      <td>22.0</td>\n",
       "      <td>3587</td>\n",
       "      <td>3</td>\n",
       "      <td>3.0</td>\n",
       "      <td>3</td>\n",
       "      <td>3</td>\n",
       "      <td>3</td>\n",
       "      <td>NaN</td>\n",
       "      <td>NaN</td>\n",
       "      <td>NaN</td>\n",
       "      <td>NaN</td>\n",
       "    </tr>\n",
       "    <tr>\n",
       "      <th>1</th>\n",
       "      <td>2</td>\n",
       "      <td>1</td>\n",
       "      <td>29</td>\n",
       "      <td>2</td>\n",
       "      <td>2.0</td>\n",
       "      <td>10.0</td>\n",
       "      <td>2963</td>\n",
       "      <td>1</td>\n",
       "      <td>5.0</td>\n",
       "      <td>2</td>\n",
       "      <td>1</td>\n",
       "      <td>3</td>\n",
       "      <td>NaN</td>\n",
       "      <td>NaN</td>\n",
       "      <td>NaN</td>\n",
       "      <td>NaN</td>\n",
       "    </tr>\n",
       "    <tr>\n",
       "      <th>2</th>\n",
       "      <td>3</td>\n",
       "      <td>1</td>\n",
       "      <td>30</td>\n",
       "      <td>1</td>\n",
       "      <td>1.0</td>\n",
       "      <td>7.0</td>\n",
       "      <td>1989</td>\n",
       "      <td>3</td>\n",
       "      <td>4.0</td>\n",
       "      <td>1</td>\n",
       "      <td>1</td>\n",
       "      <td>3</td>\n",
       "      <td>1.0</td>\n",
       "      <td>NaN</td>\n",
       "      <td>NaN</td>\n",
       "      <td>NaN</td>\n",
       "    </tr>\n",
       "    <tr>\n",
       "      <th>3</th>\n",
       "      <td>4</td>\n",
       "      <td>1</td>\n",
       "      <td>36</td>\n",
       "      <td>2</td>\n",
       "      <td>1.0</td>\n",
       "      <td>14.0</td>\n",
       "      <td>2144</td>\n",
       "      <td>3</td>\n",
       "      <td>3.0</td>\n",
       "      <td>3</td>\n",
       "      <td>3</td>\n",
       "      <td>3</td>\n",
       "      <td>1.0</td>\n",
       "      <td>NaN</td>\n",
       "      <td>NaN</td>\n",
       "      <td>NaN</td>\n",
       "    </tr>\n",
       "    <tr>\n",
       "      <th>4</th>\n",
       "      <td>5</td>\n",
       "      <td>1</td>\n",
       "      <td>24</td>\n",
       "      <td>1</td>\n",
       "      <td>2.0</td>\n",
       "      <td>4.0</td>\n",
       "      <td>2183</td>\n",
       "      <td>2</td>\n",
       "      <td>3.0</td>\n",
       "      <td>2</td>\n",
       "      <td>1</td>\n",
       "      <td>2</td>\n",
       "      <td>1.0</td>\n",
       "      <td>NaN</td>\n",
       "      <td>NaN</td>\n",
       "      <td>NaN</td>\n",
       "    </tr>\n",
       "  </tbody>\n",
       "</table>\n",
       "</div>"
      ],
      "text/plain": [
       "   nro  sukup  ikä  perhe  koulutus  palveluv  palkka  johto  työtov  työymp  \\\n",
       "0    1      1   38      1       1.0      22.0    3587      3     3.0       3   \n",
       "1    2      1   29      2       2.0      10.0    2963      1     5.0       2   \n",
       "2    3      1   30      1       1.0       7.0    1989      3     4.0       1   \n",
       "3    4      1   36      2       1.0      14.0    2144      3     3.0       3   \n",
       "4    5      1   24      1       2.0       4.0    2183      2     3.0       2   \n",
       "\n",
       "   palkkat  työteht  työterv  lomaosa  kuntosa  hieroja  \n",
       "0        3        3      NaN      NaN      NaN      NaN  \n",
       "1        1        3      NaN      NaN      NaN      NaN  \n",
       "2        1        3      1.0      NaN      NaN      NaN  \n",
       "3        3        3      1.0      NaN      NaN      NaN  \n",
       "4        1        2      1.0      NaN      NaN      NaN  "
      ]
     },
     "execution_count": 2,
     "metadata": {},
     "output_type": "execute_result"
    }
   ],
   "source": [
    "import pandas as pd\n",
    "import scipy.stats as stats\n",
    "\n",
    "df = pd.read_excel('https://taanila.fi/data1.xlsx')\n",
    "df.head()"
   ]
  },
  {
   "cell_type": "markdown",
   "metadata": {},
   "source": [
    "## Korrelaation ja järjestyskorrelaation testaus\n",
    "\n",
    "Testaukseen käytettävä **pearsonr**-funktio antaa virheilmoituksen, jos mukana olevilla muuttujilla on puuttuvia arvoja tai jos jompikumpi muuttujista on ei-numeerinen."
   ]
  },
  {
   "cell_type": "code",
   "execution_count": 3,
   "metadata": {},
   "outputs": [
    {
     "data": {
      "text/plain": [
       "PearsonRResult(statistic=0.2968719048961778, pvalue=0.006761514580108193)"
      ]
     },
     "execution_count": 3,
     "metadata": {},
     "output_type": "execute_result"
    }
   ],
   "source": [
    "# Poistan puuttuvia arvoja sisältävät rivit\n",
    "df_dropna = df.dropna(subset = ['ikä', 'palkka'])\n",
    "\n",
    "# Pearsonin korrelaatio ja 2-suuntainen p-arvo\n",
    "stats.pearsonr(df_dropna['ikä'], df_dropna['palkka'])"
   ]
  },
  {
   "cell_type": "markdown",
   "metadata": {},
   "source": [
    "Iän ja palkan välinen Pearsonin korrelaatio 0,30 on tilastollisesti merkitsevä (2-suuntainen p = 0,007)."
   ]
  },
  {
   "cell_type": "code",
   "execution_count": 4,
   "metadata": {},
   "outputs": [
    {
     "name": "stdout",
     "output_type": "stream",
     "text": [
      "r = 0.297, p = 0.007\n"
     ]
    }
   ],
   "source": [
    "# Näinkin korrelaatiokertoimen (r) ja p-arvon voi tulostaa\n",
    "r, p = stats.pearsonr(df_dropna['ikä'], df_dropna['palkka'])\n",
    "print(f'r = {r:.3f}, p = {p:.3f}')"
   ]
  },
  {
   "cell_type": "code",
   "execution_count": 5,
   "metadata": {},
   "outputs": [
    {
     "name": "stdout",
     "output_type": "stream",
     "text": [
      "r = 0.310, p = 0.005\n"
     ]
    }
   ],
   "source": [
    "# Spearmanin järjestyskorrelaatio ja 2-suuntainen p-arvo\n",
    "r, p = stats.spearmanr(df_dropna['ikä'], df_dropna['palkka'])\n",
    "print(f'r = {r:.3f}, p = {p:.3f}')"
   ]
  },
  {
   "cell_type": "markdown",
   "metadata": {},
   "source": [
    "Iän ja palkan välinen Spearmanin järjestyskorrelaatio 0,31 on tilastollisesti merkitsevä (2- suuntainen p = 0,005)."
   ]
  },
  {
   "cell_type": "markdown",
   "metadata": {},
   "source": [
    "## Ristiintaulukoinnin testaus (khiin neliö -testi)"
   ]
  },
  {
   "cell_type": "code",
   "execution_count": 6,
   "metadata": {},
   "outputs": [
    {
     "data": {
      "text/plain": [
       "(3.9518615218205753,\n",
       " 0.046819548114598535,\n",
       " 1,\n",
       " array([[23.81707317, 39.18292683],\n",
       "        [ 7.18292683, 11.81707317]]))"
      ]
     },
     "execution_count": 6,
     "metadata": {},
     "output_type": "execute_result"
    }
   ],
   "source": [
    "# Khiin neliö -testi: khiin neliö, p-arvo, vapausasteet, odotetut frekvenssit\n",
    "stats.chi2_contingency(pd.crosstab(df['sukup'], df['perhe']))"
   ]
  },
  {
   "cell_type": "markdown",
   "metadata": {},
   "source": [
    "Khiin neliö -testin tulosteena on khiin neliö -testimuuttujan arvo, p-arvo, vapausasteiden lukumäärä ja hypoteeettinen ristiintaulukointi tilanteessa, jossa riippuvuutta ei olisi lainkaan.\n",
    "\n",
    "Esimerkissämme sukupuolen ja perhesuhteen välinen riippuvuus on tilastollisesti merkitsevä (khiin neliö -testin p = 0,047)."
   ]
  },
  {
   "cell_type": "code",
   "execution_count": 7,
   "metadata": {},
   "outputs": [
    {
     "name": "stdout",
     "output_type": "stream",
     "text": [
      "p-arvo 0.047\n"
     ]
    }
   ],
   "source": [
    "# Jos haluat palkän p-arvon:\n",
    "p = stats.chi2_contingency(pd.crosstab(df['sukup'], df['perhe']))[1]\n",
    "print(f'p-arvo {p:.3f}')"
   ]
  },
  {
   "cell_type": "markdown",
   "metadata": {},
   "source": [
    "## Kahden riippumattoman otoksen t-testi"
   ]
  },
  {
   "cell_type": "code",
   "execution_count": 8,
   "metadata": {},
   "outputs": [
    {
     "name": "stdout",
     "output_type": "stream",
     "text": [
      "Miesten keskiarvo = 2664 euroa\n",
      "Naisten keskiarvo = 2233 euroa\n"
     ]
    },
    {
     "data": {
      "text/plain": [
       "Ttest_indResult(statistic=3.0597612743474714, pvalue=0.003048272029697872)"
      ]
     },
     "execution_count": 8,
     "metadata": {},
     "output_type": "execute_result"
    }
   ],
   "source": [
    "# Poistetaan puuttuvia palkkoja sisältävät rivit\n",
    "df_dropna = df.dropna(subset = ['palkka'])\n",
    "\n",
    "# Vertailtavat ryhmät\n",
    "miehet = df_dropna['palkka'][df_dropna['sukup']==1] \n",
    "naiset = df_dropna['palkka'][df_dropna['sukup']==2]\n",
    "\n",
    "print(f'Miesten keskiarvo = {miehet.mean():.0f} euroa')\n",
    "print(f'Naisten keskiarvo = {naiset.mean():.0f} euroa')\n",
    "\n",
    "# Riippumattomien otosten t-testin t ja 2-suuntainen p-arvo\n",
    "# equal_var = False: ei oleteta varianssien yhtäsuuruutta\n",
    "stats.ttest_ind(miehet, naiset, equal_var=False)"
   ]
  },
  {
   "cell_type": "markdown",
   "metadata": {},
   "source": [
    "Miesten (keskiarvo 2664 euroa) ja naisten (keskiarvo 2233 euroa) palkkakeskiarvojen välillä on tilastollisesti merkitsevä ero (kahden riippumattoman otoksen 2-suuntaisen t-testin p = 0,003)."
   ]
  },
  {
   "cell_type": "code",
   "execution_count": 9,
   "metadata": {},
   "outputs": [
    {
     "name": "stdout",
     "output_type": "stream",
     "text": [
      "p-arvo 0.003\n"
     ]
    }
   ],
   "source": [
    "# Jos haluat pelkän p-arvon:\n",
    "p = stats.ttest_ind(miehet, naiset, equal_var=False)[1]\n",
    "print(f'p-arvo {p:.3f}')"
   ]
  },
  {
   "cell_type": "markdown",
   "metadata": {},
   "source": [
    "## Mann-Whitney U -testi\n",
    "\n",
    "Voidaan käyttää t-testin sijasta, jos t-testin edeltävyysehdot eivät täyty."
   ]
  },
  {
   "cell_type": "code",
   "execution_count": 10,
   "metadata": {},
   "outputs": [
    {
     "data": {
      "text/plain": [
       "MannwhitneyuResult(statistic=786.5, pvalue=0.039222305430818116)"
      ]
     },
     "execution_count": 10,
     "metadata": {},
     "output_type": "execute_result"
    }
   ],
   "source": [
    "# Poistetaan puuttuvia palkkoja sisältävät rivit\n",
    "df_dropna = df.dropna(subset = ['palkka'])\n",
    "\n",
    "# Vertailtavat ryhmät\n",
    "miehet = df_dropna['palkka'][df_dropna['sukup'] == 1] #Mies\n",
    "naiset = df_dropna['palkka'][df_dropna['sukup'] == 2] #Nainen\n",
    "\n",
    "# Mann-Whithney U -testin U ja 2-suuntainen p-arvo\n",
    "stats.mannwhitneyu(miehet, naiset)"
   ]
  },
  {
   "cell_type": "markdown",
   "metadata": {},
   "source": [
    "Mann-Whitney U -testin mukaan miesten ja naisten palkkojen välillä on tilastollisesti merkitsevä ero (p = 0,039)."
   ]
  },
  {
   "cell_type": "code",
   "execution_count": 11,
   "metadata": {},
   "outputs": [
    {
     "name": "stdout",
     "output_type": "stream",
     "text": [
      "p-arvo 0.039\n"
     ]
    }
   ],
   "source": [
    "# Jos haluat pelkän p-arvon:\n",
    "p = stats.mannwhitneyu(miehet, naiset)[1]\n",
    "print(f'p-arvo {p:.3f}')"
   ]
  },
  {
   "cell_type": "markdown",
   "metadata": {},
   "source": [
    "## Yksisuuntainen varianssianalyysi"
   ]
  },
  {
   "cell_type": "code",
   "execution_count": 12,
   "metadata": {},
   "outputs": [
    {
     "data": {
      "text/plain": [
       "F_onewayResult(statistic=11.675086950951924, pvalue=2.186573534680074e-06)"
      ]
     },
     "execution_count": 12,
     "metadata": {},
     "output_type": "execute_result"
    }
   ],
   "source": [
    "# Poistetaan puuttuvia palkkoja sisältävät rivit\n",
    "df_dropna = df.dropna(subset = ['palkka'])\n",
    "\n",
    "# Vertailtavat ryhmät\n",
    "k1 = df_dropna['palkka'][df_dropna['koulutus'] == 1] #peruskoulu\n",
    "k2 = df_dropna['palkka'][df_dropna['koulutus'] == 2] #2. aste\n",
    "k3 = df_dropna['palkka'][df_dropna['koulutus'] == 3] #korkeakoulu\n",
    "k4 = df_dropna['palkka'][df_dropna['koulutus'] == 4] #ylempi korkeakoulu\n",
    "\n",
    "# Yksisuuntaisen varianssianalyysin F ja p-arvo\n",
    "stats.f_oneway(k1, k2, k3, k4)"
   ]
  },
  {
   "cell_type": "markdown",
   "metadata": {},
   "source": [
    "Palkkakeskiarvoissa on tilastollisesti merkitseviä eroja eri koulutustasojen välillä (yksisuuntaisen varianssianalyysin p < 0,001)."
   ]
  },
  {
   "cell_type": "code",
   "execution_count": 13,
   "metadata": {},
   "outputs": [
    {
     "name": "stdout",
     "output_type": "stream",
     "text": [
      "p-arvo 0.000\n"
     ]
    }
   ],
   "source": [
    "# Jos haluat pelkän p-arvon:\n",
    "p = stats.f_oneway(k1, k2, k3, k4)[1]\n",
    "print(f'p-arvo {p:.3f}')"
   ]
  },
  {
   "cell_type": "markdown",
   "metadata": {},
   "source": [
    "## Kruskall-Wallis-testi\n",
    "\n",
    "Voidaan käyttää yksisuuntaisen varianssianalyysin sijasta, jos varianssianalyysin edeltävyysehdot eivät täyty."
   ]
  },
  {
   "cell_type": "code",
   "execution_count": 14,
   "metadata": {},
   "outputs": [
    {
     "data": {
      "text/plain": [
       "KruskalResult(statistic=10.983022700942131, pvalue=0.011818033370911517)"
      ]
     },
     "execution_count": 14,
     "metadata": {},
     "output_type": "execute_result"
    }
   ],
   "source": [
    "# Poistetaan puuttuvia palkkoja sisältävät rivit\n",
    "df_dropna = df.dropna(subset = ['palkka'])\n",
    "\n",
    "# Vertailtavat ryhmät\n",
    "k1 = df_dropna['palkka'][df_dropna['koulutus'] == 1] #peruskoulu\n",
    "k2 = df_dropna['palkka'][df_dropna['koulutus'] == 2] #2. aste\n",
    "k3 = df_dropna['palkka'][df_dropna['koulutus'] == 3] #korkeakoulu\n",
    "k4 = df_dropna['palkka'][df_dropna['koulutus'] == 4] #ylempi korkeakoulu\n",
    "\n",
    "#Kruskal-Wallis -testin H ja p-arvo\n",
    "stats.kruskal(k1, k2, k3, k4)"
   ]
  },
  {
   "cell_type": "markdown",
   "metadata": {},
   "source": [
    "Kruskall-Wallis -testin mukaan palkoissa on tilastollisesti merkitseviä eroja eri koulutustasoilla (p = 0,012)."
   ]
  },
  {
   "cell_type": "code",
   "execution_count": 15,
   "metadata": {},
   "outputs": [
    {
     "name": "stdout",
     "output_type": "stream",
     "text": [
      "p-arvo 0.012\n"
     ]
    }
   ],
   "source": [
    "# Jos haluat pelkän p-arvon:\n",
    "p = stats.kruskal(k1, k2, k3, k4)[1]\n",
    "print(f'p-arvo {p:.3f}')"
   ]
  },
  {
   "cell_type": "markdown",
   "metadata": {},
   "source": [
    "## Lisätietoa\n",
    "\n",
    "Testien tarkemmat tiedot edeltävyysehtoineen:\n",
    "\n",
    "https://docs.scipy.org/doc/scipy/reference/generated/scipy.stats.pearsonr.html#scipy.stats.pearsonr\n",
    "\n",
    "https://docs.scipy.org/doc/scipy/reference/generated/scipy.stats.spearmanr.html\n",
    "\n",
    "https://docs.scipy.org/doc/scipy/reference/generated/scipy.stats.chi2_contingency.html#scipy.stats.chi2_contingency\n",
    "\n",
    "https://docs.scipy.org/doc/scipy/reference/generated/scipy.stats.ttest_ind.html\n",
    "\n",
    "https://docs.scipy.org/doc/scipy/reference/generated/scipy.stats.mannwhitneyu.html\n",
    "\n",
    "https://docs.scipy.org/doc/scipy/reference/generated/scipy.stats.f_oneway.html#scipy.stats.f_oneway\n",
    "\n",
    "https://docs.scipy.org/doc/scipy/reference/generated/scipy.stats.kruskal.html#scipy.stats.kruskal\n",
    "\n",
    "Lisää testejä ja tilastollisia funktioita:\n",
    "\n",
    "https://docs.scipy.org/doc/scipy/reference/stats.html\n",
    "\n",
    "\n",
    "Data-analytiikka Pythonilla: https://tilastoapu.wordpress.com/python/"
   ]
  }
 ],
 "metadata": {
  "kernelspec": {
   "display_name": "Python 3 (ipykernel)",
   "language": "python",
   "name": "python3"
  },
  "language_info": {
   "codemirror_mode": {
    "name": "ipython",
    "version": 3
   },
   "file_extension": ".py",
   "mimetype": "text/x-python",
   "name": "python",
   "nbconvert_exporter": "python",
   "pygments_lexer": "ipython3",
   "version": "3.9.13"
  }
 },
 "nbformat": 4,
 "nbformat_minor": 2
}
