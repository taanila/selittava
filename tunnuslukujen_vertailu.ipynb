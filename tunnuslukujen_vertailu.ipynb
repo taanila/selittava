{
 "cells": [
  {
   "cell_type": "code",
   "execution_count": 1,
   "metadata": {},
   "outputs": [
    {
     "name": "stdout",
     "output_type": "stream",
     "text": [
      "Päivitetty 2022-04-25 / Aki Taanila\n"
     ]
    }
   ],
   "source": [
    "from datetime import datetime\n",
    "print(f'Päivitetty {datetime.now().date()} / Aki Taanila')"
   ]
  },
  {
   "cell_type": "markdown",
   "metadata": {},
   "source": [
    "# Tunnuslukujen vertailua ryhmien välillä\n",
    "\n",
    "Määrälliselle muuttujalle laskettuja tilastollisia tunnuslukuja voin vertailla kategorisen muuttujan määräämissä ryhmissä."
   ]
  },
  {
   "cell_type": "code",
   "execution_count": 2,
   "metadata": {},
   "outputs": [],
   "source": [
    "import pandas as pd\n",
    "import matplotlib.pyplot as plt\n",
    "import seaborn as sns\n",
    "\n",
    "# t-testi ja F-testi merkitsevyyden testaamiseen\n",
    "from scipy.stats import ttest_ind, f_oneway\n",
    "\n",
    "plt.style.use('seaborn-whitegrid')"
   ]
  },
  {
   "cell_type": "code",
   "execution_count": 3,
   "metadata": {},
   "outputs": [
    {
     "data": {
      "text/html": [
       "<div>\n",
       "<style scoped>\n",
       "    .dataframe tbody tr th:only-of-type {\n",
       "        vertical-align: middle;\n",
       "    }\n",
       "\n",
       "    .dataframe tbody tr th {\n",
       "        vertical-align: top;\n",
       "    }\n",
       "\n",
       "    .dataframe thead th {\n",
       "        text-align: right;\n",
       "    }\n",
       "</style>\n",
       "<table border=\"1\" class=\"dataframe\">\n",
       "  <thead>\n",
       "    <tr style=\"text-align: right;\">\n",
       "      <th></th>\n",
       "      <th>nro</th>\n",
       "      <th>sukup</th>\n",
       "      <th>ikä</th>\n",
       "      <th>perhe</th>\n",
       "      <th>koulutus</th>\n",
       "      <th>palveluv</th>\n",
       "      <th>palkka</th>\n",
       "      <th>johto</th>\n",
       "      <th>työtov</th>\n",
       "      <th>työymp</th>\n",
       "      <th>palkkat</th>\n",
       "      <th>työteht</th>\n",
       "      <th>työterv</th>\n",
       "      <th>lomaosa</th>\n",
       "      <th>kuntosa</th>\n",
       "      <th>hieroja</th>\n",
       "    </tr>\n",
       "  </thead>\n",
       "  <tbody>\n",
       "    <tr>\n",
       "      <th>0</th>\n",
       "      <td>1</td>\n",
       "      <td>1</td>\n",
       "      <td>38</td>\n",
       "      <td>1</td>\n",
       "      <td>1.0</td>\n",
       "      <td>22.0</td>\n",
       "      <td>3587</td>\n",
       "      <td>3</td>\n",
       "      <td>3.0</td>\n",
       "      <td>3</td>\n",
       "      <td>3</td>\n",
       "      <td>3</td>\n",
       "      <td>NaN</td>\n",
       "      <td>NaN</td>\n",
       "      <td>NaN</td>\n",
       "      <td>NaN</td>\n",
       "    </tr>\n",
       "    <tr>\n",
       "      <th>1</th>\n",
       "      <td>2</td>\n",
       "      <td>1</td>\n",
       "      <td>29</td>\n",
       "      <td>2</td>\n",
       "      <td>2.0</td>\n",
       "      <td>10.0</td>\n",
       "      <td>2963</td>\n",
       "      <td>1</td>\n",
       "      <td>5.0</td>\n",
       "      <td>2</td>\n",
       "      <td>1</td>\n",
       "      <td>3</td>\n",
       "      <td>NaN</td>\n",
       "      <td>NaN</td>\n",
       "      <td>NaN</td>\n",
       "      <td>NaN</td>\n",
       "    </tr>\n",
       "    <tr>\n",
       "      <th>2</th>\n",
       "      <td>3</td>\n",
       "      <td>1</td>\n",
       "      <td>30</td>\n",
       "      <td>1</td>\n",
       "      <td>1.0</td>\n",
       "      <td>7.0</td>\n",
       "      <td>1989</td>\n",
       "      <td>3</td>\n",
       "      <td>4.0</td>\n",
       "      <td>1</td>\n",
       "      <td>1</td>\n",
       "      <td>3</td>\n",
       "      <td>1.0</td>\n",
       "      <td>NaN</td>\n",
       "      <td>NaN</td>\n",
       "      <td>NaN</td>\n",
       "    </tr>\n",
       "    <tr>\n",
       "      <th>3</th>\n",
       "      <td>4</td>\n",
       "      <td>1</td>\n",
       "      <td>36</td>\n",
       "      <td>2</td>\n",
       "      <td>1.0</td>\n",
       "      <td>14.0</td>\n",
       "      <td>2144</td>\n",
       "      <td>3</td>\n",
       "      <td>3.0</td>\n",
       "      <td>3</td>\n",
       "      <td>3</td>\n",
       "      <td>3</td>\n",
       "      <td>1.0</td>\n",
       "      <td>NaN</td>\n",
       "      <td>NaN</td>\n",
       "      <td>NaN</td>\n",
       "    </tr>\n",
       "    <tr>\n",
       "      <th>4</th>\n",
       "      <td>5</td>\n",
       "      <td>1</td>\n",
       "      <td>24</td>\n",
       "      <td>1</td>\n",
       "      <td>2.0</td>\n",
       "      <td>4.0</td>\n",
       "      <td>2183</td>\n",
       "      <td>2</td>\n",
       "      <td>3.0</td>\n",
       "      <td>2</td>\n",
       "      <td>1</td>\n",
       "      <td>2</td>\n",
       "      <td>1.0</td>\n",
       "      <td>NaN</td>\n",
       "      <td>NaN</td>\n",
       "      <td>NaN</td>\n",
       "    </tr>\n",
       "    <tr>\n",
       "      <th>...</th>\n",
       "      <td>...</td>\n",
       "      <td>...</td>\n",
       "      <td>...</td>\n",
       "      <td>...</td>\n",
       "      <td>...</td>\n",
       "      <td>...</td>\n",
       "      <td>...</td>\n",
       "      <td>...</td>\n",
       "      <td>...</td>\n",
       "      <td>...</td>\n",
       "      <td>...</td>\n",
       "      <td>...</td>\n",
       "      <td>...</td>\n",
       "      <td>...</td>\n",
       "      <td>...</td>\n",
       "      <td>...</td>\n",
       "    </tr>\n",
       "    <tr>\n",
       "      <th>77</th>\n",
       "      <td>78</td>\n",
       "      <td>1</td>\n",
       "      <td>22</td>\n",
       "      <td>1</td>\n",
       "      <td>3.0</td>\n",
       "      <td>0.0</td>\n",
       "      <td>1598</td>\n",
       "      <td>4</td>\n",
       "      <td>4.0</td>\n",
       "      <td>4</td>\n",
       "      <td>3</td>\n",
       "      <td>4</td>\n",
       "      <td>NaN</td>\n",
       "      <td>1.0</td>\n",
       "      <td>1.0</td>\n",
       "      <td>NaN</td>\n",
       "    </tr>\n",
       "    <tr>\n",
       "      <th>78</th>\n",
       "      <td>79</td>\n",
       "      <td>1</td>\n",
       "      <td>33</td>\n",
       "      <td>1</td>\n",
       "      <td>1.0</td>\n",
       "      <td>2.0</td>\n",
       "      <td>1638</td>\n",
       "      <td>1</td>\n",
       "      <td>3.0</td>\n",
       "      <td>2</td>\n",
       "      <td>1</td>\n",
       "      <td>2</td>\n",
       "      <td>1.0</td>\n",
       "      <td>NaN</td>\n",
       "      <td>NaN</td>\n",
       "      <td>NaN</td>\n",
       "    </tr>\n",
       "    <tr>\n",
       "      <th>79</th>\n",
       "      <td>80</td>\n",
       "      <td>1</td>\n",
       "      <td>27</td>\n",
       "      <td>1</td>\n",
       "      <td>2.0</td>\n",
       "      <td>7.0</td>\n",
       "      <td>2612</td>\n",
       "      <td>3</td>\n",
       "      <td>4.0</td>\n",
       "      <td>3</td>\n",
       "      <td>3</td>\n",
       "      <td>3</td>\n",
       "      <td>1.0</td>\n",
       "      <td>NaN</td>\n",
       "      <td>1.0</td>\n",
       "      <td>NaN</td>\n",
       "    </tr>\n",
       "    <tr>\n",
       "      <th>80</th>\n",
       "      <td>81</td>\n",
       "      <td>1</td>\n",
       "      <td>35</td>\n",
       "      <td>2</td>\n",
       "      <td>2.0</td>\n",
       "      <td>16.0</td>\n",
       "      <td>2808</td>\n",
       "      <td>3</td>\n",
       "      <td>4.0</td>\n",
       "      <td>3</td>\n",
       "      <td>3</td>\n",
       "      <td>3</td>\n",
       "      <td>NaN</td>\n",
       "      <td>NaN</td>\n",
       "      <td>NaN</td>\n",
       "      <td>NaN</td>\n",
       "    </tr>\n",
       "    <tr>\n",
       "      <th>81</th>\n",
       "      <td>82</td>\n",
       "      <td>2</td>\n",
       "      <td>35</td>\n",
       "      <td>2</td>\n",
       "      <td>3.0</td>\n",
       "      <td>15.0</td>\n",
       "      <td>2183</td>\n",
       "      <td>3</td>\n",
       "      <td>4.0</td>\n",
       "      <td>4</td>\n",
       "      <td>3</td>\n",
       "      <td>4</td>\n",
       "      <td>1.0</td>\n",
       "      <td>NaN</td>\n",
       "      <td>NaN</td>\n",
       "      <td>NaN</td>\n",
       "    </tr>\n",
       "  </tbody>\n",
       "</table>\n",
       "<p>82 rows × 16 columns</p>\n",
       "</div>"
      ],
      "text/plain": [
       "    nro  sukup  ikä  perhe  koulutus  palveluv  palkka  johto  työtov  työymp  \\\n",
       "0     1      1   38      1       1.0      22.0    3587      3     3.0       3   \n",
       "1     2      1   29      2       2.0      10.0    2963      1     5.0       2   \n",
       "2     3      1   30      1       1.0       7.0    1989      3     4.0       1   \n",
       "3     4      1   36      2       1.0      14.0    2144      3     3.0       3   \n",
       "4     5      1   24      1       2.0       4.0    2183      2     3.0       2   \n",
       "..  ...    ...  ...    ...       ...       ...     ...    ...     ...     ...   \n",
       "77   78      1   22      1       3.0       0.0    1598      4     4.0       4   \n",
       "78   79      1   33      1       1.0       2.0    1638      1     3.0       2   \n",
       "79   80      1   27      1       2.0       7.0    2612      3     4.0       3   \n",
       "80   81      1   35      2       2.0      16.0    2808      3     4.0       3   \n",
       "81   82      2   35      2       3.0      15.0    2183      3     4.0       4   \n",
       "\n",
       "    palkkat  työteht  työterv  lomaosa  kuntosa  hieroja  \n",
       "0         3        3      NaN      NaN      NaN      NaN  \n",
       "1         1        3      NaN      NaN      NaN      NaN  \n",
       "2         1        3      1.0      NaN      NaN      NaN  \n",
       "3         3        3      1.0      NaN      NaN      NaN  \n",
       "4         1        2      1.0      NaN      NaN      NaN  \n",
       "..      ...      ...      ...      ...      ...      ...  \n",
       "77        3        4      NaN      1.0      1.0      NaN  \n",
       "78        1        2      1.0      NaN      NaN      NaN  \n",
       "79        3        3      1.0      NaN      1.0      NaN  \n",
       "80        3        3      NaN      NaN      NaN      NaN  \n",
       "81        3        4      1.0      NaN      NaN      NaN  \n",
       "\n",
       "[82 rows x 16 columns]"
      ]
     },
     "execution_count": 3,
     "metadata": {},
     "output_type": "execute_result"
    }
   ],
   "source": [
    "df = pd.read_excel('http://taanila.fi/data1.xlsx')\n",
    "df"
   ]
  },
  {
   "cell_type": "code",
   "execution_count": 4,
   "metadata": {},
   "outputs": [],
   "source": [
    "# Sukupuolen ja koulutuksen tekstimuotoiset arvot\n",
    "sukup = ['Mies', 'Nainen']\n",
    "koulutus = ['Peruskoulu', '2. aste', 'Korkeakoulu', 'Ylempi korkeakoulu']"
   ]
  },
  {
   "cell_type": "markdown",
   "metadata": {},
   "source": [
    "## groupby + describe\n",
    "\n",
    "Voit jakaa datan ryhmiin **groupby**-funktiolla ja laskea tilastolliset tunnusluvut **describe**-funktiolla"
   ]
  },
  {
   "cell_type": "code",
   "execution_count": 5,
   "metadata": {},
   "outputs": [
    {
     "data": {
      "text/html": [
       "<style type=\"text/css\">\n",
       "</style>\n",
       "<table id=\"T_5ceef_\">\n",
       "  <thead>\n",
       "    <tr>\n",
       "      <th class=\"blank level0\" >&nbsp;</th>\n",
       "      <th class=\"col_heading level0 col0\" >Lukumäärä</th>\n",
       "      <th class=\"col_heading level0 col1\" >Keskiarvo</th>\n",
       "      <th class=\"col_heading level0 col2\" >Keskihajonta</th>\n",
       "      <th class=\"col_heading level0 col3\" >Pienin</th>\n",
       "      <th class=\"col_heading level0 col4\" >Alaneljännes</th>\n",
       "      <th class=\"col_heading level0 col5\" >Mediaani</th>\n",
       "      <th class=\"col_heading level0 col6\" >Yläneljännes</th>\n",
       "      <th class=\"col_heading level0 col7\" >Suurin</th>\n",
       "    </tr>\n",
       "  </thead>\n",
       "  <tbody>\n",
       "    <tr>\n",
       "      <th id=\"T_5ceef_level0_row0\" class=\"row_heading level0 row0\" >Mies</th>\n",
       "      <td id=\"T_5ceef_row0_col0\" class=\"data row0 col0\" >63</td>\n",
       "      <td id=\"T_5ceef_row0_col1\" class=\"data row0 col1\" >2664</td>\n",
       "      <td id=\"T_5ceef_row0_col2\" class=\"data row0 col2\" >930</td>\n",
       "      <td id=\"T_5ceef_row0_col3\" class=\"data row0 col3\" >1521</td>\n",
       "      <td id=\"T_5ceef_row0_col4\" class=\"data row0 col4\" >2086</td>\n",
       "      <td id=\"T_5ceef_row0_col5\" class=\"data row0 col5\" >2417</td>\n",
       "      <td id=\"T_5ceef_row0_col6\" class=\"data row0 col6\" >2925</td>\n",
       "      <td id=\"T_5ceef_row0_col7\" class=\"data row0 col7\" >6278</td>\n",
       "    </tr>\n",
       "    <tr>\n",
       "      <th id=\"T_5ceef_level0_row1\" class=\"row_heading level0 row1\" >Nainen</th>\n",
       "      <td id=\"T_5ceef_row1_col0\" class=\"data row1 col0\" >19</td>\n",
       "      <td id=\"T_5ceef_row1_col1\" class=\"data row1 col1\" >2233</td>\n",
       "      <td id=\"T_5ceef_row1_col2\" class=\"data row1 col2\" >341</td>\n",
       "      <td id=\"T_5ceef_row1_col3\" class=\"data row1 col3\" >1715</td>\n",
       "      <td id=\"T_5ceef_row1_col4\" class=\"data row1 col4\" >1969</td>\n",
       "      <td id=\"T_5ceef_row1_col5\" class=\"data row1 col5\" >2144</td>\n",
       "      <td id=\"T_5ceef_row1_col6\" class=\"data row1 col6\" >2574</td>\n",
       "      <td id=\"T_5ceef_row1_col7\" class=\"data row1 col7\" >2729</td>\n",
       "    </tr>\n",
       "  </tbody>\n",
       "</table>\n"
      ],
      "text/plain": [
       "<pandas.io.formats.style.Styler at 0x19502a2b3a0>"
      ]
     },
     "execution_count": 5,
     "metadata": {},
     "output_type": "execute_result"
    }
   ],
   "source": [
    "# Palkan tunnuslukujen vertailu sukupuolen mukaan\n",
    "df1 = df.groupby('sukup')['palkka'].describe()\n",
    "\n",
    "# Taulukon otsikot\n",
    "df1.index = sukup\n",
    "\n",
    "# Tunnusluvuille suomenkieliset nimet\n",
    "df1.columns = ['Lukumäärä', 'Keskiarvo', 'Keskihajonta', 'Pienin', 'Alaneljännes', \n",
    "               'Mediaani', 'Yläneljännes', 'Suurin']\n",
    "\n",
    "# Ulkoasun tuunaus\n",
    "df1.style.format('{:.0f}')"
   ]
  },
  {
   "cell_type": "code",
   "execution_count": 6,
   "metadata": {
    "scrolled": true
   },
   "outputs": [
    {
     "data": {
      "text/html": [
       "<style type=\"text/css\">\n",
       "</style>\n",
       "<table id=\"T_5ddc4_\">\n",
       "  <thead>\n",
       "    <tr>\n",
       "      <th class=\"blank level0\" >&nbsp;</th>\n",
       "      <th class=\"col_heading level0 col0\" >count</th>\n",
       "      <th class=\"col_heading level0 col1\" >mean</th>\n",
       "      <th class=\"col_heading level0 col2\" >std</th>\n",
       "      <th class=\"col_heading level0 col3\" >min</th>\n",
       "      <th class=\"col_heading level0 col4\" >25%</th>\n",
       "      <th class=\"col_heading level0 col5\" >50%</th>\n",
       "      <th class=\"col_heading level0 col6\" >75%</th>\n",
       "      <th class=\"col_heading level0 col7\" >max</th>\n",
       "    </tr>\n",
       "  </thead>\n",
       "  <tbody>\n",
       "    <tr>\n",
       "      <th id=\"T_5ddc4_level0_row0\" class=\"row_heading level0 row0\" >Peruskoulu</th>\n",
       "      <td id=\"T_5ddc4_row0_col0\" class=\"data row0 col0\" >27</td>\n",
       "      <td id=\"T_5ddc4_row0_col1\" class=\"data row0 col1\" >2310</td>\n",
       "      <td id=\"T_5ddc4_row0_col2\" class=\"data row0 col2\" >473</td>\n",
       "      <td id=\"T_5ddc4_row0_col3\" class=\"data row0 col3\" >1638</td>\n",
       "      <td id=\"T_5ddc4_row0_col4\" class=\"data row0 col4\" >2008</td>\n",
       "      <td id=\"T_5ddc4_row0_col5\" class=\"data row0 col5\" >2144</td>\n",
       "      <td id=\"T_5ddc4_row0_col6\" class=\"data row0 col6\" >2534</td>\n",
       "      <td id=\"T_5ddc4_row0_col7\" class=\"data row0 col7\" >3587</td>\n",
       "    </tr>\n",
       "    <tr>\n",
       "      <th id=\"T_5ddc4_level0_row1\" class=\"row_heading level0 row1\" >2. aste</th>\n",
       "      <td id=\"T_5ddc4_row1_col0\" class=\"data row1 col0\" >30</td>\n",
       "      <td id=\"T_5ddc4_row1_col1\" class=\"data row1 col1\" >2403</td>\n",
       "      <td id=\"T_5ddc4_row1_col2\" class=\"data row1 col2\" >534</td>\n",
       "      <td id=\"T_5ddc4_row1_col3\" class=\"data row1 col3\" >1521</td>\n",
       "      <td id=\"T_5ddc4_row1_col4\" class=\"data row1 col4\" >2008</td>\n",
       "      <td id=\"T_5ddc4_row1_col5\" class=\"data row1 col5\" >2378</td>\n",
       "      <td id=\"T_5ddc4_row1_col6\" class=\"data row1 col6\" >2729</td>\n",
       "      <td id=\"T_5ddc4_row1_col7\" class=\"data row1 col7\" >3510</td>\n",
       "    </tr>\n",
       "    <tr>\n",
       "      <th id=\"T_5ddc4_level0_row2\" class=\"row_heading level0 row2\" >Korkeakoulu</th>\n",
       "      <td id=\"T_5ddc4_row2_col0\" class=\"data row2 col0\" >22</td>\n",
       "      <td id=\"T_5ddc4_row2_col1\" class=\"data row2 col1\" >2887</td>\n",
       "      <td id=\"T_5ddc4_row2_col2\" class=\"data row2 col2\" >1108</td>\n",
       "      <td id=\"T_5ddc4_row2_col3\" class=\"data row2 col3\" >1559</td>\n",
       "      <td id=\"T_5ddc4_row2_col4\" class=\"data row2 col4\" >2222</td>\n",
       "      <td id=\"T_5ddc4_row2_col5\" class=\"data row2 col5\" >2710</td>\n",
       "      <td id=\"T_5ddc4_row2_col6\" class=\"data row2 col6\" >2925</td>\n",
       "      <td id=\"T_5ddc4_row2_col7\" class=\"data row2 col7\" >6278</td>\n",
       "    </tr>\n",
       "    <tr>\n",
       "      <th id=\"T_5ddc4_level0_row3\" class=\"row_heading level0 row3\" >Ylempi korkeakoulu</th>\n",
       "      <td id=\"T_5ddc4_row3_col0\" class=\"data row3 col0\" >2</td>\n",
       "      <td id=\"T_5ddc4_row3_col1\" class=\"data row3 col1\" >5147</td>\n",
       "      <td id=\"T_5ddc4_row3_col2\" class=\"data row3 col2\" >110</td>\n",
       "      <td id=\"T_5ddc4_row3_col3\" class=\"data row3 col3\" >5069</td>\n",
       "      <td id=\"T_5ddc4_row3_col4\" class=\"data row3 col4\" >5108</td>\n",
       "      <td id=\"T_5ddc4_row3_col5\" class=\"data row3 col5\" >5147</td>\n",
       "      <td id=\"T_5ddc4_row3_col6\" class=\"data row3 col6\" >5186</td>\n",
       "      <td id=\"T_5ddc4_row3_col7\" class=\"data row3 col7\" >5225</td>\n",
       "    </tr>\n",
       "  </tbody>\n",
       "</table>\n"
      ],
      "text/plain": [
       "<pandas.io.formats.style.Styler at 0x1957d3de9a0>"
      ]
     },
     "execution_count": 6,
     "metadata": {},
     "output_type": "execute_result"
    }
   ],
   "source": [
    "# Palkan tunnuslukujen vertailu koulutuksen mukaan\n",
    "df2 = df.groupby('koulutus')['palkka'].describe()\n",
    "\n",
    "# Taulukon otsikot\n",
    "df2.index = koulutus\n",
    "\n",
    "# Ulkoasun tuunaus\n",
    "df2.style.format('{:.0f}')"
   ]
  },
  {
   "cell_type": "markdown",
   "metadata": {},
   "source": [
    "## Ruutu- ja janakaavio eli boxplot\n",
    "\n",
    "Ruutu- ja janakaavio on havainnollinen tapa vertailuun. Kaavio näyttää viiden luvun yhteenvedon (pienin, alaneljännes, mediaani, yläneljännes, suurin) ja erityisen poikkeavat arvot."
   ]
  },
  {
   "cell_type": "code",
   "execution_count": 7,
   "metadata": {},
   "outputs": [
    {
     "data": {
      "text/plain": [
       "Text(0, 0.5, 'Kuukausipalkka')"
      ]
     },
     "execution_count": 7,
     "metadata": {},
     "output_type": "execute_result"
    },
    {
     "data": {
      "image/png": "[encoded data removed]",
      "text/plain": [
       "<Figure size 432x288 with 1 Axes>"
      ]
     },
     "metadata": {},
     "output_type": "display_data"
    }
   ],
   "source": [
    "# Palkan vertailu sukupuolen mukaan ruutu- ja janakaaviona\n",
    "sns.boxplot(x='sukup', y='palkka', data=df, showmeans=True)\n",
    "\n",
    "# Naisten ja miesten palkka-arvojen lukumäärät\n",
    "n_mies = int(df1.iloc[0, 0])\n",
    "n_nainen = int(df1.iloc[1, 0])\n",
    "\n",
    "# Kategoria-akselin luokkien uudelleen nimeäminen\n",
    "plt.xticks(ticks=[0, 1], labels=[f'Mies, n = {n_mies}', f'Nainen, n = {n_nainen}'])\n",
    "\n",
    "plt.xlabel('')\n",
    "plt.ylabel('Kuukausipalkka')"
   ]
  },
  {
   "cell_type": "code",
   "execution_count": 8,
   "metadata": {},
   "outputs": [
    {
     "data": {
      "text/plain": [
       "Text(0, 0.5, 'Kuukausipalkka')"
      ]
     },
     "execution_count": 8,
     "metadata": {},
     "output_type": "execute_result"
    },
    {
     "data": {
      "image/png": "[encoded data removed]",
      "text/plain": [
       "<Figure size 576x288 with 1 Axes>"
      ]
     },
     "metadata": {},
     "output_type": "display_data"
    }
   ],
   "source": [
    "# Palkan vertailu koulutuksen mukaan ruutu- ja janakaaviona\n",
    "\n",
    "# Pitkiä luokkien nimiöitä varten kasvatan kuvion kokoa\n",
    "plt.figure(figsize=(8, 4))\n",
    "\n",
    "sns.boxplot(x='koulutus', y='palkka', data=df, showmeans=True)\n",
    "\n",
    "# Pientä kikkailua n-arvojen saamiseksi kaavioon\n",
    "n_koulutus = []\n",
    "for i in range(4):\n",
    "    n_koulutus.append(f'{koulutus[i]}, n = {int(df2.iloc[i, 0])}')\n",
    "plt.xticks(ticks=[0, 1, 2, 3], labels=n_koulutus)\n",
    "\n",
    "plt.xlabel('')\n",
    "plt.ylabel('Kuukausipalkka')"
   ]
  },
  {
   "cell_type": "markdown",
   "metadata": {},
   "source": [
    "## pivot_table()\n",
    "\n",
    "Pivot-taulukkoon lasketaan oletuksena keskiarvoja."
   ]
  },
  {
   "cell_type": "code",
   "execution_count": 9,
   "metadata": {},
   "outputs": [
    {
     "data": {
      "text/html": [
       "<style type=\"text/css\">\n",
       "</style>\n",
       "<table id=\"T_60e73_\">\n",
       "  <thead>\n",
       "    <tr>\n",
       "      <th class=\"blank level0\" >&nbsp;</th>\n",
       "      <th class=\"col_heading level0 col0\" >Mies</th>\n",
       "      <th class=\"col_heading level0 col1\" >Nainen</th>\n",
       "      <th class=\"col_heading level0 col2\" >Kaikki</th>\n",
       "    </tr>\n",
       "  </thead>\n",
       "  <tbody>\n",
       "    <tr>\n",
       "      <th id=\"T_60e73_level0_row0\" class=\"row_heading level0 row0\" >Peruskoulu</th>\n",
       "      <td id=\"T_60e73_row0_col0\" class=\"data row0 col0\" >2354</td>\n",
       "      <td id=\"T_60e73_row0_col1\" class=\"data row0 col1\" >2121</td>\n",
       "      <td id=\"T_60e73_row0_col2\" class=\"data row0 col2\" >2310</td>\n",
       "    </tr>\n",
       "    <tr>\n",
       "      <th id=\"T_60e73_level0_row1\" class=\"row_heading level0 row1\" >2. aste</th>\n",
       "      <td id=\"T_60e73_row1_col0\" class=\"data row1 col0\" >2461</td>\n",
       "      <td id=\"T_60e73_row1_col1\" class=\"data row1 col1\" >2211</td>\n",
       "      <td id=\"T_60e73_row1_col2\" class=\"data row1 col2\" >2403</td>\n",
       "    </tr>\n",
       "    <tr>\n",
       "      <th id=\"T_60e73_level0_row2\" class=\"row_heading level0 row2\" >Korkeakoulu</th>\n",
       "      <td id=\"T_60e73_row2_col0\" class=\"data row2 col0\" >3145</td>\n",
       "      <td id=\"T_60e73_row2_col1\" class=\"data row2 col1\" >2334</td>\n",
       "      <td id=\"T_60e73_row2_col2\" class=\"data row2 col2\" >2887</td>\n",
       "    </tr>\n",
       "    <tr>\n",
       "      <th id=\"T_60e73_level0_row3\" class=\"row_heading level0 row3\" >Ylempi korkeakoulu</th>\n",
       "      <td id=\"T_60e73_row3_col0\" class=\"data row3 col0\" >5147</td>\n",
       "      <td id=\"T_60e73_row3_col1\" class=\"data row3 col1\" >-</td>\n",
       "      <td id=\"T_60e73_row3_col2\" class=\"data row3 col2\" >5147</td>\n",
       "    </tr>\n",
       "    <tr>\n",
       "      <th id=\"T_60e73_level0_row4\" class=\"row_heading level0 row4\" >Kaikki</th>\n",
       "      <td id=\"T_60e73_row4_col0\" class=\"data row4 col0\" >2675</td>\n",
       "      <td id=\"T_60e73_row4_col1\" class=\"data row4 col1\" >2233</td>\n",
       "      <td id=\"T_60e73_row4_col2\" class=\"data row4 col2\" >2571</td>\n",
       "    </tr>\n",
       "  </tbody>\n",
       "</table>\n"
      ],
      "text/plain": [
       "<pandas.io.formats.style.Styler at 0x19502a2b610>"
      ]
     },
     "execution_count": 9,
     "metadata": {},
     "output_type": "execute_result"
    }
   ],
   "source": [
    "# Palkkakeskiarvojen vertailua sukupuolen ja koulutuksen mukaan \n",
    "df3 = df.pivot_table(values='palkka', index='koulutus', columns='sukup', margins=True)\n",
    "\n",
    "# Tekstimuotoisten arvojen listoihin täytyy lisätä otsikko viimeistä riviä/saraketta varten (Kaikki)\n",
    "df3.index = koulutus + ['Kaikki']\n",
    "df3.columns = sukup + ['Kaikki']\n",
    "\n",
    "# Ulkoasun tuunaus\n",
    "df3.style.format('{:.0f}', na_rep='-')"
   ]
  },
  {
   "cell_type": "markdown",
   "metadata": {},
   "source": [
    "## Ovatko keskiarvojen erot tilastollisesti merkitseviä?\n",
    "\n",
    "Otoksessa havaitut ryhmien väliset erot voivat olla liian pieniä, jotta niitä voisi yleistää laajempaan perusjoukkoon, josta otos on otettu. Kyseessä voi olla otantavirheen (sattuman) aiheuttama ero.\n",
    "\n",
    "Eroa sanotaan merkitseväksi, jos sen perusteella voidaan tehdä yleistys laajempaan perusjoukkoon, josta otos on otettu. Eron merkitsevyyttä voidaan testata laskemalla niin kutsuttu **p-arvo**. Mitä pienempi p-arvo, sitä merkitsevämpi ero. Yleensä alle 0,05 (5 %) suuruisia p-arvoja pidetään osoituksena merkitsevästä erosta.\n",
    "\n",
    "Kahden ryhmän keskiarvojen vertailuun liittyvän p-arvon voit laskea kahden riippumattoman otoksen t-testillä (**ttest_ind**).\n",
    "\n",
    "Vertailtavien ryhmien varianssien yhtäsuuruutta ei yleensä kannata olettaa (**equal_var = False**).\n",
    "\n",
    "Puuttuvia arvoja sisältävät rivit eivät saa olla testin laskennasta mukana ja **nan_policy**-parametri huolehtii tästä."
   ]
  },
  {
   "cell_type": "code",
   "execution_count": 10,
   "metadata": {},
   "outputs": [
    {
     "data": {
      "text/plain": [
       "Ttest_indResult(statistic=3.0597612743474714, pvalue=0.003048272029697872)"
      ]
     },
     "execution_count": 10,
     "metadata": {},
     "output_type": "execute_result"
    }
   ],
   "source": [
    "# Vertailtavien ryhmien muodostaminen\n",
    "s1 = df['palkka'][df['sukup']==1] # miehet\n",
    "s2 = df['palkka'][df['sukup']==2] # naiset\n",
    "\n",
    "# Kahden riippumattoman (ind) otoksen t-testi\n",
    "ttest_ind(s1, s2, equal_var=False, nan_policy='omit')"
   ]
  },
  {
   "cell_type": "markdown",
   "metadata": {},
   "source": [
    "Miesten (keskiarvo 2664 euroa) ja naisten (keskiarvo 2233 euroa) palkkakeskiarvojen välillä on tilastollisesti merkitsevä ero (kahden riippumattoman otoksen 2-suuntaisen t-testin p = 0,003).\n",
    "\n",
    "Useamman ryhmän keskiarvojen vertailuun liittyvän p-arvon voit laskea F-testillä (**f_oneway**). \n",
    "\n",
    "Jos tarkasteltavalla muuttujalla on puuttuvia arvoja, niin alkuperäisen datan sijasta pitää käyttää dataa, josta puuttuvia arvoja sisältävät rivit on poistettu."
   ]
  },
  {
   "cell_type": "code",
   "execution_count": 11,
   "metadata": {},
   "outputs": [
    {
     "data": {
      "text/plain": [
       "F_onewayResult(statistic=11.675086950951924, pvalue=2.186573534680074e-06)"
      ]
     },
     "execution_count": 11,
     "metadata": {},
     "output_type": "execute_result"
    }
   ],
   "source": [
    "# Data, josta on poistettu mahdolliset palkan puuttuvia arvoja sisältävät rivit\n",
    "df_dropna = df.dropna(subset=['palkka'])\n",
    "\n",
    "# Vertailtavien ryhmien muodostaminen\n",
    "k1 = df_dropna['palkka'][df_dropna['koulutus']==1] # peruskoulu\n",
    "k2 = df_dropna['palkka'][df_dropna['koulutus']==2] # 2. aste\n",
    "k3 = df_dropna['palkka'][df_dropna['koulutus']==3] # korkeakoulu\n",
    "k4 = df_dropna['palkka'][df_dropna['koulutus']==4] # ylempi korkeakoulu\n",
    "\n",
    "# F-testi\n",
    "f_oneway(k1, k2, k3, k4)"
   ]
  },
  {
   "cell_type": "markdown",
   "metadata": {},
   "source": [
    "Eri koulutuksen suorittaneiden välillä on tilastollisesti merkitseviä eroja palkkakeskiarvoissa (F-testin p = 0,000002)."
   ]
  },
  {
   "cell_type": "markdown",
   "metadata": {},
   "source": [
    "## Lisätietoa\n",
    "\n",
    "* Onko ryhmien välinen ero tilastolliseti merkitsevä:\n",
    "https://tilastoapu.wordpress.com/2012/04/14/onko-ryhmien-valinen-ero-tilastollisesti-merkitseva/\n",
    "\n",
    "* Lisätietoa p-arvoista:\n",
    "https://tilastoapu.wordpress.com/2012/02/14/p-arvo/\n",
    "\n",
    "* p-arvoja Pythonilla eri testaustilanteisiin:\n",
    "https://nbviewer.jupyter.org/github/taanila/selittava/blob/main/p.ipynb\n",
    "\n",
    "Data-analytiikka Pythonilla: https://tilastoapu.wordpress.com/python/"
   ]
  }
 ],
 "metadata": {
  "kernelspec": {
   "display_name": "Python 3 (ipykernel)",
   "language": "python",
   "name": "python3"
  },
  "language_info": {
   "codemirror_mode": {
    "name": "ipython",
    "version": 3
   },
   "file_extension": ".py",
   "mimetype": "text/x-python",
   "name": "python",
   "nbconvert_exporter": "python",
   "pygments_lexer": "ipython3",
   "version": "3.9.7"
  }
 },
 "nbformat": 4,
 "nbformat_minor": 2
}
