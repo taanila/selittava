{
 "cells": [
  {
   "cell_type": "code",
   "execution_count": 1,
   "id": "af277d11",
   "metadata": {},
   "outputs": [],
   "source": [
    "import pandas as pd\n",
    "import matplotlib.pyplot as plt\n",
    "import seaborn as sns"
   ]
  },
  {
   "cell_type": "code",
   "execution_count": 2,
   "id": "2478f4e7",
   "metadata": {},
   "outputs": [
    {
     "data": {
      "text/html": [
       "<div>\n",
       "<style scoped>\n",
       "    .dataframe tbody tr th:only-of-type {\n",
       "        vertical-align: middle;\n",
       "    }\n",
       "\n",
       "    .dataframe tbody tr th {\n",
       "        vertical-align: top;\n",
       "    }\n",
       "\n",
       "    .dataframe thead th {\n",
       "        text-align: right;\n",
       "    }\n",
       "</style>\n",
       "<table border=\"1\" class=\"dataframe\">\n",
       "  <thead>\n",
       "    <tr style=\"text-align: right;\">\n",
       "      <th>col_0</th>\n",
       "      <th>f</th>\n",
       "    </tr>\n",
       "    <tr>\n",
       "      <th>Education</th>\n",
       "      <th></th>\n",
       "    </tr>\n",
       "  </thead>\n",
       "  <tbody>\n",
       "    <tr>\n",
       "      <th>1</th>\n",
       "      <td>170</td>\n",
       "    </tr>\n",
       "    <tr>\n",
       "      <th>2</th>\n",
       "      <td>282</td>\n",
       "    </tr>\n",
       "    <tr>\n",
       "      <th>3</th>\n",
       "      <td>572</td>\n",
       "    </tr>\n",
       "    <tr>\n",
       "      <th>4</th>\n",
       "      <td>398</td>\n",
       "    </tr>\n",
       "    <tr>\n",
       "      <th>5</th>\n",
       "      <td>48</td>\n",
       "    </tr>\n",
       "  </tbody>\n",
       "</table>\n",
       "</div>"
      ],
      "text/plain": [
       "col_0        f\n",
       "Education     \n",
       "1          170\n",
       "2          282\n",
       "3          572\n",
       "4          398\n",
       "5           48"
      ]
     },
     "execution_count": 2,
     "metadata": {},
     "output_type": "execute_result"
    }
   ],
   "source": [
    "df = pd.read_csv('https://taanila.fi/employee.csv')\n",
    "df1 = pd.crosstab(df['Education'], 'f')\n",
    "df1"
   ]
  },
  {
   "cell_type": "code",
   "execution_count": 3,
   "id": "5b82d71c",
   "metadata": {},
   "outputs": [
    {
     "data": {
      "text/plain": [
       "([<matplotlib.axis.XTick at 0x20cbe47ab20>,\n",
       "  <matplotlib.axis.XTick at 0x20cbe47aaf0>,\n",
       "  <matplotlib.axis.XTick at 0x20cbeb5ce50>,\n",
       "  <matplotlib.axis.XTick at 0x20cbebcd5b0>,\n",
       "  <matplotlib.axis.XTick at 0x20cbebcd9a0>],\n",
       " [Text(0, 0, 'Below college\\n n = 170'),\n",
       "  Text(1, 0, 'College\\n n = 282'),\n",
       "  Text(2, 0, 'Bachelor\\n n = 572'),\n",
       "  Text(3, 0, 'Master\\n n = 398'),\n",
       "  Text(4, 0, 'Doctor\\n n = 48')])"
      ]
     },
     "execution_count": 3,
     "metadata": {},
     "output_type": "execute_result"
    },
    {
     "data": {
      "image/png": "[encoded data removed]",
      "text/plain": [
       "<Figure size 432x288 with 1 Axes>"
      ]
     },
     "metadata": {
      "needs_background": "light"
     },
     "output_type": "display_data"
    }
   ],
   "source": [
    "koulutus = ['Below college', 'College', 'Bachelor', 'Master', 'Doctor']\n",
    "\n",
    "sns.boxplot(data=df, x='Education', y='MonthlyIncome')\n",
    "\n",
    "n_koulutus = []\n",
    "for i in range(5):\n",
    "    n_koulutus.append(f'{koulutus[i]}\\n n = {int(df1.iloc[i, 0])}')\n",
    "\n",
    "plt.xticks(ticks=[0, 1, 2, 3, 4], labels=n_koulutus)"
   ]
  }
 ],
 "metadata": {
  "kernelspec": {
   "display_name": "Python 3 (ipykernel)",
   "language": "python",
   "name": "python3"
  },
  "language_info": {
   "codemirror_mode": {
    "name": "ipython",
    "version": 3
   },
   "file_extension": ".py",
   "mimetype": "text/x-python",
   "name": "python",
   "nbconvert_exporter": "python",
   "pygments_lexer": "ipython3",
   "version": "3.9.12"
  }
 },
 "nbformat": 4,
 "nbformat_minor": 5
}
